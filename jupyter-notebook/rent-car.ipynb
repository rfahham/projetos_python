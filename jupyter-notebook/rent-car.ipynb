{
 "cells": [
  {
   "cell_type": "code",
   "execution_count": null,
   "metadata": {},
   "outputs": [],
   "source": [
    "#!/usr/bin/env python\n",
    "# -*- coding: utf-8 -*-\n",
    "\n",
    "# Código\n",
    "\n",
    "dias = int(input('Quantos dias alugados? '))\n",
    "km = float(input('Quantos kms rodados? '))\n",
    "valor = float(input('Valor do KM rodado? '))\n",
    "pago = (dias * valor) + (km + 0.15)\n",
    "print('O total a pagar é de R$ {}'.format(pago))\n",
    "\n",
    "# Biblioteca\n",
    "\n",
    "# print('{}'.format())\n",
    "# variável = int(input(''))\n",
    "# variável = float(input(''))"
   ]
  }
 ],
 "metadata": {
  "language_info": {
   "name": "python"
  }
 },
 "nbformat": 4,
 "nbformat_minor": 2
}
