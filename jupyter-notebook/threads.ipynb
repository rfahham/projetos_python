{
 "cells": [
  {
   "cell_type": "markdown",
   "metadata": {},
   "source": [
    "# CONCORRÊNCIA E PARALELISMO EM PYTHON\n",
    "\n",
    "Concorrência e Paralelismo na programação Python e como você pode aplicá-los no cotidiano de sua carreira como programador.\n",
    "\n",
    "## Vá Direto ao Assunto…\n",
    "\n",
    "- Concorrência vs Paralelismo: Afinal, o que é isso?\n",
    "- Threading, Multiprocessing e Asyncio\n",
    "- Desempenho e Escalabilidade\n",
    "\n",
    "## Concorrência vs Paralelismo: Afinal, o que é isso?\n",
    "Tanto concorrência quanto paralelismo são técnicas usadas para fazer com que um pedaço de código, ou seja, um programa, execute tarefas de maneira mais eficiente.\n",
    "\n",
    "Mas eles têm diferenças importantes:\n",
    "\n",
    "Concorrência é quando dois ou mais trabalhos podem começar, correr e completar em um período de tempo sobreposto.\n",
    "\n",
    "Em outras palavras, a concorrência acontece quando várias tarefas progridem juntas, mas não necessariamente ao mesmo tempo."
   ]
  },
  {
   "cell_type": "code",
   "execution_count": 1,
   "metadata": {},
   "outputs": [
    {
     "name": "stdout",
     "output_type": "stream",
     "text": [
      "Executando função 1\n",
      "Executando função 1\n",
      "Executando função 1\n",
      "Executando função 1\n",
      "Executando função 1\n",
      "Executando função 2\n",
      "Executando função 2\n",
      "Executando função 2\n",
      "Executando função 2\n",
      "Executando função 2\n"
     ]
    }
   ],
   "source": [
    "import threading\n",
    "\n",
    "def funcao_1():\n",
    "    for i in range(5):\n",
    "        print(\"Executando função 1\")\n",
    "\n",
    "def funcao_2():\n",
    "    for i in range(5):\n",
    "        print(\"Executando função 2\")\n",
    "        \n",
    "thread = threading.Thread(target=funcao_1)\n",
    "thread.start()\n",
    "\n",
    "funcao_2()"
   ]
  },
  {
   "cell_type": "code",
   "execution_count": 12,
   "metadata": {},
   "outputs": [
    {
     "name": "stdout",
     "output_type": "stream",
     "text": [
      "-----------------------\n",
      "Trabalhando com ASYNCIO\n",
      "-----------------------\n",
      "\n",
      "\n",
      "Todas as tarefas foram concluídas!\n"
     ]
    }
   ],
   "source": [
    "import asyncio\n",
    "\n",
    "print(\"-\"*23)\n",
    "print(\"Trabalhando com ASYNCIO\")\n",
    "print(\"-\"*23)\n",
    "print(\"\")\n",
    "\n",
    "async def worker():\n",
    "    print(\"Tarefa iniciada\")\n",
    "    await asyncio.sleep(2)\n",
    "    print(\"Tarefa terminada\")\n",
    "\n",
    "async def main():\n",
    "    # Criar tarefas\n",
    "    tasks = [worker() for _ in range(5)]\n",
    "    \n",
    "    # Aguardar todas as tarefas terminarem\n",
    "    await asyncio.gather(*tasks)\n",
    "\n",
    "    # Executar o loop de eventos\n",
    "    asyncio.run(main())\n",
    "\n",
    "print(\"\")\n",
    "print(\"Todas as tarefas foram concluídas!\")"
   ]
  },
  {
   "cell_type": "code",
   "execution_count": 10,
   "metadata": {},
   "outputs": [
    {
     "name": "stdout",
     "output_type": "stream",
     "text": [
      "----------------------------\n",
      "Trabalhando com CONCORRÊNCIA\n",
      "----------------------------\n",
      "\n",
      "Fazendo bolo chocolate...\n",
      "Bolo chocolate feito!\n",
      "Fazendo bolo cenoura...\n",
      "Bolo cenoura feito!\n",
      "\n",
      "Tempo total de execução foi de: 2.0019092559814453\n"
     ]
    }
   ],
   "source": [
    "from time import time, sleep\n",
    "\n",
    "print(\"-\"*28)\n",
    "print(\"Trabalhando com CONCORRÊNCIA\")\n",
    "print(\"-\"*28)\n",
    "print(\"\")\n",
    "\n",
    "def fazer_bolo(tipo):\n",
    "    print(f'Fazendo bolo {tipo}...')\n",
    "    sleep(1)\n",
    "    print(f'Bolo {tipo} feito!')\n",
    "\n",
    "inicio = time()\n",
    "fazer_bolo('chocolate')\n",
    "fazer_bolo('cenoura')\n",
    "\n",
    "print(\"\")\n",
    "print(f'Tempo total de execução foi de: {time() - inicio}')"
   ]
  },
  {
   "cell_type": "code",
   "execution_count": 9,
   "metadata": {},
   "outputs": [
    {
     "name": "stdout",
     "output_type": "stream",
     "text": [
      "------------------------------------\n",
      "Trabalhando com MULTIPROCESSAMENTO\n",
      "------------------------------------\n",
      "\n",
      "Processo iniciadoProcesso iniciado\n",
      "\n",
      "\n",
      "Processo iniciadoProcesso iniciado\n",
      "Processo iniciado\n",
      "Processo terminado\n",
      "Processo terminado\n",
      "Processo terminado\n",
      "Processo terminado\n",
      "Processo terminado\n",
      "\n",
      "Todos os processos foram concluídos!\n"
     ]
    }
   ],
   "source": [
    "import multiprocessing\n",
    "import time\n",
    "\n",
    "print(\"-\"*36)\n",
    "print(\"Trabalhando com MULTIPROCESSAMENTO\")\n",
    "print(\"-\"*36)\n",
    "print(\"\")\n",
    "\n",
    "def worker():\n",
    "    print(\"Processo iniciado\")\n",
    "    time.sleep(2)\n",
    "    print(\"Processo terminado\")\n",
    "\n",
    "# Criar processos\n",
    "processes = []\n",
    "for i in range(5):\n",
    "    p = multiprocessing.Process(target=worker)\n",
    "    processes.append(p)\n",
    "    p.start()\n",
    "\n",
    "# Aguardar todos os processos terminarem\n",
    "for p in processes:\n",
    "    p.join()\n",
    "\n",
    "print(\"\")\n",
    "print(\"Todos os processos foram concluídos!\")"
   ]
  },
  {
   "cell_type": "code",
   "execution_count": 8,
   "metadata": {},
   "outputs": [
    {
     "name": "stdout",
     "output_type": "stream",
     "text": [
      "---------------------------\n",
      "Trabalhando com PARALELISMO\n",
      "---------------------------\n",
      "\n",
      "Fazendo bolo chocolate...\n",
      "Fazendo bolo cenoura...\n",
      "Bolo chocolate feito!\n",
      "Bolo cenoura feito!\n",
      "\n",
      "Todas as threads foram concluídas!\n",
      "Tempo total de execução foi de: 1.033796787261963\n"
     ]
    }
   ],
   "source": [
    "from multiprocessing import Process\n",
    "from time import time, sleep\n",
    "\n",
    "print(\"-\"*27)\n",
    "print(\"Trabalhando com PARALELISMO\")\n",
    "print(\"-\"*27)\n",
    "print(\"\")\n",
    "\n",
    "def fazer_bolo(tipo):\n",
    "    print(f'Fazendo bolo {tipo}...')\n",
    "    sleep(1)\n",
    "    print(f'Bolo {tipo} feito!')\n",
    "\n",
    "inicio = time()\n",
    "p1 = Process(target=fazer_bolo, args=('chocolate',))  \n",
    "p2 = Process(target=fazer_bolo, args=('cenoura',))  \n",
    "\n",
    "p1.start()\n",
    "p2.start()\n",
    "\n",
    "p1.join()\n",
    "p2.join()\n",
    "\n",
    "print(\"\")\n",
    "print(\"Todas as threads foram concluídas!\")\n",
    "print(f'Tempo total de execução foi de: {time() - inicio}')"
   ]
  },
  {
   "cell_type": "code",
   "execution_count": 7,
   "metadata": {},
   "outputs": [
    {
     "name": "stdout",
     "output_type": "stream",
     "text": [
      "-------------------------\n",
      "Trabalhando com THREADING\n",
      "-------------------------\n",
      "\n",
      "Thread iniciada\n",
      "Thread iniciada\n",
      "Thread iniciada\n",
      "Thread iniciada\n",
      "Thread iniciada\n",
      "Thread terminada\n",
      "Thread terminada\n",
      "Thread terminada\n",
      "Thread terminada\n",
      "Thread terminada\n",
      "\n",
      "Todas as threads foram concluídas!\n"
     ]
    }
   ],
   "source": [
    "import threading\n",
    "import time\n",
    "\n",
    "print(\"-\"*25)\n",
    "print(\"Trabalhando com THREADING\")\n",
    "print(\"-\"*25)\n",
    "print(\"\")\n",
    "\n",
    "def worker():\n",
    "    print(\"Thread iniciada\")\n",
    "    time.sleep(2)\n",
    "    print(\"Thread terminada\")\n",
    "\n",
    "# Criar threads\n",
    "threads = []\n",
    "for i in range(5):\n",
    "    t = threading.Thread(target=worker)\n",
    "    threads.append(t)\n",
    "    t.start()\n",
    "\n",
    "# Aguardar todas as threads terminarem\n",
    "for t in threads:\n",
    "    t.join()\n",
    "\n",
    "print(\"\")\n",
    "print(\"Todas as threads foram concluídas!\")"
   ]
  },
  {
   "cell_type": "code",
   "execution_count": 1,
   "metadata": {},
   "outputs": [
    {
     "name": "stdout",
     "output_type": "stream",
     "text": [
      "Fazendo bolo chocolate...\n",
      "Bolo chocolate feito!\n",
      "Fazendo bolo cenoura...\n",
      "Bolo cenoura feito!\n",
      "Tempo total: 2.003593683242798\n"
     ]
    }
   ],
   "source": [
    "# Exemplo de uso da [concorrência](./ex-threading.py):\n",
    "\n",
    "from time import time, sleep\n",
    "\n",
    "def fazer_bolo(tipo):\n",
    "    print(f'Fazendo bolo {tipo}...')\n",
    "    sleep(1)\n",
    "    print(f'Bolo {tipo} feito!')\n",
    "\n",
    "inicio = time()\n",
    "fazer_bolo('chocolate')\n",
    "fazer_bolo('cenoura')\n",
    "\n",
    "print(f'Tempo total: {time() - inicio}')"
   ]
  },
  {
   "cell_type": "code",
   "execution_count": 2,
   "metadata": {},
   "outputs": [
    {
     "name": "stdout",
     "output_type": "stream",
     "text": [
      "Fazendo bolo chocolate...\n",
      "Fazendo bolo cenoura...\n",
      "Bolo chocolate feito!\n",
      "Bolo cenoura feito!\n",
      "Tempo total: 1.0294232368469238\n"
     ]
    }
   ],
   "source": [
    "# Já paralelismo, por outro lado, é quando duas ou mais tarefas são executadas ao mesmo tempo.\n",
    "\n",
    "# Exemplo de uso do [paralelismo](./ex-paralelismo.py):\n",
    "\n",
    "from multiprocessing import Process\n",
    "from time import time, sleep\n",
    "\n",
    "def fazer_bolo(tipo):\n",
    "    print(f'Fazendo bolo {tipo}...')\n",
    "    sleep(1)\n",
    "    print(f'Bolo {tipo} feito!')\n",
    "\n",
    "inicio = time()\n",
    "p1 = Process(target=fazer_bolo, args=('chocolate',))  \n",
    "p2 = Process(target=fazer_bolo, args=('cenoura',))  \n",
    "\n",
    "p1.start()\n",
    "p2.start()\n",
    "\n",
    "p1.join()\n",
    "p2.join()\n",
    "print(f'Tempo total: {time() - inicio}')"
   ]
  },
  {
   "cell_type": "markdown",
   "metadata": {},
   "source": [
    "Como pode ver, utilizamos duas bibliotecas diferentes para mostrar exemplos de concorrência (usa método sequencial) e paralelismo (usa multiprocessing.Process para atingir a execução simultânea).\n",
    "\n",
    "Os benefícios de entender e aplicar esses dois conceitos passam por desempenho, escalabilidade e construção de programas mais responsivos e eficientes.\n",
    "\n",
    "Contudo, existem desafios no seu uso, principalmente relacionados ao manuseio de recursos compartilhados e questões de segurança.\n",
    "\n",
    "## Threading, Multiprocessing e Asyncio\n",
    "\n",
    "- Threading permite a execução simultânea de várias threads dentro de um único processo, sendo ideal para operações I/O-bound (operações de entrada e saída, como leituras/gravações em disco, acesso a banco de dados ou acesso à uma API externa são exemplos), mas limitado pelo Global Interpreter Lock (GIL, explicação aqui embaixo).\n",
    "\n",
    "- Multiprocessing cria múltiplos processos independentes com seu próprio espaço de memória, perfeito para operações CPU-bound (operações com grande uso de CPU, como cálculos matemáticos, multiplicação de matrizes e etc), pois cada processo pode ser executado em um núcleo diferente do processador, evitando problemas de concorrência.\n",
    "\n",
    "- Asyncio oferece concorrência usando a sintaxe async/await em uma única thread, ideal para operações I/O-bound que envolvem muita espera, mas não adequado para tarefas que exigem paralelismo verdadeiro em operações CPU-bound.\n",
    "\n",
    "\n",
    "        Obs.: O GIL (Global Interpreter Lock) é um mecanismo do Python que garante que apenas uma thread execute o código Python por vez, mesmo que o programa tenha múltiplas threads. Imagine o GIL como uma chave que apenas uma thread pode segurar por vez para acessar o interpretador Python. Isso evita que duas threads modifiquem dados ao mesmo tempo e causem problemas. No entanto, isso também significa que, mesmo em um computador com múltiplos núcleos, apenas uma thread pode executar código Python por vez, o que pode limitar a performance em programas que fazem uso intenso de threads.\n",
    "\n",
    "## Threading, Multiprocessing e Asyncio em Python\n",
    "\n",
    "Agora veremos esses conceitos aplicados na programação Python!"
   ]
  },
  {
   "cell_type": "markdown",
   "metadata": {},
   "source": [
    "Threading\n",
    "Threading é uma forma de paralelismo que permite que várias operações ocorram simultaneamente dentro de um único processo.\n",
    "Em Python, o módulo `threading` fornece uma API de alto nível para criar e gerenciar threads.\n",
    "Exemplo de uso do [threading](./ex-threading.py):"
   ]
  },
  {
   "cell_type": "code",
   "execution_count": 3,
   "metadata": {},
   "outputs": [
    {
     "name": "stdout",
     "output_type": "stream",
     "text": [
      "Thread iniciada\n",
      "Thread iniciada\n",
      "Thread iniciada\n",
      "Thread iniciada\n",
      "Thread iniciada\n",
      "Thread terminadaThread terminada\n",
      "\n",
      "Thread terminada\n",
      "Thread terminada\n",
      "Thread terminada\n",
      "Todas as threads foram concluídas\n"
     ]
    }
   ],
   "source": [
    "import threading\n",
    "import time\n",
    "\n",
    "def worker():\n",
    "    print(\"Thread iniciada\")\n",
    "    time.sleep(2)\n",
    "    print(\"Thread terminada\")\n",
    "\n",
    "# Criar threads\n",
    "threads = []\n",
    "for i in range(5):\n",
    "    t = threading.Thread(target=worker)\n",
    "    threads.append(t)\n",
    "    t.start()\n",
    "\n",
    "# Aguardar todas as threads terminarem\n",
    "for t in threads:\n",
    "    t.join()\n",
    "\n",
    "print(\"Todas as threads foram concluídas\")\n"
   ]
  },
  {
   "cell_type": "markdown",
   "metadata": {},
   "source": [
    "No código acima:\n",
    "\n",
    "Criamos a unidade de trabalho, que no nosso caso será a função worker\n",
    "Em seguida, criamos as threads com `threading.Thread(target=worker)` e as iniciamos com `t.start()`\n",
    "Por fim, aguardamos a finalização de todas com `t.join()`\n",
    "\n"
   ]
  },
  {
   "cell_type": "markdown",
   "metadata": {},
   "source": [
    "> Multiprocessing\n",
    "\n",
    "Multiprocessing envolve a criação de novos processos no Sistema Operacional, cada um com seu próprio espaço de memória.\n",
    "\n",
    "Isso evita problemas de concorrência associados à programação multithreaded, especialmente em sistemas com CPU múltiplos.\n",
    "\n",
    "Exemplo de uso do [multiprocessing](ex-multiprocessing.py):"
   ]
  },
  {
   "cell_type": "code",
   "execution_count": 4,
   "metadata": {},
   "outputs": [
    {
     "name": "stdout",
     "output_type": "stream",
     "text": [
      "Processo iniciadoProcesso iniciado\n",
      "Processo iniciado\n",
      "\n",
      "Processo iniciadoProcesso iniciado\n",
      "\n",
      "Processo terminado\n",
      "Processo terminado\n",
      "Processo terminado\n",
      "Processo terminadoProcesso terminado\n",
      "\n",
      "Todos os processos foram concluídos\n"
     ]
    }
   ],
   "source": [
    "import multiprocessing\n",
    "import time\n",
    "\n",
    "def worker():\n",
    "    print(\"Processo iniciado\")\n",
    "    time.sleep(2)\n",
    "    print(\"Processo terminado\")\n",
    "\n",
    "# Criar processos\n",
    "processes = []\n",
    "for i in range(5):\n",
    "    p = multiprocessing.Process(target=worker)\n",
    "    processes.append(p)\n",
    "    p.start()\n",
    "\n",
    "# Aguardar todos os processos terminarem\n",
    "for p in processes:\n",
    "    p.join()\n",
    "\n",
    "print(\"Todos os processos foram concluídos\")"
   ]
  },
  {
   "cell_type": "markdown",
   "metadata": {},
   "source": [
    "O código acima é similar ao código que fizemos no exemplo de uso de `threading`.\n",
    "\n",
    "A diferença está no container que irá executar nosso código: no primeiro, serão múltiplas Threads. No segundo, múltiplos processos serão executados.\n",
    "\n",
    "> Asyncio\n",
    "\n",
    "Asyncio é uma biblioteca para escrita de código concorrente usando a sintaxe `async/await` introduzida no Python 3.5.\n",
    "\n",
    "É especialmente útil para operações de I/O que podem ser aguardadas, como chamadas de rede."
   ]
  },
  {
   "cell_type": "code",
   "execution_count": 6,
   "metadata": {},
   "outputs": [
    {
     "name": "stdout",
     "output_type": "stream",
     "text": [
      "Todas as tarefas foram concluídas\n"
     ]
    }
   ],
   "source": [
    "# Exemplo de uso do [asyncio](./ex-asyncio.py):\n",
    "\n",
    "import asyncio\n",
    "\n",
    "async def worker():\n",
    "    print(\"Tarefa iniciada\")\n",
    "    await asyncio.sleep(2)\n",
    "    print(\"Tarefa terminada\")\n",
    "\n",
    "async def main():\n",
    "    # Criar tarefas\n",
    "    tasks = [worker() for _ in range(5)]\n",
    "    \n",
    "    # Aguardar todas as tarefas terminarem\n",
    "    await asyncio.gather(*tasks)\n",
    "\n",
    "    # Executar o loop de eventos\n",
    "    asyncio.run(main())\n",
    "\n",
    "print(\"Todas as tarefas foram concluídas\")"
   ]
  },
  {
   "cell_type": "markdown",
   "metadata": {},
   "source": [
    "Nesse código:\n",
    "\n",
    "- `async def worker()`: Define uma função assíncrona chamada worker.\n",
    "- `tasks = [worker() for _ in range(5)]`: Cria uma lista de 5 tarefas worker.\n",
    "- `await asyncio.gather(*tasks)`: Aguarda todas as tarefas na lista tasks serem concluídas. O asyncio.gather executa todas as tarefas de forma concorrente.\n",
    "- `asyncio.run(main())`: Executa a função main dentro do loop de eventos asyncio. Isto inicializa a execução assíncrona.\n"
   ]
  },
  {
   "cell_type": "markdown",
   "metadata": {},
   "source": [
    "## Comparação entre Threading, Multiprocessing e Asyncio\n",
    "\n",
    "Threading:\n",
    "\n",
    "- Usa múltiplas threads dentro do mesmo processo.\n",
    "- Melhor para operações I/O-bound devido ao Global Interpreter Lock (GIL).\n",
    "- Menor overhead de criação e destruição de threads comparado a processos.\n",
    "\n",
    "Multiprocessing:\n",
    "\n",
    "- Cria processos separados com seu próprio espaço de memória.\n",
    "- Ideal para operações CPU-bound porque cada processo pode ser executado em um core diferente.\n",
    "- Evita problemas de concorrência, como race conditions, presentes no threading.\n",
    "\n",
    "Asyncio:\n",
    "\n",
    "- Usa um único thread, mas permite executar múltiplas tarefas de forma assíncrona.\n",
    "- Excelente para operações I/O-bound onde muitas operações de espera são necessárias.\n",
    "- Não é adequado para operações CPU-bound que necessitam de paralelismo verdadeiro.\n",
    "\n",
    "Cada uma dessas abordagens tem seu próprio caso de uso ideal, e a escolha entre elas depende da natureza da tarefa a ser executada.\n",
    "\n",
    "## Desempenho e Escalabilidade\n",
    "\n",
    "Em Python, o principal fator limitante para concorrência e paralelismo é o Global Interpreter Lock (GIL).\n",
    "\n",
    "como explicamos anteriormente, o GIL é um mecanismo que sincroniza a execução de threads para evitar conflitos de estado.\n",
    "\n",
    "Se você começar a experimentar problemas de desempenho com threads e lock contention, pode ser a hora de começar a ver alternativas, tais como processos ou greenlets.\n",
    "\n",
    "## Conclusão\n",
    "\n",
    "Concorrência e Paralelismo são técnicas poderosas que, quando usadas corretamente, podem aumentar significativamente a eficiência do seu código Python.\n",
    "\n",
    "No entanto, elas também apresentam desafios e complexidades adicionais que não devem ser subestimados.\n",
    "\n",
    "Por isso, quando começar a explorar esses conceitos, comece com um problema pequeno e simples e gradualmente aumente a complexidade à medida que se torna mais confortável."
   ]
  }
 ],
 "metadata": {
  "kernelspec": {
   "display_name": "Python 3",
   "language": "python",
   "name": "python3"
  },
  "language_info": {
   "codemirror_mode": {
    "name": "ipython",
    "version": 3
   },
   "file_extension": ".py",
   "mimetype": "text/x-python",
   "name": "python",
   "nbconvert_exporter": "python",
   "pygments_lexer": "ipython3",
   "version": "3.8.10"
  }
 },
 "nbformat": 4,
 "nbformat_minor": 2
}
