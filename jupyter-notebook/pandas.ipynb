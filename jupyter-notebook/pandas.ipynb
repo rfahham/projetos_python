{
 "cells": [
  {
   "cell_type": "markdown",
   "metadata": {},
   "source": [
    "# Pandas"
   ]
  },
  {
   "cell_type": "code",
   "execution_count": 1,
   "metadata": {},
   "outputs": [
    {
     "name": "stdout",
     "output_type": "stream",
     "text": [
      "Requirement already satisfied: pandas in /home/rfahham/.local/lib/python3.8/site-packages (2.0.3)\n",
      "Requirement already satisfied: python-dateutil>=2.8.2 in /home/rfahham/.local/lib/python3.8/site-packages (from pandas) (2.9.0.post0)\n",
      "Requirement already satisfied: tzdata>=2022.1 in /home/rfahham/.local/lib/python3.8/site-packages (from pandas) (2024.1)\n",
      "Requirement already satisfied: pytz>=2020.1 in /home/rfahham/.local/lib/python3.8/site-packages (from pandas) (2024.1)\n",
      "Requirement already satisfied: numpy>=1.20.3; python_version < \"3.10\" in /home/rfahham/.local/lib/python3.8/site-packages (from pandas) (1.24.4)\n",
      "Requirement already satisfied: six>=1.5 in /usr/lib/python3/dist-packages (from python-dateutil>=2.8.2->pandas) (1.14.0)\n",
      "zsh:1: command not found: openpyxl\n"
     ]
    }
   ],
   "source": [
    "! pip install pandas && openpyxl\n"
   ]
  },
  {
   "cell_type": "code",
   "execution_count": 3,
   "metadata": {},
   "outputs": [],
   "source": [
    "import pandas as pd\n",
    "\n",
    "carros = {\n",
    "    'marca':['Fiat', 'Chevrolet', 'Ford'],\n",
    "    'modelo':['Marea', 'Chevete', 'Escort'],\n",
    "    'ano':['1999', '1978', '1995'],\n",
    "}\n",
    "\n",
    "dataframe = pd.DataFrame(carros)\n",
    "dataframe.to_excel('carros.xlsx')"
   ]
  },
  {
   "cell_type": "code",
   "execution_count": 8,
   "metadata": {},
   "outputs": [],
   "source": [
    "import pandas as pd\n",
    "\n",
    "carros = {\n",
    "    'marca':['Fiat', 'Chevrolet', 'Ford'],\n",
    "    'modelo':['Marea', 'Chevete', 'Escort'],\n",
    "    'ano':['1999', '1978', '1995'],\n",
    "}\n",
    "\n",
    "dataframe = pd.DataFrame(carros)\n",
    "dataframe.to_excel('carros.xlsx')\n",
    "\n",
    "# Criar sem o índice index=False\n",
    "# Criar com o índice index= True\n",
    "dataframe.to_csv('carros.csv', index=False)"
   ]
  },
  {
   "cell_type": "code",
   "execution_count": null,
   "metadata": {},
   "outputs": [],
   "source": [
    "# Se você precisar aplicar uma função a cada linha, pode usar apply() com o parâmetro axis=1. Isso é útil para operações que exigem manipulação ou transformação de dados.\n",
    "\n",
    "import pandas as pd\n",
    "\n",
    "# Criar um DataFrame de exemplo\n",
    "data = {\n",
    "    'nome': ['Alice', 'Bob', 'Carlos', 'Diana'],\n",
    "    'idade': [30, 25, 35, 28],\n",
    "    'email': ['alice@example.com', 'bob@example.com', 'carlos@example.com', 'diana@example.com']\n",
    "}\n",
    "\n",
    "df = pd.DataFrame(data)\n",
    "\n",
    "# Definir uma função para aplicar a cada linha\n",
    "def processar_linha(linha):\n",
    "    nome = linha['nome']\n",
    "    idade = linha['idade']\n",
    "    email = linha['email']\n",
    "    print(f\"Nome: {nome}, Idade: {idade}, Email: {email}\")\n",
    "\n",
    "# Aplicar a função a cada linha\n",
    "df.apply(processar_linha, axis=1)"
   ]
  },
  {
   "cell_type": "code",
   "execution_count": null,
   "metadata": {},
   "outputs": [],
   "source": [
    "# O método itertuples() é mais rápido que iterrows() e retorna uma namedtuple para cada linha. \n",
    "# Isso pode ser útil para operações onde a performance é crucial.\n",
    "\n",
    "import pandas as pd\n",
    "\n",
    "# Criar um DataFrame de exemplo\n",
    "data = {\n",
    "    'nome': ['Alice', 'Bob', 'Carlos', 'Diana'],\n",
    "    'idade': [30, 25, 35, 28],\n",
    "    'email': ['alice@example.com', 'bob@example.com', 'carlos@example.com', 'diana@example.com']\n",
    "}\n",
    "\n",
    "df = pd.DataFrame(data)\n",
    "\n",
    "# Iterar sobre as linhas usando itertuples()\n",
    "for row in df.itertuples(index=False):\n",
    "    nome = row.nome\n",
    "    idade = row.idade\n",
    "    email = row.email\n",
    "    print(f\"Nome: {nome}, Idade: {idade}, Email: {email}\")"
   ]
  },
  {
   "cell_type": "code",
   "execution_count": null,
   "metadata": {},
   "outputs": [],
   "source": [
    "import pandas as pd\n",
    "\n",
    "# Criar um DataFrame de exemplo\n",
    "data = {\n",
    "    'nome': ['Alice', 'Bob', 'Carlos', 'Diana'],\n",
    "    'idade': [30, 25, 35, 28],\n",
    "    'email': ['alice@example.com', 'bob@example.com', 'carlos@example.com', 'diana@example.com']\n",
    "}\n",
    "\n",
    "df = pd.DataFrame(data)\n",
    "\n",
    "# Iterar sobre as linhas usando iterrows()\n",
    "for index, row in df.iterrows():\n",
    "    nome = row['nome']\n",
    "    idade = row['idade']\n",
    "    email = row['email']\n",
    "    print(f\"Nome: {nome}, Idade: {idade}, Email: {email}\")\n"
   ]
  },
  {
   "cell_type": "code",
   "execution_count": 10,
   "metadata": {},
   "outputs": [],
   "source": [
    "import pandas as pd\n",
    "\n",
    "# Dados para o DataFrame\n",
    "\n",
    "dados = {\n",
    "    'nome': ['João Ricardo', 'João Victor', 'Andreza'],\n",
    "    '1 Trimestre': [8, 8, 6],\n",
    "    '2 Trimestre': [9, 7, 8],\n",
    "    '3 Trimestre': [9, 9, 9],\n",
    "    '4 Trimestre': [7, 8, 8]\n",
    "}\n",
    "\n",
    "# Criar o DataFrame\n",
    "df = pd.DataFrame(dados)\n",
    "\n",
    "# Salvar o DataFrame como arquivo CSV\n",
    "df.to_csv('dados.csv', index=False)"
   ]
  }
 ],
 "metadata": {
  "kernelspec": {
   "display_name": "Python 3",
   "language": "python",
   "name": "python3"
  },
  "language_info": {
   "codemirror_mode": {
    "name": "ipython",
    "version": 3
   },
   "file_extension": ".py",
   "mimetype": "text/x-python",
   "name": "python",
   "nbconvert_exporter": "python",
   "pygments_lexer": "ipython3",
   "version": "3.8.10"
  }
 },
 "nbformat": 4,
 "nbformat_minor": 2
}
