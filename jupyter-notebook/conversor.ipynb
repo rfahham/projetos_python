{
 "cells": [
  {
   "cell_type": "code",
   "execution_count": null,
   "metadata": {},
   "outputs": [],
   "source": [
    "real = float(input('Valor a ser vonvertido em Real? '))\n",
    "dolar = float(input('Valor do Dolar? '))\n",
    "conversao = real / dolar\n",
    "print('Valor em R$ {:.2f}, valor convertido U$ {:.2f}'.format(real, conversao))\n"
   ]
  },
  {
   "cell_type": "code",
   "execution_count": null,
   "metadata": {},
   "outputs": [],
   "source": [
    "real = float(input('Valor a ser vonvertido em Real? '))\n",
    "euro = float(input('Valor do Euro? '))\n",
    "conversao = real / euro\n",
    "print('Valor em R$ {:.2f}, valor convertido ‎€ {:.2f}'.format(real, conversao))\n"
   ]
  },
  {
   "cell_type": "code",
   "execution_count": null,
   "metadata": {},
   "outputs": [],
   "source": [
    "# calculatime = float(input('Quantidade de minutos: '))\n",
    "\n",
    "hora = calculatime / 60\n",
    "print('{} horas'.format(hora))\n",
    "\n",
    "segundos = calculatime * 60\n",
    "print('{} segundos'.format(segundos))\n",
    "\n",
    "milisegundos = calculatime * 60 * 1000\n",
    "print('{} milisegundos'.format(milisegundos))"
   ]
  },
  {
   "cell_type": "code",
   "execution_count": null,
   "metadata": {},
   "outputs": [],
   "source": [
    "# Convertendo conteudo de arquivo com letrás minúsculas para letras maiúsculas\n",
    "\n",
    "with open('arquivo.txt', 'r') as input, open('arquivo2.txt', 'w') as output:\n",
    "    text = input.readlines()\n",
    "    uppercase = [t.upper() for t in text]\n",
    "    output.writelines(uppercase)"
   ]
  }
 ],
 "metadata": {
  "language_info": {
   "name": "python"
  }
 },
 "nbformat": 4,
 "nbformat_minor": 2
}
