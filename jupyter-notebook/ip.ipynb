{
 "cells": [
  {
   "cell_type": "code",
   "execution_count": null,
   "metadata": {},
   "outputs": [],
   "source": [
    "# Docs: https://github.com/Almas-Ali/SpyIP\n",
    "# pip install spyip\n",
    "\n",
    "from spyip import trace_ip\n",
    "ip = trace_ip('179.233.96.24')\n",
    "print(ip.json(indent=4))"
   ]
  }
 ],
 "metadata": {
  "language_info": {
   "name": "python"
  }
 },
 "nbformat": 4,
 "nbformat_minor": 2
}
