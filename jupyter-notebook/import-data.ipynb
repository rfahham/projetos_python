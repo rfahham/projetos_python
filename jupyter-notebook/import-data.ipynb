{
 "cells": [
  {
   "cell_type": "markdown",
   "metadata": {},
   "source": [
    "# Senhas ou dados sensíveis"
   ]
  },
  {
   "cell_type": "code",
   "execution_count": 1,
   "metadata": {},
   "outputs": [],
   "source": [
    "# Crie o arquivo com a senha\n",
    "\n",
    "# minha_senha.py\n",
    "\n",
    "senha=\"1q2w3e4r\""
   ]
  },
  {
   "cell_type": "code",
   "execution_count": 2,
   "metadata": {},
   "outputs": [
    {
     "ename": "ModuleNotFoundError",
     "evalue": "No module named 'minha_senha'",
     "output_type": "error",
     "traceback": [
      "\u001b[0;31m---------------------------------------------------------------------------\u001b[0m",
      "\u001b[0;31mModuleNotFoundError\u001b[0m                       Traceback (most recent call last)",
      "Cell \u001b[0;32mIn[2], line 3\u001b[0m\n\u001b[1;32m      1\u001b[0m \u001b[38;5;66;03m# main.py\u001b[39;00m\n\u001b[0;32m----> 3\u001b[0m \u001b[38;5;28;01mfrom\u001b[39;00m \u001b[38;5;21;01mminha_senha\u001b[39;00m \u001b[38;5;28;01mimport\u001b[39;00m senha\n\u001b[1;32m      5\u001b[0m \u001b[38;5;28mprint\u001b[39m(senha)\n",
      "\u001b[0;31mModuleNotFoundError\u001b[0m: No module named 'minha_senha'"
     ]
    }
   ],
   "source": [
    "# O arquivo fará a importação do arquivo com o dado sensível\n",
    "\n",
    "# main.py\n",
    "\n",
    "from minha_senha import senha\n",
    "\n",
    "print(senha)"
   ]
  }
 ],
 "metadata": {
  "kernelspec": {
   "display_name": "Python 3",
   "language": "python",
   "name": "python3"
  },
  "language_info": {
   "codemirror_mode": {
    "name": "ipython",
    "version": 3
   },
   "file_extension": ".py",
   "mimetype": "text/x-python",
   "name": "python",
   "nbconvert_exporter": "python",
   "pygments_lexer": "ipython3",
   "version": "3.8.10"
  }
 },
 "nbformat": 4,
 "nbformat_minor": 2
}
