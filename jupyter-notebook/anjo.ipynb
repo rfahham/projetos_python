{
 "cells": [
  {
   "cell_type": "code",
   "execution_count": null,
   "metadata": {},
   "outputs": [],
   "source": [
    "#!/usr/bin/env python\n",
    "# -*- coding: utf-8 -*-\n",
    "\n",
    "print (\"Seja bem vindo! Conheça o nomedo seu Anjo da Guarda.\")\n",
    "\n",
    "g = input(\"Insira o dia do seu nascimento:\")\n",
    "\n",
    "guess = int(g)\n",
    "\n",
    "dicionario = {'1': 'Anjo Rochel',\n",
    "\t\t\t  '2': 'Anjo Yabamiah',\n",
    "\t\t\t  '3': 'Anjo Haiaiel',\n",
    "\t\t\t  '4': 'Anjo Mumiah',\n",
    "\t\t\t  '5': 'Anjo da Humildade',\n",
    "\t\t\t  '6': 'Anjo Vehuiah', \n",
    "\t\t\t  '7': 'Anjo Jeliel',\n",
    "\t\t\t  '8': 'Anjo Sitael',\n",
    "\t\t\t  '9': 'Anjo Elemiah',\n",
    "\t\t\t  '10': 'Anjo Mahasiah',\n",
    "\t\t\t  '11': 'Anjo Lelahel',\n",
    "\t\t\t  '12': 'Anjo Achaiah',\n",
    "\t\t\t  '13': 'Anjo Cahethel',\n",
    "\t\t\t  '14': 'Anjo Haziel',\n",
    "\t\t\t  '15': 'Anjo Aladiah',\n",
    "\t\t\t  '16': 'Anjo Laoviah',\n",
    "\t\t\t  '17': 'Anjo Hahahiah',\n",
    "\t\t\t  '18': 'Anjo Yesalel',\n",
    "\t\t\t  '19': 'Anjo Mebahel',\n",
    "\t\t\t  '20': 'Anjo Hariel',\n",
    "\t\t\t  '21': 'Anjo da Hekamiah',\n",
    "\t\t\t  '22': 'Anjo Lauviah',\n",
    "\t\t\t  '23': 'Anjo Caliel',\n",
    "\t\t\t  '24': 'Anjo Leuviah',\n",
    "\t\t\t  '25': 'Anjo Pahaliah',\n",
    "\t\t\t  '26': 'Anjo Nelchael',\n",
    "\t\t\t  '27': 'Anjo Ieiaiel',\n",
    "\t\t\t  '28': 'Anjo Melahel',\n",
    "\t\t\t  '29': 'Anjo Haheuiah',\n",
    "\t\t\t  '30': 'Anjo Nith-Haiah',\n",
    "\t\t\t  '31': 'Anjo Haaiah',}\n",
    "\n",
    "print(dicionario.get(g))\n",
    "\n"
   ]
  }
 ],
 "metadata": {
  "language_info": {
   "name": "python"
  }
 },
 "nbformat": 4,
 "nbformat_minor": 2
}
