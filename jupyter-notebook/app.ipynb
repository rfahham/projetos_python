{
 "cells": [
  {
   "cell_type": "code",
   "execution_count": null,
   "metadata": {},
   "outputs": [],
   "source": [
    "#!/usr/bin/env python \n",
    "# -*- coding: utf-8 -*-\n",
    "\n",
    "n1 = int(input('Primeiro Valor: '))\n",
    "n2 = int(input('Segundo Valor: '))\n",
    "opcao = 0\n",
    "while opcao != 5:\n",
    "    print('''\t\n",
    "    \t[ 1 ] Somar\n",
    "    \t[ 2 ] Multiplicar\n",
    "    \t[ 3 ] Maior\n",
    "    \t[ 4 ] Novos Números\n",
    "    \t[ 5 ] Sair do Programa\n",
    "    \t''') \n",
    "\n",
    "    opcao = int(input('Qual é a sua opção? '))\n",
    "    if opcao == 1:\n",
    "    \tsoma = n1 + n2\n",
    "    \tprint('A soma entre {} + {} é {}' .format(n1, n2, soma))\n",
    "\n",
    "    elif opcao == 2:\n",
    "    \tproduto = n1 * n2\n",
    "    \tprint('O resultado de {} x {} é {}' .format(n1, n2, produto))\n",
    "\n",
    "    elif opcao == 3:\n",
    "    \tif n1 > n2:\n",
    "            print('O número {} e o maior'.format(n1))\n",
    "        if n2 > n1:\n",
    "            print('O número {} e maior'.format(n2))\n",
    "        if n1 == n2:\n",
    "        \tprint('O número {} é igual ao número {}'.format(n1, n2))\n",
    "\n",
    "    elif opcao == 4:\n",
    "    \tprint('Informe os números novamente: ')\n",
    "\tn1 = int(input('Primeiro Valor: '))\n",
    "\tn2 = int(input('Segundo Valor: '))\n",
    "    elif opcao == 5:\n",
    "    \tprint('Finalizando...')\n",
    "\n",
    "    else:\n",
    "    \tprint('Opção inválida. Digite uma opçõa válida!')\n",
    "    \n",
    "print('Fim do programa! Volte Sempre!')"
   ]
  }
 ],
 "metadata": {
  "language_info": {
   "name": "python"
  }
 },
 "nbformat": 4,
 "nbformat_minor": 2
}
