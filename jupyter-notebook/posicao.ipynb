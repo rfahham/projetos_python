{
 "cells": [
  {
   "cell_type": "markdown",
   "metadata": {},
   "source": [
    "# Descobrindo\n",
    "\n",
    "Antecessor e Sucessor"
   ]
  },
  {
   "cell_type": "code",
   "execution_count": null,
   "metadata": {},
   "outputs": [],
   "source": [
    "#!/usr/bin/env python \n",
    "# -*- coding: utf-8 -*-\n",
    "\n",
    "n = int(input('Digite um número: '))\n",
    "print('Analisando o valor {}, seu antecessor é {} e o sucessor é {}' . format(n, (n-1),(n+1)))"
   ]
  }
 ],
 "metadata": {
  "language_info": {
   "name": "python"
  }
 },
 "nbformat": 4,
 "nbformat_minor": 2
}
