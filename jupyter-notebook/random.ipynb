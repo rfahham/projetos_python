{
 "cells": [
  {
   "cell_type": "code",
   "execution_count": null,
   "metadata": {},
   "outputs": [],
   "source": [
    "# from random import choices\n",
    "\n",
    "# print(*choices([*range(1, 9)], k=10), sep = '')\n",
    "\n",
    "\n",
    "import random\n",
    "\n",
    "print(random.getrandbits(1))\n",
    "#resultado: 0\n",
    "\n",
    "print(random.getrandbits(2))\n",
    "#resultado: 2\n",
    "\n",
    "print(random.getrandbits(8))\n",
    "#resultado: 30\n",
    "\n",
    "print(random.getrandbits(16))\n",
    "#resultado: 56789\n",
    "\n",
    "print(random.getrandbits(20))\n",
    "#resultado: 337675\n",
    "\n",
    "print(random.getrandbits(32))\n",
    "#resultado: 972043261"
   ]
  },
  {
   "cell_type": "code",
   "execution_count": null,
   "metadata": {},
   "outputs": [],
   "source": [
    "import random\n",
    "\n",
    "nome1 = str(raw_input('Primeiro aluno: '))\n",
    "nome2 = str(raw_input('Segundo aluno: '))\n",
    "nome3 = str(raw_input('Terceiro aluno: '))\n",
    "nome4 = str(raw_input('Quarto aluno: '))\n",
    "\n",
    "nomes = [nome1, nome2, nome3, nome4]\n",
    "\n",
    "serie = ['Peito', 'Costas', 'Biceps', 'Triceps']\n",
    "\n",
    "escolhido = random.choice(nomes)\n",
    "exercicio = random.choice(serie)\n",
    "\n",
    "print('O atleta {} vai executar o exercício de {}'.format(escolhido, exercicio))\n"
   ]
  },
  {
   "cell_type": "code",
   "execution_count": null,
   "metadata": {},
   "outputs": [],
   "source": [
    "from random import choices\n",
    "from string import digits\n",
    "\n",
    "print(*[''.join(choices(digits, k=12)) for _ in range(5)], sep = '\\n')"
   ]
  }
 ],
 "metadata": {
  "language_info": {
   "name": "python"
  }
 },
 "nbformat": 4,
 "nbformat_minor": 2
}
