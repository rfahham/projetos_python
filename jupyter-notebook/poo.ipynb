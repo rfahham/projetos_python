{
 "cells": [
  {
   "cell_type": "markdown",
   "metadata": {},
   "source": [
    "Programação Orientada a Objetos (POO) em Python"
   ]
  },
  {
   "cell_type": "markdown",
   "metadata": {},
   "source": [
    "Encapsulamento \n",
    " Encapsulamento refere-se ao ato de esconder os detalhes internos de uma classe, expondo apenas o que é necessário para interagir com ela. Em Python, usamos underscores (_) para indicar que certos atributos ou métodos são privados."
   ]
  },
  {
   "cell_type": "code",
   "execution_count": null,
   "metadata": {},
   "outputs": [],
   "source": [
    "class Pessoa:\n",
    "    def __init__(self, nome, idade):\n",
    "        self._nome = nome  # Atributo \"privado\"\n",
    "        self.idade = idade\n",
    "    \n",
    "    def obter_nome(self):\n",
    "        return self._nome\n",
    "\n",
    "# Uso\n",
    "pessoa = Pessoa(\"João\", 30)\n",
    "print(pessoa.obter_nome())  # João"
   ]
  },
  {
   "cell_type": "markdown",
   "metadata": {},
   "source": [
    "Herança\n",
    " A herança permite criar novas classes baseadas em outras classes. Isso promove o reuso de código e facilita a criação de estruturas hierárquicas."
   ]
  },
  {
   "cell_type": "code",
   "execution_count": null,
   "metadata": {},
   "outputs": [],
   "source": [
    "class Animal:\n",
    "    def __init__(self, nome):\n",
    "        self.nome = nome\n",
    "\n",
    "    def emitir_som(self):\n",
    "        raise NotImplementedError(\"Subclasses devem implementar este método\")\n",
    "\n",
    "class Cachorro(Animal):\n",
    "    def emitir_som(self):\n",
    "        return f\"{self.nome} faz: Au au!\"\n",
    "\n",
    "cachorro = Cachorro(\"Rex\")\n",
    "print(cachorro.emitir_som())  # Rex faz: Au au!"
   ]
  },
  {
   "cell_type": "markdown",
   "metadata": {},
   "source": [
    "Polimorfismo\n",
    " O polimorfismo permite que métodos com o mesmo nome se comportem de forma diferente em subclasses."
   ]
  },
  {
   "cell_type": "code",
   "execution_count": null,
   "metadata": {},
   "outputs": [],
   "source": [
    "class Gato(Animal):\n",
    "    def emitir_som(self):\n",
    "        return f\"{self.nome} faz: Miau!\"\n",
    "\n",
    "animais = [Cachorro(\"Rex\"), Gato(\"Mimi\")]\n",
    "for animal in animais:\n",
    "    print(animal.emitir_som())"
   ]
  },
  {
   "cell_type": "markdown",
   "metadata": {},
   "source": [
    "Métodos e Propriedades em Python\n",
    " Python oferece uma maneira prática de manipular atributos com o uso de propriedades. As propriedades permitem controlar o acesso a atributos privados sem expor sua implementação interna."
   ]
  },
  {
   "cell_type": "code",
   "execution_count": null,
   "metadata": {},
   "outputs": [],
   "source": [
    "class Produto:\n",
    "    def __init__(self, preco):\n",
    "        self._preco = preco\n",
    "\n",
    "    @property\n",
    "    def preco(self):\n",
    "        return self._preco\n",
    "\n",
    "    @preco.setter\n",
    "    def preco(self, novo_preco):\n",
    "        if novo_preco > 0:\n",
    "            self._preco = novo_preco\n",
    "        else:\n",
    "            raise ValueError(\"O preço deve ser positivo\")\n",
    "\n",
    "produto = Produto(50)\n",
    "produto.preco = 100  # Usa o setter\n",
    "print(produto.preco)  # Usa o getter "
   ]
  },
  {
   "cell_type": "markdown",
   "metadata": {},
   "source": [
    "Vantagens da POO em Python\n",
    "\n",
    "A POO em Python oferece várias vantagens:\n",
    "• Reusabilidade: Com herança e polimorfismo, podemos evitar a duplicação de código.\n",
    "• Organização: O código orientado a objetos é mais organizado e fácil de entender.\n",
    "• Manutenibilidade: A modularização dos objetos facilita a manutenção e atualização do código.\n",
    "\n",
    "Além disso, Python é uma linguagem flexível, permitindo combinar paradigmas de programação, como a POO e a programação funcional, dependendo das necessidades do projeto."
   ]
  }
 ],
 "metadata": {
  "language_info": {
   "name": "python"
  }
 },
 "nbformat": 4,
 "nbformat_minor": 2
}
