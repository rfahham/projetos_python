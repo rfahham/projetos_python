{
 "cells": [
  {
   "cell_type": "code",
   "execution_count": null,
   "metadata": {},
   "outputs": [],
   "source": [
    "# Módulo de tempo Python\n",
    "\n",
    "# https://www.programiz.com/python-programming/time\n",
    "\n",
    "from datetime import datetime\n",
    "now = datetime.now()\n",
    "print(now)\n",
    "print(now.year)\n",
    "print(now.month)\n",
    "print(now.day)\n",
    "# data brasil\n",
    "print('%s/%s/%s' % (now.day, now.month, now.year))\n",
    "# hora brasil\n",
    "print('%s:%s:%s' % (now.hour, now.minute, now.second))\n",
    "\n",
    "print('%s/%s/%s - %s:%s:%s' % (now.day, now.month, now.year, now.hour, now.minute, now.second))\n",
    "\n",
    "data = ('%s/%s/%s - %s:%s:%s' % (now.day, now.month, now.year, now.hour, now.minute, now.second))\n",
    "print(data,\".txt\")"
   ]
  },
  {
   "cell_type": "markdown",
   "metadata": {},
   "source": [
    "## Calendário"
   ]
  },
  {
   "cell_type": "code",
   "execution_count": null,
   "metadata": {},
   "outputs": [],
   "source": [
    "# import calendar\n",
    "\n",
    "# x = calendar.TextCalendar()\n",
    "# print(x.pryear(2023))\n",
    "\n",
    "from calendar import calendar\n",
    "year = 2023\n",
    "num_of_column = 4\n",
    "print()\n",
    "print(\"-\" * 100)\n",
    "print(calendar(theyear=year, m=num_of_column))\n",
    "print(\"-\" * 100)\n",
    "print()"
   ]
  }
 ],
 "metadata": {
  "language_info": {
   "name": "python"
  }
 },
 "nbformat": 4,
 "nbformat_minor": 2
}
