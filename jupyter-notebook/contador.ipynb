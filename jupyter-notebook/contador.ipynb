{
 "cells": [
  {
   "cell_type": "code",
   "execution_count": null,
   "metadata": {},
   "outputs": [],
   "source": [
    "n = s = 0\n",
    "while True:\n",
    "\tn = int(input('Digite um número: '))\n",
    "\tif n == 999:\n",
    "\t\tbreak\n",
    "\ts += n\n",
    "print('A soma dos numeros é igual a {}'.format(s))"
   ]
  },
  {
   "cell_type": "markdown",
   "metadata": {},
   "source": []
  },
  {
   "cell_type": "code",
   "execution_count": null,
   "metadata": {},
   "outputs": [],
   "source": [
    "inicio = int(input('Início: '))\n",
    "fim = int(input('Fim: '))\n",
    "passo = int(input('Passo: '))\n",
    "totalpassos = fim / passo\n",
    "for c in range(inicio, fim+1, passo):\n",
    "\tprint(c)\n",
    "print('O total de passos dados é {}'.format(totalpassos))\n",
    "print('FIM')\n"
   ]
  }
 ],
 "metadata": {
  "language_info": {
   "name": "python"
  }
 },
 "nbformat": 4,
 "nbformat_minor": 2
}
