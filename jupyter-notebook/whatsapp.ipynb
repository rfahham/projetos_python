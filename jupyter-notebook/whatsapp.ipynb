{
 "cells": [
  {
   "cell_type": "markdown",
   "metadata": {},
   "source": [
    "# Whatsapp"
   ]
  },
  {
   "cell_type": "markdown",
   "metadata": {},
   "source": [
    "## Documentação\n",
    "\n",
    "https://pypi.org/project/pywhatkit/\n",
    "\n",
    "https://github.com/Ankit404butfound/PyWhatKit/wiki"
   ]
  },
  {
   "cell_type": "markdown",
   "metadata": {},
   "source": [
    "Para criar o Xauthority\n",
    "\n",
    "touch ~/.Xauthority\n",
    "\n",
    "\n",
    "xauth generate :0 . trusted\n",
    "\n",
    "xauth add ${HOST}:0 . $(xxd -l 16 -p /dev/urandom)\n",
    "\n",
    "xauth list \n",
    "\n",
    "tcp 0 0 localhost:6010 *:* LISTEN\n",
    "\n",
    "sudo apt-get install python3-tk python3-dev"
   ]
  },
  {
   "cell_type": "code",
   "execution_count": 13,
   "metadata": {},
   "outputs": [
    {
     "name": "stdout",
     "output_type": "stream",
     "text": [
      "Requirement already satisfied: emoji in /home/rfahham/.local/lib/python3.8/site-packages (2.12.1)\n",
      "Requirement already satisfied: pywhatkit in /home/rfahham/.local/lib/python3.8/site-packages (5.4)\n",
      "Requirement already satisfied: typing-extensions>=4.7.0 in /home/rfahham/.local/lib/python3.8/site-packages (from emoji) (4.12.2)\n",
      "Requirement already satisfied: wikipedia in /home/rfahham/.local/lib/python3.8/site-packages (from pywhatkit) (1.4.0)\n",
      "Requirement already satisfied: pyautogui in /home/rfahham/.local/lib/python3.8/site-packages (from pywhatkit) (0.9.54)\n",
      "Requirement already satisfied: Flask in /home/rfahham/.local/lib/python3.8/site-packages (from pywhatkit) (3.0.3)\n",
      "Requirement already satisfied: requests in /usr/local/lib/python3.8/dist-packages (from pywhatkit) (2.32.3)\n",
      "Requirement already satisfied: Pillow in /usr/local/lib/python3.8/dist-packages (from pywhatkit) (10.4.0)\n",
      "Requirement already satisfied: beautifulsoup4 in /home/rfahham/.local/lib/python3.8/site-packages (from wikipedia->pywhatkit) (4.12.3)\n",
      "Requirement already satisfied: pygetwindow>=0.0.5 in /home/rfahham/.local/lib/python3.8/site-packages (from pyautogui->pywhatkit) (0.0.9)\n",
      "Requirement already satisfied: mouseinfo in /home/rfahham/.local/lib/python3.8/site-packages (from pyautogui->pywhatkit) (0.1.3)\n",
      "Requirement already satisfied: pymsgbox in /home/rfahham/.local/lib/python3.8/site-packages (from pyautogui->pywhatkit) (1.0.9)\n",
      "Requirement already satisfied: python3-Xlib; platform_system == \"Linux\" and python_version >= \"3.0\" in /home/rfahham/.local/lib/python3.8/site-packages (from pyautogui->pywhatkit) (0.15)\n",
      "Requirement already satisfied: pyscreeze>=0.1.21 in /home/rfahham/.local/lib/python3.8/site-packages (from pyautogui->pywhatkit) (1.0.1)\n",
      "Requirement already satisfied: pytweening>=1.0.4 in /home/rfahham/.local/lib/python3.8/site-packages (from pyautogui->pywhatkit) (1.2.0)\n",
      "Requirement already satisfied: blinker>=1.6.2 in /home/rfahham/.local/lib/python3.8/site-packages (from Flask->pywhatkit) (1.8.2)\n",
      "Requirement already satisfied: importlib-metadata>=3.6.0; python_version < \"3.10\" in /home/rfahham/.local/lib/python3.8/site-packages (from Flask->pywhatkit) (8.4.0)\n",
      "Requirement already satisfied: Jinja2>=3.1.2 in /home/rfahham/.local/lib/python3.8/site-packages (from Flask->pywhatkit) (3.1.4)\n",
      "Requirement already satisfied: Werkzeug>=3.0.0 in /home/rfahham/.local/lib/python3.8/site-packages (from Flask->pywhatkit) (3.0.4)\n",
      "Requirement already satisfied: click>=8.1.3 in /home/rfahham/.local/lib/python3.8/site-packages (from Flask->pywhatkit) (8.1.7)\n",
      "Requirement already satisfied: itsdangerous>=2.1.2 in /home/rfahham/.local/lib/python3.8/site-packages (from Flask->pywhatkit) (2.2.0)\n",
      "Requirement already satisfied: certifi>=2017.4.17 in /home/rfahham/.local/lib/python3.8/site-packages (from requests->pywhatkit) (2024.8.30)\n",
      "Requirement already satisfied: charset-normalizer<4,>=2 in /usr/local/lib/python3.8/dist-packages (from requests->pywhatkit) (3.3.2)\n",
      "Requirement already satisfied: idna<4,>=2.5 in /home/rfahham/.local/lib/python3.8/site-packages (from requests->pywhatkit) (3.8)\n",
      "Requirement already satisfied: urllib3<3,>=1.21.1 in /home/rfahham/.local/lib/python3.8/site-packages (from requests->pywhatkit) (2.2.2)\n",
      "Requirement already satisfied: soupsieve>1.2 in /home/rfahham/.local/lib/python3.8/site-packages (from beautifulsoup4->wikipedia->pywhatkit) (2.6)\n",
      "Requirement already satisfied: pyrect in /home/rfahham/.local/lib/python3.8/site-packages (from pygetwindow>=0.0.5->pyautogui->pywhatkit) (0.2.0)\n",
      "Requirement already satisfied: pyperclip in /usr/local/lib/python3.8/dist-packages (from mouseinfo->pyautogui->pywhatkit) (1.9.0)\n",
      "Requirement already satisfied: zipp>=0.5 in /home/rfahham/.local/lib/python3.8/site-packages (from importlib-metadata>=3.6.0; python_version < \"3.10\"->Flask->pywhatkit) (3.20.1)\n",
      "Requirement already satisfied: MarkupSafe>=2.0 in /home/rfahham/.local/lib/python3.8/site-packages (from Jinja2>=3.1.2->Flask->pywhatkit) (2.1.5)\n"
     ]
    }
   ],
   "source": [
    "! pip install emoji pywhatkit"
   ]
  },
  {
   "cell_type": "code",
   "execution_count": 15,
   "metadata": {},
   "outputs": [
    {
     "name": "stdout",
     "output_type": "stream",
     "text": [
      "In 96 Seconds WhatsApp will open and after 15 Seconds Message will be Delivered!\n"
     ]
    },
    {
     "ename": "KeyboardInterrupt",
     "evalue": "",
     "output_type": "error",
     "traceback": [
      "\u001b[0;31m---------------------------------------------------------------------------\u001b[0m",
      "\u001b[0;31mKeyboardInterrupt\u001b[0m                         Traceback (most recent call last)",
      "Cell \u001b[0;32mIn[15], line 3\u001b[0m\n\u001b[1;32m      1\u001b[0m \u001b[38;5;28;01mimport\u001b[39;00m \u001b[38;5;21;01mpywhatkit\u001b[39;00m \u001b[38;5;28;01mas\u001b[39;00m \u001b[38;5;21;01mkit\u001b[39;00m\n\u001b[0;32m----> 3\u001b[0m \u001b[43mkit\u001b[49m\u001b[38;5;241;43m.\u001b[39;49m\u001b[43msendwhatmsg\u001b[49m\u001b[43m(\u001b[49m\u001b[38;5;124;43m'\u001b[39;49m\u001b[38;5;124;43m+55 21980025474\u001b[39;49m\u001b[38;5;124;43m'\u001b[39;49m\u001b[43m,\u001b[49m\u001b[43m \u001b[49m\u001b[38;5;124;43m\"\u001b[39;49m\u001b[38;5;124;43mOlá\u001b[39;49m\u001b[38;5;124;43m\"\u001b[39;49m\u001b[43m,\u001b[49m\u001b[43m \u001b[49m\u001b[38;5;241;43m11\u001b[39;49m\u001b[43m,\u001b[49m\u001b[38;5;241;43m30\u001b[39;49m\u001b[43m)\u001b[49m\n",
      "File \u001b[0;32m~/.local/lib/python3.8/site-packages/pywhatkit/whats.py:72\u001b[0m, in \u001b[0;36msendwhatmsg\u001b[0;34m(phone_no, message, time_hour, time_min, wait_time, tab_close, close_time)\u001b[0m\n\u001b[1;32m     68\u001b[0m sleep_time \u001b[38;5;241m=\u001b[39m left_time\u001b[38;5;241m.\u001b[39mseconds \u001b[38;5;241m-\u001b[39m wait_time\n\u001b[1;32m     69\u001b[0m \u001b[38;5;28mprint\u001b[39m(\n\u001b[1;32m     70\u001b[0m     \u001b[38;5;124mf\u001b[39m\u001b[38;5;124m\"\u001b[39m\u001b[38;5;124mIn \u001b[39m\u001b[38;5;132;01m{\u001b[39;00msleep_time\u001b[38;5;132;01m}\u001b[39;00m\u001b[38;5;124m Seconds WhatsApp will open and after \u001b[39m\u001b[38;5;132;01m{\u001b[39;00mwait_time\u001b[38;5;132;01m}\u001b[39;00m\u001b[38;5;124m Seconds Message will be Delivered!\u001b[39m\u001b[38;5;124m\"\u001b[39m\n\u001b[1;32m     71\u001b[0m )\n\u001b[0;32m---> 72\u001b[0m \u001b[43mtime\u001b[49m\u001b[38;5;241;43m.\u001b[39;49m\u001b[43msleep\u001b[49m\u001b[43m(\u001b[49m\u001b[43msleep_time\u001b[49m\u001b[43m)\u001b[49m\n\u001b[1;32m     73\u001b[0m core\u001b[38;5;241m.\u001b[39msend_message(message\u001b[38;5;241m=\u001b[39mmessage, receiver\u001b[38;5;241m=\u001b[39mphone_no, wait_time\u001b[38;5;241m=\u001b[39mwait_time)\n\u001b[1;32m     74\u001b[0m log\u001b[38;5;241m.\u001b[39mlog_message(_time\u001b[38;5;241m=\u001b[39mcurrent_time, receiver\u001b[38;5;241m=\u001b[39mphone_no, message\u001b[38;5;241m=\u001b[39mmessage)\n",
      "\u001b[0;31mKeyboardInterrupt\u001b[0m: "
     ]
    }
   ],
   "source": [
    "import pywhatkit as kit\n",
    "\n",
    "kit.sendwhatmsg('+910123456789', \"Olá\", 11,30)"
   ]
  },
  {
   "cell_type": "code",
   "execution_count": 30,
   "metadata": {},
   "outputs": [
    {
     "name": "stdout",
     "output_type": "stream",
     "text": [
      "Requirement already satisfied: emoji in /home/rfahham/.local/lib/python3.8/site-packages (2.12.1)\n",
      "Requirement already satisfied: pywhatkit in /home/rfahham/.local/lib/python3.8/site-packages (5.4)\n",
      "Requirement already satisfied: jsonschema in /home/rfahham/.local/lib/python3.8/site-packages (4.23.0)\n",
      "Requirement already satisfied: typing-extensions>=4.7.0 in /home/rfahham/.local/lib/python3.8/site-packages (from emoji) (4.12.2)\n",
      "Requirement already satisfied: Flask in /home/rfahham/.local/lib/python3.8/site-packages (from pywhatkit) (3.0.3)\n",
      "Requirement already satisfied: pyautogui in /home/rfahham/.local/lib/python3.8/site-packages (from pywhatkit) (0.9.54)\n",
      "Requirement already satisfied: Pillow in /usr/local/lib/python3.8/dist-packages (from pywhatkit) (10.4.0)\n",
      "Requirement already satisfied: wikipedia in /home/rfahham/.local/lib/python3.8/site-packages (from pywhatkit) (1.4.0)\n",
      "Requirement already satisfied: requests in /usr/local/lib/python3.8/dist-packages (from pywhatkit) (2.32.3)\n",
      "Requirement already satisfied: attrs>=22.2.0 in /home/rfahham/.local/lib/python3.8/site-packages (from jsonschema) (24.2.0)\n",
      "Requirement already satisfied: rpds-py>=0.7.1 in /home/rfahham/.local/lib/python3.8/site-packages (from jsonschema) (0.20.0)\n",
      "Requirement already satisfied: referencing>=0.28.4 in /home/rfahham/.local/lib/python3.8/site-packages (from jsonschema) (0.35.1)\n",
      "Requirement already satisfied: importlib-resources>=1.4.0; python_version < \"3.9\" in /home/rfahham/.local/lib/python3.8/site-packages (from jsonschema) (6.4.5)\n",
      "Requirement already satisfied: jsonschema-specifications>=2023.03.6 in /home/rfahham/.local/lib/python3.8/site-packages (from jsonschema) (2023.12.1)\n",
      "Requirement already satisfied: pkgutil-resolve-name>=1.3.10; python_version < \"3.9\" in /home/rfahham/.local/lib/python3.8/site-packages (from jsonschema) (1.3.10)\n",
      "Requirement already satisfied: blinker>=1.6.2 in /home/rfahham/.local/lib/python3.8/site-packages (from Flask->pywhatkit) (1.8.2)\n",
      "Requirement already satisfied: click>=8.1.3 in /home/rfahham/.local/lib/python3.8/site-packages (from Flask->pywhatkit) (8.1.7)\n",
      "Requirement already satisfied: itsdangerous>=2.1.2 in /home/rfahham/.local/lib/python3.8/site-packages (from Flask->pywhatkit) (2.2.0)\n",
      "Requirement already satisfied: Jinja2>=3.1.2 in /home/rfahham/.local/lib/python3.8/site-packages (from Flask->pywhatkit) (3.1.4)\n",
      "Requirement already satisfied: Werkzeug>=3.0.0 in /home/rfahham/.local/lib/python3.8/site-packages (from Flask->pywhatkit) (3.0.4)\n",
      "Requirement already satisfied: importlib-metadata>=3.6.0; python_version < \"3.10\" in /home/rfahham/.local/lib/python3.8/site-packages (from Flask->pywhatkit) (8.4.0)\n",
      "Requirement already satisfied: pygetwindow>=0.0.5 in /home/rfahham/.local/lib/python3.8/site-packages (from pyautogui->pywhatkit) (0.0.9)\n",
      "Requirement already satisfied: mouseinfo in /home/rfahham/.local/lib/python3.8/site-packages (from pyautogui->pywhatkit) (0.1.3)\n",
      "Requirement already satisfied: pyscreeze>=0.1.21 in /home/rfahham/.local/lib/python3.8/site-packages (from pyautogui->pywhatkit) (1.0.1)\n",
      "Requirement already satisfied: pytweening>=1.0.4 in /home/rfahham/.local/lib/python3.8/site-packages (from pyautogui->pywhatkit) (1.2.0)\n",
      "Requirement already satisfied: python3-Xlib; platform_system == \"Linux\" and python_version >= \"3.0\" in /home/rfahham/.local/lib/python3.8/site-packages (from pyautogui->pywhatkit) (0.15)\n",
      "Requirement already satisfied: pymsgbox in /home/rfahham/.local/lib/python3.8/site-packages (from pyautogui->pywhatkit) (1.0.9)\n",
      "Requirement already satisfied: beautifulsoup4 in /home/rfahham/.local/lib/python3.8/site-packages (from wikipedia->pywhatkit) (4.12.3)\n",
      "Requirement already satisfied: certifi>=2017.4.17 in /home/rfahham/.local/lib/python3.8/site-packages (from requests->pywhatkit) (2024.8.30)\n",
      "Requirement already satisfied: urllib3<3,>=1.21.1 in /home/rfahham/.local/lib/python3.8/site-packages (from requests->pywhatkit) (2.2.2)\n",
      "Requirement already satisfied: idna<4,>=2.5 in /home/rfahham/.local/lib/python3.8/site-packages (from requests->pywhatkit) (3.8)\n",
      "Requirement already satisfied: charset-normalizer<4,>=2 in /usr/local/lib/python3.8/dist-packages (from requests->pywhatkit) (3.3.2)\n",
      "Requirement already satisfied: zipp>=3.1.0; python_version < \"3.10\" in /home/rfahham/.local/lib/python3.8/site-packages (from importlib-resources>=1.4.0; python_version < \"3.9\"->jsonschema) (3.20.1)\n",
      "Requirement already satisfied: MarkupSafe>=2.0 in /home/rfahham/.local/lib/python3.8/site-packages (from Jinja2>=3.1.2->Flask->pywhatkit) (2.1.5)\n",
      "Requirement already satisfied: pyrect in /home/rfahham/.local/lib/python3.8/site-packages (from pygetwindow>=0.0.5->pyautogui->pywhatkit) (0.2.0)\n",
      "Requirement already satisfied: pyperclip in /usr/local/lib/python3.8/dist-packages (from mouseinfo->pyautogui->pywhatkit) (1.9.0)\n",
      "Requirement already satisfied: soupsieve>1.2 in /home/rfahham/.local/lib/python3.8/site-packages (from beautifulsoup4->wikipedia->pywhatkit) (2.6)\n"
     ]
    }
   ],
   "source": [
    "! pip install emoji pywhatkit"
   ]
  },
  {
   "cell_type": "code",
   "execution_count": 16,
   "metadata": {},
   "outputs": [
    {
     "name": "stdout",
     "output_type": "stream",
     "text": [
      "😀\n",
      "In 1 Seconds WhatsApp will open and after 15 Seconds Message will be Delivered!\n",
      "In 42 Seconds WhatsApp will open and after 15 Seconds Message will be Delivered!\n"
     ]
    },
    {
     "ename": "KeyboardInterrupt",
     "evalue": "",
     "output_type": "error",
     "traceback": [
      "\u001b[0;31m---------------------------------------------------------------------------\u001b[0m",
      "\u001b[0;31mKeyboardInterrupt\u001b[0m                         Traceback (most recent call last)",
      "Cell \u001b[0;32mIn[16], line 14\u001b[0m\n\u001b[1;32m     11\u001b[0m \u001b[38;5;66;03m# Envia mensagem de 3 em 3 segundos\u001b[39;00m\n\u001b[1;32m     13\u001b[0m \u001b[38;5;28;01mwhile\u001b[39;00m \u001b[38;5;28mlen\u001b[39m(contatos) \u001b[38;5;241m>\u001b[39m\u001b[38;5;241m=\u001b[39m \u001b[38;5;241m1\u001b[39m:\n\u001b[0;32m---> 14\u001b[0m     \u001b[43mpywhatkit\u001b[49m\u001b[38;5;241;43m.\u001b[39;49m\u001b[43msendwhatmsg\u001b[49m\u001b[43m(\u001b[49m\u001b[43mcontatos\u001b[49m\u001b[43m[\u001b[49m\u001b[38;5;241;43m0\u001b[39;49m\u001b[43m]\u001b[49m\u001b[43m,\u001b[49m\u001b[43m \u001b[49m\u001b[43mmensagem\u001b[49m\u001b[43m,\u001b[49m\u001b[43m \u001b[49m\u001b[43mdatetime\u001b[49m\u001b[38;5;241;43m.\u001b[39;49m\u001b[43mnow\u001b[49m\u001b[43m(\u001b[49m\u001b[43m)\u001b[49m\u001b[38;5;241;43m.\u001b[39;49m\u001b[43mhour\u001b[49m\u001b[43m,\u001b[49m\u001b[43mdatetime\u001b[49m\u001b[38;5;241;43m.\u001b[39;49m\u001b[43mnow\u001b[49m\u001b[43m(\u001b[49m\u001b[43m)\u001b[49m\u001b[38;5;241;43m.\u001b[39;49m\u001b[43mminute\u001b[49m\u001b[43m \u001b[49m\u001b[38;5;241;43m+\u001b[39;49m\u001b[38;5;241;43m1\u001b[39;49m\u001b[43m)\u001b[49m\n\u001b[1;32m     15\u001b[0m     time\u001b[38;5;241m.\u001b[39msleep(\u001b[38;5;241m3\u001b[39m)\n",
      "File \u001b[0;32m~/.local/lib/python3.8/site-packages/pywhatkit/whats.py:72\u001b[0m, in \u001b[0;36msendwhatmsg\u001b[0;34m(phone_no, message, time_hour, time_min, wait_time, tab_close, close_time)\u001b[0m\n\u001b[1;32m     68\u001b[0m sleep_time \u001b[38;5;241m=\u001b[39m left_time\u001b[38;5;241m.\u001b[39mseconds \u001b[38;5;241m-\u001b[39m wait_time\n\u001b[1;32m     69\u001b[0m \u001b[38;5;28mprint\u001b[39m(\n\u001b[1;32m     70\u001b[0m     \u001b[38;5;124mf\u001b[39m\u001b[38;5;124m\"\u001b[39m\u001b[38;5;124mIn \u001b[39m\u001b[38;5;132;01m{\u001b[39;00msleep_time\u001b[38;5;132;01m}\u001b[39;00m\u001b[38;5;124m Seconds WhatsApp will open and after \u001b[39m\u001b[38;5;132;01m{\u001b[39;00mwait_time\u001b[38;5;132;01m}\u001b[39;00m\u001b[38;5;124m Seconds Message will be Delivered!\u001b[39m\u001b[38;5;124m\"\u001b[39m\n\u001b[1;32m     71\u001b[0m )\n\u001b[0;32m---> 72\u001b[0m \u001b[43mtime\u001b[49m\u001b[38;5;241;43m.\u001b[39;49m\u001b[43msleep\u001b[49m\u001b[43m(\u001b[49m\u001b[43msleep_time\u001b[49m\u001b[43m)\u001b[49m\n\u001b[1;32m     73\u001b[0m core\u001b[38;5;241m.\u001b[39msend_message(message\u001b[38;5;241m=\u001b[39mmessage, receiver\u001b[38;5;241m=\u001b[39mphone_no, wait_time\u001b[38;5;241m=\u001b[39mwait_time)\n\u001b[1;32m     74\u001b[0m log\u001b[38;5;241m.\u001b[39mlog_message(_time\u001b[38;5;241m=\u001b[39mcurrent_time, receiver\u001b[38;5;241m=\u001b[39mphone_no, message\u001b[38;5;241m=\u001b[39mmessage)\n",
      "\u001b[0;31mKeyboardInterrupt\u001b[0m: "
     ]
    }
   ],
   "source": [
    "import emoji\n",
    "import pywhatkit\n",
    "import time\n",
    "from datetime import datetime\n",
    "\n",
    "# contatos = ['+55 22981119538', '+55 21980025474', '+55 21981836521']\n",
    "contatos = ['+910123456789']\n",
    "mensagem = emoji.emojize(\"😀❤️\")\n",
    "print(mensagem)\n",
    "\n",
    "# Envia mensagem de 3 em 3 segundos\n",
    "\n",
    "while len(contatos) >= 1:\n",
    "    pywhatkit.sendwhatmsg(contatos[0], mensagem, datetime.now().hour,datetime.now().minute +1)\n",
    "    time.sleep(3)"
   ]
  },
  {
   "cell_type": "code",
   "execution_count": null,
   "metadata": {},
   "outputs": [],
   "source": [
    "import pywhatkit\n",
    "\n",
    "# Send a WhatsApp Message to a Contact at 1:30 PM\n",
    "pywhatkit.sendwhatmsg(\"+910123456789\", \"Hi\", 13, 30)\n",
    "\n",
    "# Same as above but Closes the Tab in 2 Seconds after Sending the Message\n",
    "pywhatkit.sendwhatmsg(\"+910123456789\", \"Hi\", 13, 30, 15, True, 2)\n",
    "\n",
    "# Send an Image to a Group with the Caption as Hello\n",
    "pywhatkit.sendwhats_image(\"Nome do grupo\", \"Images/Hello.png\", \"Hello\")\n",
    "\n",
    "# Send an Image to a Contact with the no Caption\n",
    "pywhatkit.sendwhats_image(\"+910123456789\", \"Images/Hello.png\")\n",
    "\n",
    "# Send a WhatsApp Message to a Group at 12:00 AM\n",
    "pywhatkit.sendwhatmsg_to_group(\"Nome do grupo\", \"Hey All!\", 0, 0)\n",
    "\n",
    "# Send a WhatsApp Message to a Group instantly\n",
    "pywhatkit.sendwhatmsg_to_group_instantly(\"Nome do grupo\", \"Hey All!\")\n",
    "\n",
    "# Play a Video on YouTube\n",
    "pywhatkit.playonyt(\"PyWhatKit\")"
   ]
  },
  {
   "cell_type": "code",
   "execution_count": 17,
   "metadata": {},
   "outputs": [],
   "source": [
    "import pywhatkit\n",
    "\n",
    "pywhatkit.sendwhatmsg_to_group_instantly(\"Nome do grupo\", \"Hey All!\")"
   ]
  },
  {
   "cell_type": "code",
   "execution_count": 18,
   "metadata": {},
   "outputs": [],
   "source": [
    "import pywhatkit\n",
    "\n",
    "pywhatkit.sendwhatmsg_to_group_instantly(\"Nome do grupo\", \"hummmm Dobradinha !!!\")"
   ]
  }
 ],
 "metadata": {
  "kernelspec": {
   "display_name": "Python 3",
   "language": "python",
   "name": "python3"
  },
  "language_info": {
   "codemirror_mode": {
    "name": "ipython",
    "version": 3
   },
   "file_extension": ".py",
   "mimetype": "text/x-python",
   "name": "python",
   "nbconvert_exporter": "python",
   "pygments_lexer": "ipython3",
   "version": "3.8.10"
  }
 },
 "nbformat": 4,
 "nbformat_minor": 2
}
