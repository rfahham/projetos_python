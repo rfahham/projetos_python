{
 "cells": [
  {
   "cell_type": "markdown",
   "metadata": {},
   "source": [
    "Criando um arquivo.json a partir de um arquivo.csv"
   ]
  },
  {
   "cell_type": "code",
   "execution_count": 7,
   "metadata": {},
   "outputs": [],
   "source": [
    "import csv\n",
    "import json\n",
    "\n",
    "users = []\n",
    "\n",
    "with open('glbids.csv', newline='') as f:\n",
    "    reader = csv.reader(f, delimiter=';')\n",
    "    for row in reader:\n",
    "        user_id = row[0]\n",
    "        autorization = row[1]\n",
    "        users.append(\n",
    "            {\n",
    "                \"userId\": user_id,\n",
    "                \"autorization\": autorization\n",
    "            }\n",
    "        )\n",
    "\n",
    "with open('users-1.json', 'w') as json_file:\n",
    "    json.dump(users, json_file)"
   ]
  },
  {
   "cell_type": "code",
   "execution_count": 8,
   "metadata": {},
   "outputs": [],
   "source": [
    "import csv\n",
    "import json\n",
    "\n",
    "users = []\n",
    "\n",
    "with open('glbids.csv', newline='') as f:\n",
    "    reader = csv.reader(f, delimiter=';')\n",
    "    for row in reader:\n",
    "        # Check if the row has at least 2 columns\n",
    "        if len(row) >= 2:\n",
    "            user_id = row[0]\n",
    "            autorization = row[1]\n",
    "            users.append(\n",
    "                {\n",
    "                    \"userId\": user_id,\n",
    "                    \"autorization\": autorization\n",
    "                }\n",
    "            )\n",
    "        else:\n",
    "            print(f\"Skipping row: {row} (not enough columns)\")\n",
    "\n",
    "with open('users-2.json', 'w') as json_file:\n",
    "    json.dump(users, json_file, indent=4)\n"
   ]
  }
 ],
 "metadata": {
  "kernelspec": {
   "display_name": "Python 3",
   "language": "python",
   "name": "python3"
  },
  "language_info": {
   "codemirror_mode": {
    "name": "ipython",
    "version": 3
   },
   "file_extension": ".py",
   "mimetype": "text/x-python",
   "name": "python",
   "nbconvert_exporter": "python",
   "pygments_lexer": "ipython3",
   "version": "3.10.12"
  }
 },
 "nbformat": 4,
 "nbformat_minor": 2
}
