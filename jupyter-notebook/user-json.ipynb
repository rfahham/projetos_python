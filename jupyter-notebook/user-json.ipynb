{
 "cells": [
  {
   "cell_type": "code",
   "execution_count": null,
   "metadata": {},
   "outputs": [],
   "source": [
    "import csv\n",
    "import json\n",
    "\n",
    "users = []\n",
    "\n",
    "with open('glbids.csv', newline='') as f:\n",
    "    reader = csv.reader(f, delimiter=';')\n",
    "    for row in reader:\n",
    "        user_id = row[0]\n",
    "        autorization = row[1]\n",
    "        users.append(\n",
    "            {\n",
    "                \"userId\": user_id,\n",
    "                \"autorization\": autorization\n",
    "            }\n",
    "        )\n",
    "\n",
    "with open('users.json', 'w') as json_file:\n",
    "    json.dump(users, json_file)"
   ]
  },
  {
   "cell_type": "code",
   "execution_count": null,
   "metadata": {},
   "outputs": [],
   "source": []
  }
 ],
 "metadata": {
  "language_info": {
   "name": "python"
  }
 },
 "nbformat": 4,
 "nbformat_minor": 2
}
