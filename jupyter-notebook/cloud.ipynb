{
 "cells": [
  {
   "cell_type": "code",
   "execution_count": null,
   "metadata": {},
   "outputs": [],
   "source": [
    "from ssl import OP_ENABLE_MIDDLEBOX_COMPAT\n",
    "\n",
    "print(\"-\"*50)\n",
    "print(\"  Escolha a infra de cloud a ser implementada \")\n",
    "print(\"-\"*50)\n",
    "print(\"\")\n",
    "\n",
    "opcao = input(\"Informe a Cloud a ser utilizada, AWS, GCP ou AZURE: \")\n",
    "\n",
    "print(opcao)\n",
    "\n",
    "# if opcao == \"aws\":\n",
    "#     print(\"A infra selecioando foi AWS\")\n",
    "# elif opcao == \"gcp\":\n",
    "#     print(\"A infra selecioando foi GCP\")\n",
    "# elif opcao == \"azure\":\n",
    "#     print(\"A infra selecioando foi AZURE\")\n",
    "# else:\n",
    "#     print(\"Escolha uma opção válida !!!\")"
   ]
  }
 ],
 "metadata": {
  "language_info": {
   "name": "python"
  }
 },
 "nbformat": 4,
 "nbformat_minor": 2
}
