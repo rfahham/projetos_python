{
 "cells": [
  {
   "cell_type": "code",
   "execution_count": null,
   "metadata": {},
   "outputs": [],
   "source": [
    "# Uma lista de instrumentos musicais\n",
    "\n",
    "instrumentos = [\"Baixo\", \"Bateria\", \"Guitarra\"]\n",
    "\n",
    "print(\"\")\n",
    "print(\"-\"*30 )\n",
    "print(\"Lista de Instrumentos\")\n",
    "print(\"-\"*30 )\n",
    "print(\"\")\n",
    "\n",
    "for instrumento in instrumentos:\n",
    "    print(instrumento)\n",
    "\n",
    "print(\"\")"
   ]
  },
  {
   "cell_type": "code",
   "execution_count": null,
   "metadata": {},
   "outputs": [],
   "source": [
    "from datetime import datetime,timedelta\n",
    "\n",
    "now = datetime.now()\n",
    "\n",
    "s = [(now - timedelta(minutes=x)).strftime(\"%b%e %H:%M\")\n",
    "    for x in range(10)]\n",
    "\n",
    "with open('/var/log/syslog') as opf:\n",
    "    rd = opf.readlines()\n",
    "\n",
    "for i in rd:\n",
    "    j = ' '.join(i.split()[:3])\n",
    "    if j.rpartition(':')[0] in s:\n",
    "        print(i.strip)"
   ]
  },
  {
   "cell_type": "code",
   "execution_count": null,
   "metadata": {},
   "outputs": [],
   "source": [
    "#Imprime listagem de 1 a 50 \n",
    "for n in range(1, 51):\n",
    "\tprint('{} - '.format(n))\n",
    "\n",
    "print('-' * 12)\n",
    "\n",
    "# Imprime somente números pares\n",
    "for n in range(1, 51):\n",
    "\tif n % 2 == 0:\n",
    "\t\tprint('{} - '.format(n))\n",
    "\n",
    "print('-' * 12)\n",
    "\n",
    "# Diminui os laços para geral o resultado\n",
    "for n in range(2, 51, 2):\n",
    "\tprint('{} - '.format(n))"
   ]
  },
  {
   "cell_type": "code",
   "execution_count": null,
   "metadata": {},
   "outputs": [],
   "source": [
    "# List Duplicate Lines in a file\n",
    "# \n",
    "print(\"-\"*40)\n",
    "print(\"List Duplicate Lines in a file\")\n",
    "print(\"-\"*40)\n",
    "print(\"\")\n",
    "\n",
    "from pathlib import Path\n",
    "\n",
    "file_read = Path('arquivo.txt').read_text()\n",
    "convert_list = file_read.splitlines()\n",
    "result = set(convert_list)\n",
    "print(*result, sep = '\\n')"
   ]
  }
 ],
 "metadata": {
  "language_info": {
   "name": "python"
  }
 },
 "nbformat": 4,
 "nbformat_minor": 2
}
