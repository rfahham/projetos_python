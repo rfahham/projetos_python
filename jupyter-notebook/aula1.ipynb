{
 "cells": [
  {
   "cell_type": "markdown",
   "metadata": {},
   "source": [
    "# Aula Python"
   ]
  },
  {
   "cell_type": "code",
   "execution_count": 1,
   "metadata": {},
   "outputs": [
    {
     "name": "stdout",
     "output_type": "stream",
     "text": [
      "Olá mundo !!!\n"
     ]
    }
   ],
   "source": [
    "print(\"Olá mundo !!!\")"
   ]
  },
  {
   "cell_type": "markdown",
   "metadata": {},
   "source": [
    "### TIPOS:"
   ]
  },
  {
   "cell_type": "markdown",
   "metadata": {},
   "source": [
    "- Inteiros (int)\n",
    "    \n",
    "    Os inteiros em Python são números inteiros sem parte decimal. \n",
    "\n",
    "    Eles podem ser positivos ou negativos. \n",
    "    \n",
    "    Por exemplo:\n"
   ]
  },
  {
   "cell_type": "code",
   "execution_count": 124,
   "metadata": {},
   "outputs": [
    {
     "name": "stdout",
     "output_type": "stream",
     "text": [
      "5\n",
      "-5\n",
      "0\n"
     ]
    }
   ],
   "source": [
    "print(5)\n",
    "print(-5)\n",
    "print(0)"
   ]
  },
  {
   "cell_type": "markdown",
   "metadata": {},
   "source": [
    "- Strings (str)\n",
    "    \n",
    "    As strings em Python são utilizadas para representar sequências de caracteres.\n",
    "\n",
    "    Elas são definidas entre aspas simples ou duplas. \n",
    "    \n",
    "    Por exemplo, “Olá, mundo!” é uma string em Python."
   ]
  },
  {
   "cell_type": "code",
   "execution_count": 125,
   "metadata": {},
   "outputs": [
    {
     "name": "stdout",
     "output_type": "stream",
     "text": [
      "khamsa\n"
     ]
    }
   ],
   "source": [
    "print(\"khamsa\")"
   ]
  },
  {
   "cell_type": "markdown",
   "metadata": {},
   "source": [
    "- Números de ponto flutuante (float)\n",
    "    \n",
    "    Os números de ponto flutuante em Python são números com parte decimal. \n",
    "    Eles podem representar números reais"
   ]
  },
  {
   "cell_type": "code",
   "execution_count": 126,
   "metadata": {},
   "outputs": [
    {
     "name": "stdout",
     "output_type": "stream",
     "text": [
      "3.14\n",
      "-2.5\n",
      "0.0\n"
     ]
    }
   ],
   "source": [
    "print(3.14)\n",
    "print(-2.5)\n",
    "print(0.0)"
   ]
  },
  {
   "cell_type": "markdown",
   "metadata": {},
   "source": [
    "- Operações Matemáticas\n",
    "    - \"+\" para soma, \n",
    "    - \"-\" para subtração, \n",
    "    - \"*\" para multiplicação e \n",
    "    - \"/\" para divisão"
   ]
  },
  {
   "cell_type": "code",
   "execution_count": 131,
   "metadata": {},
   "outputs": [
    {
     "name": "stdout",
     "output_type": "stream",
     "text": [
      "A soma de 5 + 5 é: 10\n",
      "A subtração de 55 - 5 é: 50\n",
      "A multiplicação de 5 * 5 é: 25\n",
      "A divisão de 5 / 5 é: 1.0\n"
     ]
    }
   ],
   "source": [
    "print(\"A soma de 5 + 5 é:\", 5 + 5)\n",
    "print(\"A subtração de 55 - 5 é:\", 55-5)\n",
    "print(\"A multiplicação de 5 * 5 é:\", 5*5)\n",
    "print(\"A divisão de 5 / 5 é:\", 5/5)"
   ]
  },
  {
   "cell_type": "markdown",
   "metadata": {},
   "source": [
    "- Variáveis\n",
    "    - Criando\n",
    "    - Utilizando"
   ]
  },
  {
   "cell_type": "code",
   "execution_count": 133,
   "metadata": {},
   "outputs": [
    {
     "name": "stdout",
     "output_type": "stream",
     "text": [
      "Ricardo Fahham 53\n"
     ]
    }
   ],
   "source": [
    "nome = \"Ricardo\"\n",
    "sobrenome = \"Fahham\"\n",
    "idade = 53\n",
    "print(nome, sobrenome, idade)"
   ]
  },
  {
   "cell_type": "code",
   "execution_count": 15,
   "metadata": {},
   "outputs": [
    {
     "name": "stdout",
     "output_type": "stream",
     "text": [
      "7.25\n"
     ]
    }
   ],
   "source": [
    "nota1 = 5\n",
    "nota2 = 7\n",
    "nota3 = 9\n",
    "nota4 = 8\n",
    "media = (nota1+nota2+nota3+nota4)/4\n",
    "print(media)"
   ]
  },
  {
   "cell_type": "markdown",
   "metadata": {},
   "source": [
    "- Concatenando strings e variáveis"
   ]
  },
  {
   "cell_type": "code",
   "execution_count": 16,
   "metadata": {},
   "outputs": [
    {
     "name": "stdout",
     "output_type": "stream",
     "text": [
      "Ricardo Fahham sua nota final foi: 7.25 parabéns você passou de ano!!!\n"
     ]
    }
   ],
   "source": [
    "print(nome, sobrenome, \"sua nota final foi:\", media, \"parabéns você passou de ano!!!\",)"
   ]
  },
  {
   "cell_type": "markdown",
   "metadata": {},
   "source": [
    "- Listas (list)\n",
    "    \n",
    "    As listas em Python são utilizadas para armazenar uma coleção ordenada de elementos.\n",
    "\n",
    "    Elas podem conter diferentes tipos de dados e podem ser modificadas. \n",
    "    \n",
    "    Por exemplo:"
   ]
  },
  {
   "cell_type": "code",
   "execution_count": 31,
   "metadata": {},
   "outputs": [
    {
     "name": "stdout",
     "output_type": "stream",
     "text": [
      "['laranja', 'banana', 'caju', 53, 3.14]\n"
     ]
    }
   ],
   "source": [
    "frutas = [\"laranja\", \"banana\", \"caju\", 53, 3.14]\n",
    "print(frutas)"
   ]
  },
  {
   "cell_type": "markdown",
   "metadata": {},
   "source": [
    "- Em python os contadores começam com 0 (ZERO)"
   ]
  },
  {
   "cell_type": "code",
   "execution_count": 45,
   "metadata": {},
   "outputs": [
    {
     "name": "stdout",
     "output_type": "stream",
     "text": [
      "laranja\n",
      "caju\n",
      "53\n",
      "banana\n",
      "3.14\n",
      "laranja\n"
     ]
    }
   ],
   "source": [
    "print(frutas[0])\n",
    "print(frutas[1])\n",
    "print(frutas[2])\n",
    "\n",
    "print(frutas[-1])\n",
    "print(frutas[-2])\n",
    "print(frutas[-0])"
   ]
  },
  {
   "cell_type": "markdown",
   "metadata": {},
   "source": [
    "- Adicionando um elelmento na lista"
   ]
  },
  {
   "cell_type": "code",
   "execution_count": 47,
   "metadata": {},
   "outputs": [
    {
     "name": "stdout",
     "output_type": "stream",
     "text": [
      "['laranja', 'caju', 53, 3.14, 'banana', 'mamão', 'mamão']\n"
     ]
    }
   ],
   "source": [
    "frutas.append(\"mamão\")\n",
    "print(frutas)"
   ]
  },
  {
   "cell_type": "markdown",
   "metadata": {},
   "source": [
    "- Removendo um elemento da lista"
   ]
  },
  {
   "cell_type": "code",
   "execution_count": 48,
   "metadata": {},
   "outputs": [
    {
     "name": "stdout",
     "output_type": "stream",
     "text": [
      "['laranja', 'caju', 53, 3.14, 'banana', 'mamão']\n"
     ]
    }
   ],
   "source": [
    "frutas.remove(\"mamão\")\n",
    "print(frutas)"
   ]
  },
  {
   "cell_type": "markdown",
   "metadata": {},
   "source": [
    "- Tuplas (tuple)\n",
    "\n",
    "    As tuplas em Python são semelhantes às listas, mas são imutáveis, ou seja, não podem ser modificadas após a sua criação.\n",
    "\n",
    "    Elas também podem conter diferentes tipos de dados. \n",
    "    \n",
    "    Por exemplo:"
   ]
  },
  {
   "cell_type": "code",
   "execution_count": 51,
   "metadata": {},
   "outputs": [
    {
     "name": "stdout",
     "output_type": "stream",
     "text": [
      "('laranja', 'banana', 'caju', 53, 3.14)\n"
     ]
    }
   ],
   "source": [
    "frutas = (\"laranja\", \"banana\", \"caju\", 53, 3.14)\n",
    "print(frutas)"
   ]
  },
  {
   "cell_type": "markdown",
   "metadata": {},
   "source": [
    "- Dicionários (dict)\n",
    "    \n",
    "    Os dicionários em Python são utilizados para armazenar dados em pares chave-valor. \n",
    "\n",
    "    Cada elemento em um dicionário é acessado por sua chave única. \n",
    "    \n",
    "    Por exemplo:"
   ]
  },
  {
   "cell_type": "code",
   "execution_count": 52,
   "metadata": {},
   "outputs": [
    {
     "name": "stdout",
     "output_type": "stream",
     "text": [
      "{'nome': 'João', 'idade': 30}\n"
     ]
    }
   ],
   "source": [
    "cliente = {\"nome\": \"João\", \"idade\": 30}\n",
    "print(cliente)"
   ]
  },
  {
   "cell_type": "markdown",
   "metadata": {},
   "source": [
    "- Lista de usuários ???"
   ]
  },
  {
   "cell_type": "code",
   "execution_count": 54,
   "metadata": {},
   "outputs": [
    {
     "name": "stdout",
     "output_type": "stream",
     "text": [
      "[{'nome': 'João', 'idade': 30}, {'nome': 'Joaquim', 'idade': 29}, {'nome': 'Manoel', 'idade': 28}]\n"
     ]
    }
   ],
   "source": [
    "lista = [{\"nome\": \"João\", \"idade\": 30}, {\"nome\": \"Joaquim\", \"idade\": 29}, {\"nome\": \"Manoel\", \"idade\": 28}]\n",
    "print(lista)"
   ]
  },
  {
   "cell_type": "code",
   "execution_count": 55,
   "metadata": {},
   "outputs": [
    {
     "name": "stdout",
     "output_type": "stream",
     "text": [
      "{'nome': 'Joaquim', 'idade': 29}\n"
     ]
    }
   ],
   "source": [
    "print(lista[1])"
   ]
  },
  {
   "cell_type": "code",
   "execution_count": 56,
   "metadata": {},
   "outputs": [
    {
     "name": "stdout",
     "output_type": "stream",
     "text": [
      "{'nome': 'João', 'idade': 30}\n",
      "{'nome': 'Joaquim', 'idade': 29}\n",
      "{'nome': 'Manoel', 'idade': 28}\n"
     ]
    }
   ],
   "source": [
    "for n in lista:\n",
    "    print(n)"
   ]
  },
  {
   "cell_type": "markdown",
   "metadata": {},
   "source": [
    "- Condições (True e False)"
   ]
  },
  {
   "cell_type": "code",
   "execution_count": 67,
   "metadata": {},
   "outputs": [
    {
     "name": "stdout",
     "output_type": "stream",
     "text": [
      "False\n",
      "True\n",
      "True\n",
      "False\n",
      "False\n",
      "True\n",
      "False\n",
      "True\n"
     ]
    }
   ],
   "source": [
    "nota1 = 5\n",
    "nota2 = 7\n",
    "nota3 = 5\n",
    "\n",
    "print(nota1 > nota2)\n",
    "print(nota1 < nota2)\n",
    "\n",
    "print(nota2 > nota1)\n",
    "print(nota2 < nota1)\n",
    "\n",
    "print(nota1 >= nota2)\n",
    "\n",
    "print(nota1 >= nota3)\n",
    "\n"
   ]
  },
  {
   "cell_type": "code",
   "execution_count": 76,
   "metadata": {},
   "outputs": [
    {
     "name": "stdout",
     "output_type": "stream",
     "text": [
      "True\n",
      "False\n"
     ]
    }
   ],
   "source": [
    "senha = \"1q2w3e4r\"\n",
    "\n",
    "print(senha == \"1q2w3e4r\")\n",
    "\n",
    "print(senha != \"1q2w3e4r\")"
   ]
  },
  {
   "cell_type": "code",
   "execution_count": 121,
   "metadata": {},
   "outputs": [
    {
     "name": "stdout",
     "output_type": "stream",
     "text": [
      "Senha incorreta. Tentativa 1 de 3\n",
      "Senha incorreta. Tentativa 2 de 3\n",
      "Senha incorreta. Tentativa 3 de 3\n",
      "Número máximo de tentativas alcançado. Acesso bloqueado.\n"
     ]
    }
   ],
   "source": [
    "senha_correta = \"1q2w3e4r\"\n",
    "tentativas = 0\n",
    "max_tentativas = 3\n",
    "\n",
    "while tentativas < max_tentativas:\n",
    "    digite_senha = input(\"Digite sua senha: \")\n",
    "    \n",
    "    if digite_senha == senha_correta:\n",
    "        print(\"Bem vindo !!!\")\n",
    "        break\n",
    "    else:\n",
    "        tentativas += 1\n",
    "        print(f\"Senha incorreta. Tentativa {tentativas} de {max_tentativas}\")\n",
    "        \n",
    "    if tentativas == max_tentativas:\n",
    "        print(\"Número máximo de tentativas alcançado. Acesso bloqueado.\")\n",
    "        \n"
   ]
  },
  {
   "cell_type": "markdown",
   "metadata": {},
   "source": [
    "- Convertendo tipos:"
   ]
  },
  {
   "cell_type": "code",
   "execution_count": 122,
   "metadata": {},
   "outputs": [
    {
     "name": "stdout",
     "output_type": "stream",
     "text": [
      "O ano digitado foi... 1971\n",
      "A informação é do tipo inteiro?  True\n",
      "A informação é do tipo string?  False\n",
      "Hoje você tem... 53 anos de idade!\n"
     ]
    }
   ],
   "source": [
    "ano = int(input(\"digite o ano que vc nasceu: \"))\n",
    "\n",
    "print(\"O ano digitado foi...\", ano)\n",
    "print(\"A informação é do tipo inteiro? \", type(ano) is int)\n",
    "print(\"A informação é do tipo string? \", type(ano) is str)\n",
    "\n",
    "idade = (2024 - ano)\n",
    "print(\"Hoje você tem...\", idade, \"anos de idade!\")"
   ]
  },
  {
   "cell_type": "markdown",
   "metadata": {},
   "source": [
    "O Bom desse código é que a pessoa nunca fica velha. rsrsrs"
   ]
  },
  {
   "cell_type": "code",
   "execution_count": 123,
   "metadata": {},
   "outputs": [
    {
     "name": "stdout",
     "output_type": "stream",
     "text": [
      "O ano digitado foi... 1971\n",
      "A informação é do tipo inteiro?  True\n",
      "A informação é do tipo string?  False\n",
      "Hoje você tem... 53 anos de idade!\n"
     ]
    }
   ],
   "source": [
    "from datetime import datetime\n",
    "\n",
    "ano_atual = int(datetime.now().strftime(\"%Y\"))\n",
    "\n",
    "ano = int(input(\"digite o ano que vc nasceu: \"))\n",
    "\n",
    "print(\"O ano digitado foi...\", ano)\n",
    "print(\"A informação é do tipo inteiro? \", type(ano) is int)\n",
    "print(\"A informação é do tipo string? \", type(ano) is str)\n",
    "\n",
    "idade = (ano_atual - ano)\n",
    "print(\"Hoje você tem...\", idade, \"anos de idade!\")"
   ]
  }
 ],
 "metadata": {
  "kernelspec": {
   "display_name": "Python 3",
   "language": "python",
   "name": "python3"
  },
  "language_info": {
   "codemirror_mode": {
    "name": "ipython",
    "version": 3
   },
   "file_extension": ".py",
   "mimetype": "text/x-python",
   "name": "python",
   "nbconvert_exporter": "python",
   "pygments_lexer": "ipython3",
   "version": "3.8.10"
  }
 },
 "nbformat": 4,
 "nbformat_minor": 2
}
