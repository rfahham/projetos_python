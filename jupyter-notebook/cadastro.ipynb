{
 "cells": [
  {
   "cell_type": "markdown",
   "metadata": {},
   "source": [
    "# Sistema de cadastro"
   ]
  },
  {
   "cell_type": "code",
   "execution_count": 1,
   "metadata": {},
   "outputs": [
    {
     "ename": "ModuleNotFoundError",
     "evalue": "No module named 'lib'",
     "output_type": "error",
     "traceback": [
      "\u001b[0;31m---------------------------------------------------------------------------\u001b[0m",
      "\u001b[0;31mModuleNotFoundError\u001b[0m                       Traceback (most recent call last)",
      "Cell \u001b[0;32mIn[1], line 1\u001b[0m\n\u001b[0;32m----> 1\u001b[0m \u001b[38;5;28;01mfrom\u001b[39;00m \u001b[38;5;21;01mlib\u001b[39;00m\u001b[38;5;21;01m.\u001b[39;00m\u001b[38;5;21;01minterface\u001b[39;00m \u001b[38;5;28;01mimport\u001b[39;00m \u001b[38;5;241m*\u001b[39m\n\u001b[1;32m      2\u001b[0m \u001b[38;5;28;01mfrom\u001b[39;00m \u001b[38;5;21;01mlib\u001b[39;00m\u001b[38;5;21;01m.\u001b[39;00m\u001b[38;5;21;01marquivo\u001b[39;00m \u001b[38;5;28;01mimport\u001b[39;00m \u001b[38;5;241m*\u001b[39m\n\u001b[1;32m      3\u001b[0m \u001b[38;5;28;01mfrom\u001b[39;00m \u001b[38;5;21;01mtime\u001b[39;00m \u001b[38;5;28;01mimport\u001b[39;00m sleep\n",
      "\u001b[0;31mModuleNotFoundError\u001b[0m: No module named 'lib'"
     ]
    }
   ],
   "source": [
    "from lib.interface import *\n",
    "from lib.arquivo import *\n",
    "from time import sleep\n",
    "\n",
    "arq = 'arquivo.txt'\n",
    "\n",
    "if not arquivoExiste(arq):\n",
    "    criarArquivo(arq)\n",
    "\n",
    "while True:\n",
    "    resposta = menu([\"Listar\", \"Novo\", \"Excluir\", \"Sair do sistema\"])\n",
    "    if resposta == 1:\n",
    "        # Opção de listar o conteúdo do arquivo!\n",
    "        lerArquivo(arq)\n",
    "    elif resposta == 2:\n",
    "        # Opção de cadastro\n",
    "        cabecalho(\"Novo Input no Cadastro\")\n",
    "        nome = str(input(\"nome: \"))\n",
    "        idade = leiaInt('Idade: ')\n",
    "        sexo = str(input(\"sexo: \"))\n",
    "        cadastrar(arq, nome, idade, sexo)\n",
    "    elif resposta == 3:\n",
    "        # Excluir um registro do sistema\n",
    "        cabecalho(\"Excluindo o registro\")\n",
    "        \n",
    "\n",
    "    elif resposta == 4:\n",
    "        # Opção sair do sistema\n",
    "        cabecalho(\"Saindo do Sistema\")\n",
    "        break\n",
    "    else:\n",
    "        # Digitou uma opção errada no sistema\n",
    "        cabecalho(\"\\033[31m Erro, digite uma opção válida \\033[m\")\n",
    "    sleep(2)\n",
    "    "
   ]
  }
 ],
 "metadata": {
  "kernelspec": {
   "display_name": "Python 3",
   "language": "python",
   "name": "python3"
  },
  "language_info": {
   "codemirror_mode": {
    "name": "ipython",
    "version": 3
   },
   "file_extension": ".py",
   "mimetype": "text/x-python",
   "name": "python",
   "nbconvert_exporter": "python",
   "pygments_lexer": "ipython3",
   "version": "3.8.10"
  }
 },
 "nbformat": 4,
 "nbformat_minor": 2
}
