{
 "cells": [
  {
   "cell_type": "markdown",
   "metadata": {},
   "source": [
    "# Consulta temperatura"
   ]
  },
  {
   "cell_type": "markdown",
   "metadata": {},
   "source": [
    "API = https://api.openweathermap.org/data/2.5/weather?g="
   ]
  },
  {
   "cell_type": "code",
   "execution_count": 5,
   "metadata": {},
   "outputs": [],
   "source": [
    "# arquivo key_api.py para salvar o token\n",
    "\n",
    "key_api = \"123456\""
   ]
  },
  {
   "cell_type": "code",
   "execution_count": 2,
   "metadata": {},
   "outputs": [
    {
     "name": "stdout",
     "output_type": "stream",
     "text": [
      "Requirement already satisfied: requests in /usr/local/lib/python3.8/dist-packages (2.32.3)\n",
      "Requirement already satisfied: certifi>=2017.4.17 in /home/rfahham/.local/lib/python3.8/site-packages (from requests) (2024.8.30)\n",
      "Requirement already satisfied: charset-normalizer<4,>=2 in /usr/local/lib/python3.8/dist-packages (from requests) (3.3.2)\n",
      "Requirement already satisfied: urllib3<3,>=1.21.1 in /home/rfahham/.local/lib/python3.8/site-packages (from requests) (2.2.2)\n",
      "Requirement already satisfied: idna<4,>=2.5 in /home/rfahham/.local/lib/python3.8/site-packages (from requests) (3.8)\n"
     ]
    }
   ],
   "source": [
    "! pip3 install requests"
   ]
  },
  {
   "cell_type": "code",
   "execution_count": 8,
   "metadata": {},
   "outputs": [
    {
     "name": "stdout",
     "output_type": "stream",
     "text": [
      "Status Code:  <Response [401]>\n"
     ]
    },
    {
     "ename": "KeyError",
     "evalue": "'weather'",
     "output_type": "error",
     "traceback": [
      "\u001b[0;31m---------------------------------------------------------------------------\u001b[0m",
      "\u001b[0;31mKeyError\u001b[0m                                  Traceback (most recent call last)",
      "Cell \u001b[0;32mIn[8], line 19\u001b[0m\n\u001b[1;32m     17\u001b[0m \u001b[38;5;28mprint\u001b[39m(\u001b[38;5;124m\"\u001b[39m\u001b[38;5;124mStatus Code: \u001b[39m\u001b[38;5;124m\"\u001b[39m, requisicao)\n\u001b[1;32m     18\u001b[0m requisicao_dics \u001b[38;5;241m=\u001b[39m requisicao\u001b[38;5;241m.\u001b[39mjson()\n\u001b[0;32m---> 19\u001b[0m descricao \u001b[38;5;241m=\u001b[39m \u001b[43mrequisicao_dics\u001b[49m\u001b[43m[\u001b[49m\u001b[38;5;124;43m'\u001b[39;49m\u001b[38;5;124;43mweather\u001b[39;49m\u001b[38;5;124;43m'\u001b[39;49m\u001b[43m]\u001b[49m[\u001b[38;5;241m0\u001b[39m][\u001b[38;5;124m'\u001b[39m\u001b[38;5;124mdescription\u001b[39m\u001b[38;5;124m'\u001b[39m]\n\u001b[1;32m     20\u001b[0m temperatura \u001b[38;5;241m=\u001b[39m requisicao_dics[\u001b[38;5;124m'\u001b[39m\u001b[38;5;124mmain\u001b[39m\u001b[38;5;124m'\u001b[39m][\u001b[38;5;124m'\u001b[39m\u001b[38;5;124mtemp\u001b[39m\u001b[38;5;124m'\u001b[39m]\n\u001b[1;32m     21\u001b[0m sensacao_termica \u001b[38;5;241m=\u001b[39m requisicao_dics[\u001b[38;5;124m'\u001b[39m\u001b[38;5;124mmain\u001b[39m\u001b[38;5;124m'\u001b[39m][\u001b[38;5;124m'\u001b[39m\u001b[38;5;124mfeels_like\u001b[39m\u001b[38;5;124m'\u001b[39m]\n",
      "\u001b[0;31mKeyError\u001b[0m: 'weather'"
     ]
    }
   ],
   "source": [
    "import requests\n",
    "\n",
    "# pega o valor da variável \"key_api\" que está no arquivo key.py\n",
    "# from key import key_api \n",
    "\n",
    "# ou\n",
    "# key = input(\"Digite chave: \")\n",
    "\n",
    "cidade = \"rj\"\n",
    "pais = \"br\"\n",
    "unidade = \"metric\"\n",
    "link = f\"https://api.openweathermap.org/data/2.5/weather?q={cidade},{pais}&units={unidade}&lang=ptbr&APPID={key_api}\"\n",
    "\n",
    "# print(link)\n",
    "\n",
    "requisicao = requests.get(link)\n",
    "print(\"Status Code: \", requisicao)\n",
    "requisicao_dics = requisicao.json()\n",
    "descricao = requisicao_dics['weather'][0]['description']\n",
    "temperatura = requisicao_dics['main']['temp']\n",
    "sensacao_termica = requisicao_dics['main']['feels_like']\n",
    "\n",
    "print(\"-\"*50)\n",
    "print(f\"A temperatura em {cidade} é de {temperatura} graus\")\n",
    "print(f\"A condição do tempo é: {descricao}\")\n",
    "print(f\"A sensação térmica é de: {sensacao_termica} graus\")\n",
    "print(\"-\"*50)"
   ]
  }
 ],
 "metadata": {
  "kernelspec": {
   "display_name": "Python 3",
   "language": "python",
   "name": "python3"
  },
  "language_info": {
   "codemirror_mode": {
    "name": "ipython",
    "version": 3
   },
   "file_extension": ".py",
   "mimetype": "text/x-python",
   "name": "python",
   "nbconvert_exporter": "python",
   "pygments_lexer": "ipython3",
   "version": "3.8.10"
  }
 },
 "nbformat": 4,
 "nbformat_minor": 2
}
