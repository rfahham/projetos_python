{
 "cells": [
  {
   "cell_type": "code",
   "execution_count": null,
   "metadata": {},
   "outputs": [],
   "source": [
    "b = 1\n",
    "while b < 11:\n",
    "\tprint(b,\"-\")\n",
    "\tb+=1\n",
    "print('FIM')\n",
    "\n",
    "print('=' * 30)\n",
    "\n",
    "c = 1\n",
    "while c < 11:\n",
    "\tprint(c)\n",
    "\tc = c + 1\n",
    "print('FIM')\n",
    "\n",
    "print('=' * 30)\n",
    "\n",
    "r = 'S'\n",
    "while r == 'S':\n",
    "\tn = int(raw_input('Digite um valor: '))\n",
    "\tr = str(raw_input('Quer continuar? [S/N] ')).upper()\n",
    "print('FIM!')"
   ]
  },
  {
   "cell_type": "code",
   "execution_count": null,
   "metadata": {},
   "outputs": [],
   "source": [
    "# from colorama import Fore\n",
    "\n",
    "saudacoes = [\n",
    "    \"Olá !!!\",\n",
    "    \"Seja Bem-vindo !!!\",\n",
    "    \"Aguarde um momento...\",\n",
    "    \"Em breve você será atendido !!!\",\n",
    "    \" \"\n",
    "]\n",
    "\n",
    "from itertools import cycle\n",
    "from time import sleep\n",
    "\n",
    "while True:\n",
    "    for saudacao in cycle(saudacoes):\n",
    "        # print(Fore.BLUE + saudacao)\n",
    "        print(saudacao)\n",
    "        sleep(1)"
   ]
  }
 ],
 "metadata": {
  "language_info": {
   "name": "python"
  }
 },
 "nbformat": 4,
 "nbformat_minor": 2
}
