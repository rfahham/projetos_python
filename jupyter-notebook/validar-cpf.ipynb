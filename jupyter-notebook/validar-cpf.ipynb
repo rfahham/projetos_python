{
 "cells": [
  {
   "cell_type": "code",
   "execution_count": null,
   "metadata": {},
   "outputs": [],
   "source": [
    "def validar_cpf(cpf):\n",
    "    # Remova quaisquer caracteres não numéricos do CPF\n",
    "    cpf = ''. join(filter(str.isdigit, cpf))\n",
    "\n",
    "    # Verifique se o CPF possui 11 dígitos \n",
    "    if len(cpf) != 11:\n",
    "        return False\n",
    "\n",
    "    # Calculo do Primeiro Dígito Verificador (YV1)\n",
    "    soma = 0\n",
    "    peso = 10\n",
    "    for i in range(9):\n",
    "        soma += int (cpf[i]) * peso\n",
    "        peso -= 1\n",
    "    resto = soma % 11\n",
    "    if resto < 2:\n",
    "        yy1 = 0\n",
    "    else:\n",
    "        yy1 = 11 - resto\n",
    "\n",
    "    # Cálculo do Segundo Dígito Verificador (YV2)\n",
    "    soma = 0\n",
    "    peso = 11\n",
    "    for i in range(10):\n",
    "        soma += int(cpf[i]) * peso\n",
    "        peso -= 1\n",
    "    resto = soma % 11\n",
    "    if resto < 2:\n",
    "        yy2 = 0\n",
    "    else:\n",
    "        yy2 = 11 - resto\n",
    "\n",
    "    # Verifique se os dígitos calculados correspondem aos dígitos originais\n",
    "    if int(cpf[9]) == yy1 and int(cpf[10]) == yy2:\n",
    "        return True\n",
    "    else:\n",
    "        return False\n",
    "\n",
    "# Exemplo de uso da função para validar um CPF\n",
    "cpf = input(\"Insira o número do cpf: \") # Substitua pelo CPF que deseja validar\n",
    "if validar_cpf(cpf):\n",
    "    print(\"CPF válido\")\n",
    "else:\n",
    "    print(\"CPF inválido\")"
   ]
  }
 ],
 "metadata": {
  "language_info": {
   "name": "python"
  }
 },
 "nbformat": 4,
 "nbformat_minor": 2
}
