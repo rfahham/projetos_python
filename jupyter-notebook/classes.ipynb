{
 "cells": [
  {
   "cell_type": "markdown",
   "metadata": {},
   "source": [
    "# Classes\n",
    "\n",
    "Conjunto de funções"
   ]
  },
  {
   "cell_type": "markdown",
   "metadata": {},
   "source": [
    "Exemplo Básico: Classe Pessoa\n",
    "Este é um exemplo simples de uma classe que representa uma pessoa com atributos e um método para exibir informações sobre a pessoa."
   ]
  },
  {
   "cell_type": "code",
   "execution_count": null,
   "metadata": {},
   "outputs": [],
   "source": [
    "class Pessoa:\n",
    "    def __init__(self, nome, idade):\n",
    "        self.nome = nome\n",
    "        self.idade = idade\n",
    "\n",
    "    def apresentar(self):\n",
    "        print(f\"Olá, meu nome é {self.nome} e eu tenho {self.idade} anos.\")\n",
    "\n",
    "# Criando uma instância da classe Pessoa\n",
    "pessoa1 = Pessoa(\"Alice\", 30)\n",
    "pessoa1.apresentar()"
   ]
  },
  {
   "cell_type": "markdown",
   "metadata": {},
   "source": [
    "Exemplo com Métodos e Propriedades: Classe Carro\n",
    "Este exemplo mostra uma classe Carro com métodos para ligar o carro e exibir o status do combustível."
   ]
  },
  {
   "cell_type": "code",
   "execution_count": null,
   "metadata": {},
   "outputs": [],
   "source": [
    "class Carro:\n",
    "    def __init__(self, modelo, combustivel):\n",
    "        self.modelo = modelo\n",
    "        self.combustivel = combustivel\n",
    "        self.ligado = False\n",
    "\n",
    "    def ligar(self):\n",
    "        if self.combustivel > 0:\n",
    "            self.ligado = True\n",
    "            print(f\"O carro {self.modelo} está ligado.\")\n",
    "        else:\n",
    "            print(f\"Não há combustível suficiente para ligar o carro {self.modelo}.\")\n",
    "\n",
    "    def desligar(self):\n",
    "        if self.ligado:\n",
    "            self.ligado = False\n",
    "            print(f\"O carro {self.modelo} está desligado.\")\n",
    "        else:\n",
    "            print(f\"O carro {self.modelo} já está desligado.\")\n",
    "\n",
    "    def abastecer(self, quantidade):\n",
    "        self.combustivel += quantidade\n",
    "        print(f\"O carro {self.modelo} foi abastecido com {quantidade} litros de combustível.\")\n",
    "\n",
    "    def status(self):\n",
    "        estado = \"ligado\" if self.ligado else \"desligado\"\n",
    "        print(f\"O carro {self.modelo} está {estado} e possui {self.combustivel} litros de combustível.\")\n",
    "\n",
    "# Criando uma instância da classe Carro\n",
    "carro1 = Carro(\"Fusca\", 5)\n",
    "carro1.status()\n",
    "carro1.ligar()\n",
    "carro1.abastecer(10)\n",
    "carro1.status()\n",
    "carro1.desligar()\n"
   ]
  },
  {
   "cell_type": "markdown",
   "metadata": {},
   "source": [
    "Exemplo Avançado: Herança e Polimorfismo\n",
    "Neste exemplo, criaremos uma classe base Animal e duas classes derivadas Cachorro e Gato, demonstrando herança e polimorfismo."
   ]
  },
  {
   "cell_type": "code",
   "execution_count": null,
   "metadata": {},
   "outputs": [],
   "source": [
    "class Animal:\n",
    "    def __init__(self, nome):\n",
    "        self.nome = nome\n",
    "\n",
    "    def fazer_som(self):\n",
    "        raise NotImplementedError(\"Subclasse deve implementar o método fazer_som\")\n",
    "\n",
    "class Cachorro(Animal):\n",
    "    def fazer_som(self):\n",
    "        return \"Au Au\"\n",
    "\n",
    "class Gato(Animal):\n",
    "    def fazer_som(self):\n",
    "        return \"Miau\"\n",
    "\n",
    "# Função para imprimir o som que o animal faz\n",
    "def imprimir_som(animal):\n",
    "    print(f\"O {animal.nome} faz o som: {animal.fazer_som()}\")\n",
    "\n",
    "# Criando instâncias das classes derivadas\n",
    "cachorro = Cachorro(\"Rex\")\n",
    "gato = Gato(\"Whiskers\")\n",
    "\n",
    "# Usando a função para imprimir o som dos animais\n",
    "imprimir_som(cachorro)\n",
    "imprimir_som(gato)\n"
   ]
  },
  {
   "cell_type": "markdown",
   "metadata": {},
   "source": [
    "Explicação dos Exemplos\n",
    "\n",
    "Classe Pessoa: Um exemplo simples de classe com atributos e um método.\n",
    "Classe Carro: Demonstra o uso de métodos para manipular o estado interno do objeto.\n",
    "Classes Animal, Cachorro, e Gato: Mostra como usar herança para criar classes derivadas e como implementar métodos polimórficos."
   ]
  }
 ],
 "metadata": {
  "language_info": {
   "name": "python"
  }
 },
 "nbformat": 4,
 "nbformat_minor": 2
}
