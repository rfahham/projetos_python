{
 "cells": [
  {
   "cell_type": "code",
   "execution_count": null,
   "metadata": {},
   "outputs": [],
   "source": [
    "print('=' * 30) \n",
    "print('Sequência de Fibonacci'.center(30))\n",
    "print('=' * 30) \n",
    "n = int(input('Quantos termos você quer mostrar? '))\n",
    "t1 = 0\n",
    "t2 = 1\n",
    "print('')\n",
    "print(t1)\n",
    "print(t2)\n",
    "cont = 3\n",
    "while cont <= n:\n",
    "\tt3 = t1 + t2\n",
    "\tprint('{}' .format(t3))\n",
    "\tt1 = t2\n",
    "\tt2 = t3\n",
    "\tcont += 1\n",
    "print('')"
   ]
  },
  {
   "cell_type": "code",
   "execution_count": null,
   "metadata": {},
   "outputs": [],
   "source": [
    "print('=' * 30) \n",
    "print('Sequência de Fibonacci'.center(30))\n",
    "print('=' * 30)\n",
    "\n",
    "def function():\n",
    "    a, b = 0, 1\n",
    "    while True:\n",
    "        yield a\n",
    "        a, b = b, a + b\n",
    "\n",
    "for i in function():\n",
    "    if i > 100:\n",
    "        break\n",
    "    print(i, end = ' ')"
   ]
  }
 ],
 "metadata": {
  "language_info": {
   "name": "python"
  }
 },
 "nbformat": 4,
 "nbformat_minor": 2
}
