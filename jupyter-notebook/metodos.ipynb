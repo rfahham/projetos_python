{
 "cells": [
  {
   "cell_type": "markdown",
   "metadata": {},
   "source": [
    "# Métodos HTTP"
   ]
  },
  {
   "cell_type": "markdown",
   "metadata": {},
   "source": [
    "Utilizando os Métodos HTTP para testar na API: https://api-desafio-qa.onrender.com/"
   ]
  },
  {
   "cell_type": "code",
   "execution_count": 1,
   "metadata": {},
   "outputs": [
    {
     "name": "stdout",
     "output_type": "stream",
     "text": [
      "Defaulting to user installation because normal site-packages is not writeable\n",
      "Requirement already satisfied: requests in /home/rfahham/.local/lib/python3.10/site-packages (2.32.3)\n",
      "Requirement already satisfied: urllib3 in /usr/lib/python3/dist-packages (1.26.5)\n",
      "Requirement already satisfied: colorama in /usr/lib/python3/dist-packages (0.4.4)\n",
      "Requirement already satisfied: idna<4,>=2.5 in /usr/lib/python3/dist-packages (from requests) (3.3)\n",
      "Requirement already satisfied: certifi>=2017.4.17 in /usr/local/lib/python3.10/dist-packages (from requests) (2024.7.4)\n",
      "Requirement already satisfied: charset-normalizer<4,>=2 in /home/rfahham/.local/lib/python3.10/site-packages (from requests) (3.3.2)\n"
     ]
    }
   ],
   "source": [
    "! pip install requests urllib3 colorama"
   ]
  },
  {
   "cell_type": "markdown",
   "metadata": {},
   "source": [
    "## POST\n",
    "\n",
    "O método POST é utilizado para submeter uma entidade a um recurso específico, frequentemente causando uma mudança no estado do recurso ou efeitos colaterais no servidor."
   ]
  },
  {
   "cell_type": "code",
   "execution_count": 3,
   "metadata": {},
   "outputs": [
    {
     "name": "stdout",
     "output_type": "stream",
     "text": [
      "Status Code: 201 - Created\n",
      "Conteúdo da Resposta (300 primeiros caracteres):\n",
      "{\"name\":\"ricardo\",\"lastname\":\"fahham\",\"email\":\"rfahham@gmail.com\",\"id\":6,\"created\":\"2024-10-02T13:04:27.066Z\"}...\n"
     ]
    }
   ],
   "source": [
    "import requests\n",
    "import urllib3\n",
    "from colorama import Fore, Style, init\n",
    "import json  # Importa a biblioteca json\n",
    "\n",
    "# Inicializa o Colorama\n",
    "init(autoreset=True)\n",
    "\n",
    "# Desabilita warnings do urllib3\n",
    "urllib3.disable_warnings(urllib3.exceptions.InsecureRequestWarning)\n",
    "\n",
    "# URL para requisição POST\n",
    "url = \"https://api-desafio-qa.onrender.com/users\"\n",
    "\n",
    "# Dados que você deseja enviar\n",
    "data = {\n",
    "    \"name\": \"ricardo\",\n",
    "    \"lastname\": \"fahham\",\n",
    "    \"email\": \"rfahham@gmail.com\"\n",
    "}\n",
    "\n",
    "# Cabeçalhos que você deseja enviar\n",
    "headers = {\n",
    "    'Content-Type': 'application/json',  # Corrigido para usar o formato correto de cabeçalho\n",
    "    'Accept': '*/*'  # Corrigido para usar o formato correto de cabeçalho\n",
    "}\n",
    "\n",
    "try:\n",
    "    # Converte os dados para JSON antes de enviar\n",
    "    r = requests.post(url, headers=headers, data=json.dumps(data))  # Faz a requisição POST\n",
    "\n",
    "    # Exibindo informações da resposta\n",
    "    print(Fore.GREEN + f\"Status Code: {r.status_code} - {r.reason}\" + Style.RESET_ALL)\n",
    "    \n",
    "    # Exibindo parte do conteúdo da resposta\n",
    "    print(\"Conteúdo da Resposta (300 primeiros caracteres):\")\n",
    "    print(r.text[:300] + '...')\n",
    "    \n",
    "except requests.RequestException as e:\n",
    "    print(Fore.RED + f\"Erro ao acessar {url}: {e}\" + Style.RESET_ALL)\n",
    "\n",
    "\n",
    "# curl -X 'POST' 'https://api-desafio-qa.onrender.com/users' -H 'Content-Type: application/json' -H 'Accept: */*' -d '{\"name\": \"Ricardo\", \"lastname\": \"fahham\", \"email\": \"rfahham@gmail.com\"}'\n"
   ]
  },
  {
   "cell_type": "markdown",
   "metadata": {},
   "source": [
    "## GET\n",
    "\n",
    "O método GET solicita a representação de um recurso específico. Requisições utilizando o método GET devem retornar apenas dados."
   ]
  },
  {
   "cell_type": "code",
   "execution_count": 4,
   "metadata": {},
   "outputs": [
    {
     "name": "stdout",
     "output_type": "stream",
     "text": [
      "Status Code: 200 - OK\n",
      "------------------------------------------------\n",
      "Conteúdo da Resposta (300 primeiros caracteres):\n",
      "------------------------------------------------\n",
      "[{\"email\":\"john.doe@example.com\",\"id\":1,\"last_name\":\"Doe\",\"name\":\"John\"},{\"email\":\"jane.smith@example.com\",\"id\":2,\"last_name\":\"Smith\",\"name\":\"Jane\"},{\"email\":\"michael.johnson@example.com\",\"id\":3,\"last_name\":\"Johnson\",\"name\":\"Michael\"},{\"email\":\"emily.davis@example.com\",\"id\":4,\"last_name\":\"Davis\",\"name\":\"Emily\"},{\"email\":\"william.brown@example.com\",\"id\":5,\"last_name\":\"Brown\",\"name\":\"William\"},{\"created\":\"2024-10-02T13:04:27.066Z\",\"email\":\"rfahham@gmail.com\",\"id\":6,\"lastname\":\"fahham\",\"name\":\"ricardo\"}]...\n",
      "-----------------------\n",
      "Cabeçalhos da Resposta:\n",
      "-----------------------\n",
      "Date: Wed, 02 Oct 2024 13:04:34 GMT\n",
      "Content-Type: application/json; charset=utf-8\n",
      "Transfer-Encoding: chunked\n",
      "Connection: keep-alive\n",
      "CF-Ray: 8cc4e6268b02cb3d-GIG\n",
      "CF-Cache-Status: DYNAMIC\n",
      "ETag: W/\"1fa-HnRMXLbT1Q4P2IHo6Ng8ctw5maA\"\n",
      "Vary: Accept-Encoding\n",
      "rndr-id: e4ed9af9-b83a-4edf\n",
      "x-powered-by: Express\n",
      "x-render-origin-server: Render\n",
      "Server: cloudflare\n",
      "Content-Encoding: gzip\n"
     ]
    }
   ],
   "source": [
    "import requests\n",
    "import urllib3\n",
    "from colorama import Fore, Style, init\n",
    "\n",
    "# Inicializa o Colorama\n",
    "init(autoreset=True)\n",
    "\n",
    "# Desabilita warnings do urllib3\n",
    "urllib3.disable_warnings(urllib3.exceptions.InsecureRequestWarning)\n",
    "\n",
    "# URL para requisição\n",
    "url = \"https://api-desafio-qa.onrender.com/users\"\n",
    "\n",
    "# Cabeçalhos que você deseja enviar\n",
    "headers = {\n",
    "    'Content-Type': 'application/json',  # Corrigido para usar o formato correto de cabeçalho\n",
    "    'Accept': '*/*'  # Corrigido para usar o formato correto de cabeçalho\n",
    "}\n",
    "\n",
    "try:\n",
    "    r = requests.get(url, headers=headers, verify=False)  # Ignorando SSL\n",
    "\n",
    "    # Exibindo informações da resposta\n",
    "    print(Fore.GREEN + f\"Status Code: {r.status_code} - {r.reason}\" + Style.RESET_ALL)\n",
    "    \n",
    "    # Exibindo parte do conteúdo da resposta\n",
    "    print(\"------------------------------------------------\")\n",
    "    print(\"Conteúdo da Resposta (300 primeiros caracteres):\")\n",
    "    print(\"------------------------------------------------\")\n",
    "    print(r.text[:1000] + '...')\n",
    "    \n",
    "    # Exibindo os cabeçalhos da resposta\n",
    "    print(\"-----------------------\")\n",
    "    print(\"Cabeçalhos da Resposta:\")\n",
    "    print(\"-----------------------\")\n",
    "    for key, value in r.headers.items():\n",
    "        print(f\"{key}: {value}\")\n",
    "\n",
    "except requests.RequestException as e:\n",
    "    print(Fore.RED + f\"Erro ao acessar {url}: {e}\" + Style.RESET_ALL)\n",
    "\n",
    "\n",
    "# curl -X 'GET' 'https://api-desafio-qa.onrender.com/users' -H 'accept: */*'"
   ]
  },
  {
   "cell_type": "markdown",
   "metadata": {},
   "source": [
    "## GET ID\n",
    "\n",
    "Acessar um ID específico"
   ]
  },
  {
   "cell_type": "code",
   "execution_count": 5,
   "metadata": {},
   "outputs": [
    {
     "name": "stdout",
     "output_type": "stream",
     "text": [
      "Status Code: 200 - OK\n",
      "------------------------------------------------\n",
      "Conteúdo da Resposta (300 primeiros caracteres):\n",
      "------------------------------------------------\n",
      "{\"created\":\"2024-10-02T13:04:27.066Z\",\"email\":\"rfahham@gmail.com\",\"id\":6,\"lastname\":\"fahham\",\"name\":\"ricardo\"}...\n",
      "-----------------------\n",
      "Cabeçalhos da Resposta:\n",
      "-----------------------\n",
      "Date: Wed, 02 Oct 2024 13:04:59 GMT\n",
      "Content-Type: application/json; charset=utf-8\n",
      "Transfer-Encoding: chunked\n",
      "Connection: keep-alive\n",
      "CF-Ray: 8cc4e6bee8986d3f-GIG\n",
      "CF-Cache-Status: DYNAMIC\n",
      "ETag: W/\"6e-HOP8UW9Y9fuO+5puKZp2itQFJjw\"\n",
      "Vary: Accept-Encoding\n",
      "rndr-id: b31a0b03-a9af-40aa\n",
      "x-powered-by: Express\n",
      "x-render-origin-server: Render\n",
      "Server: cloudflare\n",
      "Content-Encoding: gzip\n"
     ]
    }
   ],
   "source": [
    "import requests\n",
    "import urllib3\n",
    "from colorama import Fore, Style, init\n",
    "\n",
    "# Inicializa o Colorama\n",
    "init(autoreset=True)\n",
    "\n",
    "# Desabilita warnings do urllib3\n",
    "urllib3.disable_warnings(urllib3.exceptions.InsecureRequestWarning)\n",
    "\n",
    "# URL para requisição\n",
    "url = \"https://api-desafio-qa.onrender.com/users/6\"\n",
    "\n",
    "# Cabeçalhos que você deseja enviar\n",
    "headers = {\n",
    "    'Content-Type': 'application/json',  # Corrigido para usar o formato correto de cabeçalho\n",
    "    'Accept': '*/*'  # Corrigido para usar o formato correto de cabeçalho\n",
    "}\n",
    "\n",
    "try:\n",
    "    r = requests.get(url, headers=headers, verify=False)  # Ignorando SSL\n",
    "\n",
    "    # Exibindo informações da resposta\n",
    "    print(Fore.GREEN + f\"Status Code: {r.status_code} - {r.reason}\" + Style.RESET_ALL)\n",
    "    \n",
    "    # Exibindo parte do conteúdo da resposta\n",
    "    print(\"------------------------------------------------\")\n",
    "    print(\"Conteúdo da Resposta (300 primeiros caracteres):\")\n",
    "    print(\"------------------------------------------------\")\n",
    "    print(r.text[:300] + '...')\n",
    "    \n",
    "    # Exibindo os cabeçalhos da resposta\n",
    "    print(\"-----------------------\")\n",
    "    print(\"Cabeçalhos da Resposta:\")\n",
    "    print(\"-----------------------\")\n",
    "    for key, value in r.headers.items():\n",
    "        print(f\"{key}: {value}\")\n",
    "\n",
    "except requests.RequestException as e:\n",
    "    print(Fore.RED + f\"Erro ao acessar {url}: {e}\" + Style.RESET_ALL)\n",
    "\n",
    "# curl -X 'GET' 'https://api-desafio-qa.onrender.com/users/6' -H 'accept: */*'"
   ]
  },
  {
   "cell_type": "markdown",
   "metadata": {},
   "source": [
    "## PUT\n",
    "\n",
    "O método PUT substitui todas as atuais representações do recurso de destino pela carga de dados da requisição."
   ]
  },
  {
   "cell_type": "code",
   "execution_count": 6,
   "metadata": {},
   "outputs": [
    {
     "name": "stdout",
     "output_type": "stream",
     "text": [
      "Status Code: 200 - OK\n",
      "Conteúdo da Resposta (300 primeiros caracteres):\n",
      "{\"created\":\"2024-10-02T13:04:27.066Z\",\"email\":\"rfahham@gmail.com\",\"id\":6,\"lastname\":\"Fahham\",\"name\":\"Ricardo\"}...\n"
     ]
    }
   ],
   "source": [
    "import requests\n",
    "import urllib3\n",
    "from colorama import Fore, Style, init\n",
    "import json  # Importa a biblioteca json\n",
    "\n",
    "# Inicializa o Colorama\n",
    "init(autoreset=True)\n",
    "\n",
    "# Desabilita warnings do urllib3\n",
    "urllib3.disable_warnings(urllib3.exceptions.InsecureRequestWarning)\n",
    "\n",
    "# URL para requisição POST\n",
    "url = \"https://api-desafio-qa.onrender.com/users/6\"\n",
    "\n",
    "# Dados que você deseja enviar\n",
    "data = {\n",
    "    \"name\": \"Ricardo\",\n",
    "    \"lastname\": \"Fahham\",\n",
    "    \"email\": \"rfahham@gmail.com\"\n",
    "}\n",
    "\n",
    "# Cabeçalhos que você deseja enviar\n",
    "headers = {\n",
    "    'Content-Type': 'application/json',  # Corrigido para usar o formato correto de cabeçalho\n",
    "    'Accept': '*/*'  # Corrigido para usar o formato correto de cabeçalho\n",
    "}\n",
    "\n",
    "try:\n",
    "    # Converte os dados para JSON antes de enviar\n",
    "    r = requests.put(url, headers=headers, data=json.dumps(data))  # Faz a requisição POST\n",
    "\n",
    "    # Exibindo informações da resposta\n",
    "    print(Fore.GREEN + f\"Status Code: {r.status_code} - {r.reason}\" + Style.RESET_ALL)\n",
    "    \n",
    "    # Exibindo parte do conteúdo da resposta\n",
    "    print(\"Conteúdo da Resposta (300 primeiros caracteres):\")\n",
    "    print(r.text[:300] + '...')\n",
    "    \n",
    "except requests.RequestException as e:\n",
    "    print(Fore.RED + f\"Erro ao acessar {url}: {e}\" + Style.RESET_ALL)\n",
    "\n",
    "\n",
    "# curl -X 'PUT' 'https://api-desafio-qa.onrender.com/users/6' -H 'Content-Type: application/json' -H 'Accept: */*' -d '{\"name\": \"ricardo\", \"lastname\": \"fahham\", \"email\": \"rfahham@gmail.com\"}'\n"
   ]
  },
  {
   "cell_type": "markdown",
   "metadata": {},
   "source": [
    "## DELETE\n",
    "\n",
    "O método DELETE remove um recurso específico."
   ]
  },
  {
   "cell_type": "code",
   "execution_count": 7,
   "metadata": {},
   "outputs": [
    {
     "name": "stdout",
     "output_type": "stream",
     "text": [
      "Status Code: 200 - OK\n",
      "------------------------------------------------\n",
      "Conteúdo da Resposta (300 primeiros caracteres):\n",
      "------------------------------------------------\n",
      "{\"message\":\"User id 6 deleted.\"}...\n",
      "-----------------------\n",
      "Cabeçalhos da Resposta:\n",
      "-----------------------\n",
      "Date: Wed, 02 Oct 2024 13:05:27 GMT\n",
      "Content-Type: application/json; charset=utf-8\n",
      "Transfer-Encoding: chunked\n",
      "Connection: keep-alive\n",
      "CF-Ray: 8cc4e7726a5c7a5f-GIG\n",
      "CF-Cache-Status: DYNAMIC\n",
      "ETag: W/\"20-5IB1/bLYrn9FU961iifoD9jjr8I\"\n",
      "Vary: Accept-Encoding\n",
      "rndr-id: 757c1995-2ad2-4b53\n",
      "x-powered-by: Express\n",
      "x-render-origin-server: Render\n",
      "Server: cloudflare\n",
      "Content-Encoding: gzip\n"
     ]
    }
   ],
   "source": [
    "import requests\n",
    "import urllib3\n",
    "from colorama import Fore, Style, init\n",
    "\n",
    "# Inicializa o Colorama\n",
    "init(autoreset=True)\n",
    "\n",
    "# Desabilita warnings do urllib3\n",
    "urllib3.disable_warnings(urllib3.exceptions.InsecureRequestWarning)\n",
    "\n",
    "# URL para requisição\n",
    "url = \"https://api-desafio-qa.onrender.com/users/6\"\n",
    "\n",
    "try:\n",
    "    r = requests.delete(url, verify=False)  # Ignorando SSL\n",
    "\n",
    "    # Exibindo informações da resposta\n",
    "    print(Fore.GREEN + f\"Status Code: {r.status_code} - {r.reason}\" + Style.RESET_ALL)\n",
    "    \n",
    "    # Exibindo parte do conteúdo da resposta\n",
    "    print(\"------------------------------------------------\")\n",
    "    print(\"Conteúdo da Resposta (300 primeiros caracteres):\")\n",
    "    print(\"------------------------------------------------\")\n",
    "    print(r.text[:300] + '...')\n",
    "    \n",
    "    # Exibindo os cabeçalhos da resposta\n",
    "    print(\"-----------------------\")\n",
    "    print(\"Cabeçalhos da Resposta:\")\n",
    "    print(\"-----------------------\")\n",
    "    for key, value in r.headers.items():\n",
    "        print(f\"{key}: {value}\")\n",
    "\n",
    "except requests.RequestException as e:\n",
    "    print(Fore.RED + f\"Erro ao acessar {url}: {e}\" + Style.RESET_ALL)\n",
    "\n",
    "# curl -X 'DELETE' 'https://api-desafio-qa.onrender.com/users/6' -H 'accept: */*'"
   ]
  }
 ],
 "metadata": {
  "kernelspec": {
   "display_name": "Python 3",
   "language": "python",
   "name": "python3"
  },
  "language_info": {
   "codemirror_mode": {
    "name": "ipython",
    "version": 3
   },
   "file_extension": ".py",
   "mimetype": "text/x-python",
   "name": "python",
   "nbconvert_exporter": "python",
   "pygments_lexer": "ipython3",
   "version": "3.10.12"
  }
 },
 "nbformat": 4,
 "nbformat_minor": 2
}
