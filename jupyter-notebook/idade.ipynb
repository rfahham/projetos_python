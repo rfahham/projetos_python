{
 "cells": [
  {
   "cell_type": "code",
   "execution_count": null,
   "metadata": {},
   "outputs": [],
   "source": [
    "from datetime import date\n",
    "birth_yr = int(input(\"Entre com o ano do seu nascimento: \"))\n",
    "print(date.today().year - birth_yr)"
   ]
  },
  {
   "cell_type": "code",
   "execution_count": null,
   "metadata": {},
   "outputs": [],
   "source": [
    "idade = int(input('Digite sua idade: '))\n",
    "\n",
    "if idade >= 10 and idade < 20:\n",
    "   print('Você é adoslecente')\n",
    "elif idade >= 20 and idade < 30:\n",
    "   print('Você é jovem')\n",
    "elif idade >= 30 and idade <= 100:\n",
    "   print('Você é adulto')\n",
    "else:\n",
    "   print('Valor não encontrado!')"
   ]
  }
 ],
 "metadata": {
  "language_info": {
   "name": "python"
  }
 },
 "nbformat": 4,
 "nbformat_minor": 2
}
