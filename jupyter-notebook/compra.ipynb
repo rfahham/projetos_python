{
 "cells": [
  {
   "cell_type": "code",
   "execution_count": null,
   "metadata": {},
   "outputs": [],
   "source": [
    "while True:\n",
    "\tproduto = str(raw_input('Nome do produto: '))\n",
    "\tpreco = float(input('Preço do produto: '))\n",
    "\n",
    "\tresp = ' '\n",
    "\twhile resp not in 'SN':\n",
    "\t\tresp = str(raw_input('Quer continuar? [S/N] '))[0]\n",
    "\tif resp == 'N':\n",
    "\t\tbreak\n",
    "print('{:-^40}'.format('FIM DO PROGRAMA !!!'))"
   ]
  },
  {
   "cell_type": "markdown",
   "metadata": {},
   "source": [
    "## Calcular quantidade de tinta"
   ]
  },
  {
   "cell_type": "code",
   "execution_count": null,
   "metadata": {},
   "outputs": [],
   "source": [
    "largura = float(input('Digite a largura: '))\n",
    "altura= float(input('Digite a altura: '))\n",
    "area = largura * altura\n",
    "print('Sua parede tem a dimensão de {} x {} e sua área é de {}m2.'.format(largura, altura, area))\n",
    "tinta = area /2\n",
    "print('Para pintar sua parede, você precisará de {}l de tinta.'.format(tinta))\n",
    "\n"
   ]
  },
  {
   "cell_type": "code",
   "execution_count": null,
   "metadata": {},
   "outputs": [],
   "source": [
    "# Código\n",
    "print('')\n",
    "print('OBS: Valor da prestação tem que ser menor ou igual a 30% do salário do comprador para ser CONCEDIDO')\n",
    "print('')\n",
    "casa = float(input('Digite o valor do crédito: R$ '))\n",
    "salario = float(input('Salário do comprador: R$ '))\n",
    "anos = int(input('Quantos anos de financiamento? '))\n",
    "minimo = salario * 30 / 100\n",
    "\n",
    "prestacao = casa / (anos * 12)\n",
    "print('Para pagar uma casa de R$ {:.2f} em {} anos'.format(casa, anos))\n",
    "print('A prestação será de R$ {:.2f}'.format(prestacao))\n",
    "\n",
    "if prestacao <= minimo:\n",
    "\tprint('\\033[32mEmpréstimo pode ser CONCEDIDO!\\033[m')\n",
    "else:\n",
    "\tprint('\\033[31mEmpréstimo NEGADO!\\033[m')\n"
   ]
  }
 ],
 "metadata": {
  "language_info": {
   "name": "python"
  }
 },
 "nbformat": 4,
 "nbformat_minor": 2
}
