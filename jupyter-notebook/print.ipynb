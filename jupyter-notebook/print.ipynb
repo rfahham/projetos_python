{
 "cells": [
  {
   "cell_type": "code",
   "execution_count": null,
   "metadata": {},
   "outputs": [],
   "source": [
    "# https://www.geeksforgeeks.org/gfact-50-python-end-parameter-in-print/\n",
    "\n",
    "print(\"Welcome to\", end = ' ')\n",
    "print(\"GeeksforGeeks\", end= ' ')\n",
    "\n",
    "# Welcome to GeeksforGeeks\n",
    "\n",
    "print('')\n",
    "\n",
    "print(\"Endereço de email: \", \"rfahham\", end='@')\n",
    "print(\"hotmail.com\")\n",
    "\n",
    "# Endereço de email:  rfahham@hotmail.com\n",
    "\n",
    "print('G','F', sep='', end='')\n",
    "print('G')\n",
    "\n",
    "#\\n provides new line after printing the year\n",
    "print('09','12','2016', sep='-', end='\\n')\n",
    "  \n",
    "print('Red','Green','Blue', sep=',', end='@')\n",
    "print('geeksforgeeks')\n",
    "\n",
    "print('')\n",
    "\n",
    "name = \"Alice\"\n",
    "age = 30\n",
    "print(\"My name is\", name, \"and I am\", age, \"years old.\", end=\" \")\n",
    "print(\"Nice to meet you!\")\n",
    "\n",
    "\n",
    "print('')\n"
   ]
  },
  {
   "cell_type": "code",
   "execution_count": null,
   "metadata": {},
   "outputs": [],
   "source": [
    "print(\"-\"*18)\n",
    "print(\"Formatando strings\")\n",
    "print(\"-\"*18)\n",
    "print()\n",
    "nome, idade = input(\"Entre com seu nome e idade separados por vírgula: \").split(\",\")\n",
    "print()\n",
    "print(nome, idade)\n",
    "print()\n",
    "print(\"Seu nome é \"+ nome + \" e sua idade é de \"+ idade + \" anos.\")\n",
    "print()\n",
    "print(f\"Seu nome é {nome} e sua idade é de {idade} anos.\")\n",
    "print()"
   ]
  },
  {
   "cell_type": "code",
   "execution_count": null,
   "metadata": {},
   "outputs": [],
   "source": [
    "import time\n",
    "\n",
    "cores = {\n",
    "\t\t\t'limpa':'\\033[m',\n",
    "\t\t\t'vermelho':'\\033[31m',\n",
    "\t\t\t'verde':'\\033[32m',\n",
    "\t\t\t'amarelo':'\\033[33m',\n",
    "\t\t\t'azulescuro':'\\033[34m',\t\n",
    "\t\t\t'roxo':'\\033[35m',\n",
    "\t\t\t'azulclaro':'\\033[36m',\t\n",
    "\t\t\t'pretoebranco':'\\033[7;30m',\t\n",
    "        }\n",
    "\n",
    "print('-'*16)\n",
    "print('Starting Hack...')\n",
    "print('-'*16)\n",
    "print()\n",
    "\n",
    "target = 0 \n",
    "\n",
    "while target <= 100:\n",
    "\tprint('\\033[32m' 'Hacking FBI', target, '%' '\\033[m')\n",
    "\ttarget = target + 10\n",
    "\ttime.sleep(1)\n",
    "\n",
    "print()\n",
    "print('System hacked with success!!!')\n",
    "print()"
   ]
  },
  {
   "cell_type": "code",
   "execution_count": null,
   "metadata": {},
   "outputs": [],
   "source": [
    "language1 = \"Python\"\n",
    "language2 = \"GO\"\n",
    "\n",
    "print(f'{language1:10}: 1991')\n",
    "print(f'{language2:10}: 2009')"
   ]
  },
  {
   "cell_type": "code",
   "execution_count": null,
   "metadata": {},
   "outputs": [],
   "source": [
    "print(\"-\"*40)\n",
    "print(\"Converter String em Letras Minúsculas\")\n",
    "print(\"-\"*40)\n",
    "print(\"\")\n",
    "\n",
    "S = \" Converter String em Letras Minúsculas\"\n",
    "\n",
    "print(S.lower())\n",
    "\n",
    "print(\"\")"
   ]
  },
  {
   "cell_type": "code",
   "execution_count": null,
   "metadata": {},
   "outputs": [],
   "source": [
    "links = [\n",
    "    \"https://www.globo.com\",\n",
    "    \"https://www.ge.globo.com\",\n",
    "    \"https://www.globoplay.globo.com\"\n",
    "]\n",
    "for link in links:\n",
    "    print(link.removeprefix(\"https://\"))"
   ]
  },
  {
   "cell_type": "code",
   "execution_count": 2,
   "metadata": {},
   "outputs": [
    {
     "name": "stdout",
     "output_type": "stream",
     "text": [
      " \n",
      "Lista de Alunos \n",
      "---------------- \n",
      "João da Silva \n",
      "José Lima \n",
      "Maria das Dores\n",
      "ALexandre\n",
      "Jorge\n",
      "\n"
     ]
    }
   ],
   "source": [
    "arq = open('lista.txt', 'w') \n",
    "\n",
    "texto = \"\"\" \n",
    "Lista de Alunos \n",
    "---------------- \n",
    "João da Silva \n",
    "José Lima \n",
    "Maria das Dores\n",
    "ALexandre\n",
    "Jorge\n",
    "\"\"\" \n",
    "\n",
    "print(texto)\n",
    "\n",
    "arq.write(texto)\n",
    "arq.close()"
   ]
  },
  {
   "cell_type": "code",
   "execution_count": null,
   "metadata": {},
   "outputs": [],
   "source": [
    "from time import sleep\n",
    "\n",
    "verde = \"\\033[1;32m\"\n",
    "amarelo = \"\\033[1;33m\"\n",
    "azul = \"\\033[1;96m\"\n",
    "reset = \"\\033[0;0m\"\n",
    "\n",
    "with open(\"independencia.txt\", \"r\",) as arquivo:\n",
    "    hino = arquivo.readlines()\n",
    "\n",
    "    print()\n",
    "    print(amarelo,'{:-^40}'.format(''), reset)\n",
    "    print(verde,'{:-^40}'.format(' Hino da Independência do Brasil '), reset)\n",
    "    print(amarelo,'{:-^40}'.format(''),reset)\n",
    "    print()\n",
    "\n",
    "    for linha in hino:\n",
    "        print(azul, linha, reset)\n",
    "        sleep(2)\n",
    "    print()\n"
   ]
  }
 ],
 "metadata": {
  "kernelspec": {
   "display_name": "Python 3",
   "language": "python",
   "name": "python3"
  },
  "language_info": {
   "codemirror_mode": {
    "name": "ipython",
    "version": 3
   },
   "file_extension": ".py",
   "mimetype": "text/x-python",
   "name": "python",
   "nbconvert_exporter": "python",
   "pygments_lexer": "ipython3",
   "version": "3.8.10"
  }
 },
 "nbformat": 4,
 "nbformat_minor": 2
}
