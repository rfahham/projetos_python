{
 "cells": [
  {
   "cell_type": "markdown",
   "metadata": {},
   "source": [
    "# Realizando requests"
   ]
  },
  {
   "cell_type": "code",
   "execution_count": 1,
   "metadata": {},
   "outputs": [
    {
     "name": "stdout",
     "output_type": "stream",
     "text": [
      "Defaulting to user installation because normal site-packages is not writeable\n",
      "Requirement already satisfied: requests in /home/rfahham/.local/lib/python3.10/site-packages (2.32.3)\n",
      "Requirement already satisfied: tqdm in /home/rfahham/.local/lib/python3.10/site-packages (4.66.5)\n",
      "Requirement already satisfied: urllib3 in /usr/lib/python3/dist-packages (1.26.5)\n",
      "Requirement already satisfied: charset-normalizer<4,>=2 in /home/rfahham/.local/lib/python3.10/site-packages (from requests) (3.3.2)\n",
      "Requirement already satisfied: idna<4,>=2.5 in /usr/lib/python3/dist-packages (from requests) (3.3)\n",
      "Requirement already satisfied: certifi>=2017.4.17 in /usr/local/lib/python3.10/dist-packages (from requests) (2024.7.4)\n"
     ]
    }
   ],
   "source": [
    "! pip install requests tqdm urllib3"
   ]
  },
  {
   "cell_type": "code",
   "execution_count": 2,
   "metadata": {},
   "outputs": [
    {
     "name": "stderr",
     "output_type": "stream",
     "text": [
      "100%|██████████| 600/600 [05:35<00:00,  1.79it/s]"
     ]
    },
    {
     "name": "stdout",
     "output_type": "stream",
     "text": [
      "total de requests: 600\n"
     ]
    },
    {
     "name": "stderr",
     "output_type": "stream",
     "text": [
      "\n"
     ]
    }
   ],
   "source": [
    "import time\n",
    "from tqdm import tqdm\n",
    "import requests\n",
    "import urllib3\n",
    "\n",
    "count = 0\n",
    "for i in tqdm(range(600)):\n",
    "    urllib3.disable_warnings()\n",
    "    r = requests.get('https://www.globo.com', verify=False)\n",
    "    if r.status_code != 200:\n",
    "        break\n",
    "    time.sleep(0.001)\n",
    "    count += 1\n",
    "print(\"total de requests:\", count)"
   ]
  },
  {
   "cell_type": "code",
   "execution_count": 4,
   "metadata": {},
   "outputs": [
    {
     "name": "stdout",
     "output_type": "stream",
     "text": [
      "Request 1: Status Code 200\n",
      "Request 2: Status Code 200\n",
      "Request 3: Status Code 200\n",
      "Request 4: Status Code 200\n",
      "Request 5: Status Code 200\n",
      "Request 6: Status Code 200\n",
      "Request 7: Status Code 200\n",
      "Request 8: Status Code 200\n",
      "Request 9: Status Code 200\n",
      "Request 10: Status Code 200\n",
      "Request 11: Status Code 200\n",
      "Request 12: Status Code 200\n",
      "Request 13: Status Code 200\n",
      "Request 14: Status Code 200\n",
      "Request 15: Status Code 200\n",
      "Request 16: Status Code 200\n",
      "Request 17: Status Code 200\n",
      "Request 18: Status Code 200\n",
      "Request 19: Status Code 200\n",
      "Request 20: Status Code 200\n",
      "Request 21: Status Code 200\n",
      "Request 22: Status Code 200\n",
      "Request 23: Status Code 200\n",
      "Request 24: Status Code 200\n",
      "Request 25: Status Code 200\n",
      "Request 26: Status Code 200\n",
      "Request 27: Status Code 200\n",
      "Request 28: Status Code 200\n",
      "Request 29: Status Code 200\n",
      "Request 30: Status Code 200\n",
      "Request 31: Status Code 200\n",
      "Request 32: Status Code 200\n",
      "Request 33: Status Code 200\n",
      "Request 34: Status Code 200\n",
      "Request 35: Status Code 200\n",
      "Request 36: Status Code 200\n",
      "Request 37: Status Code 200\n",
      "Request 38: Status Code 200\n",
      "Request 39: Status Code 200\n",
      "Request 40: Status Code 200\n",
      "Request 41: Status Code 200\n",
      "Request 42: Status Code 200\n",
      "Request 43: Status Code 200\n",
      "Request 44: Status Code 200\n",
      "Request 45: Status Code 200\n",
      "Request 46: Status Code 200\n",
      "Request 47: Status Code 200\n",
      "Request 48: Status Code 200\n",
      "Request 49: Status Code 200\n",
      "Request 50: Status Code 200\n",
      "Request 51: Status Code 200\n",
      "Request 52: Status Code 200\n",
      "Request 53: Status Code 200\n",
      "Request 54: Status Code 200\n",
      "Request 55: Status Code 200\n",
      "Request 56: Status Code 200\n",
      "Request 57: Status Code 200\n",
      "Request 58: Status Code 200\n",
      "Request 59: Status Code 200\n",
      "Request 60: Status Code 200\n",
      "Request 61: Status Code 200\n",
      "Request 62: Status Code 200\n",
      "Request 63: Status Code 200\n",
      "Request 64: Status Code 200\n",
      "Request 65: Status Code 200\n",
      "Request 66: Status Code 200\n",
      "Request 67: Status Code 200\n",
      "Request 68: Status Code 200\n",
      "Request 69: Status Code 200\n",
      "Request 70: Status Code 200\n",
      "Request 71: Status Code 200\n",
      "Total de requisições feitas em 60 segundos: 71\n"
     ]
    }
   ],
   "source": [
    "import requests\n",
    "import time\n",
    "\n",
    "# URL para requisição\n",
    "url = \"https://www.globo.com\"\n",
    "\n",
    "# Tempo em segundos (1 minuto)\n",
    "tempo_execucao = 60\n",
    "\n",
    "# Marca o início do tempo\n",
    "inicio = time.time()\n",
    "\n",
    "# Contadores\n",
    "cont_requests = 0\n",
    "\n",
    "while True:\n",
    "    # Verifica se o tempo de execução foi alcançado\n",
    "    if time.time() - inicio > tempo_execucao:\n",
    "        break\n",
    "\n",
    "    try:\n",
    "        # Realiza a requisição GET\n",
    "        response = requests.get(url)\n",
    "        \n",
    "        # Exibe o status da resposta\n",
    "        print(f\"Request {cont_requests + 1}: Status Code {response.status_code}\")\n",
    "        \n",
    "        # Incrementa o contador\n",
    "        cont_requests += 1\n",
    "\n",
    "    except requests.RequestException as e:\n",
    "        print(f\"Erro ao acessar {url}: {e}\")\n",
    "\n",
    "# Exibe o total de requisições feitas\n",
    "print(f\"Total de requisições feitas em {tempo_execucao} segundos: {cont_requests}\")\n"
   ]
  }
 ],
 "metadata": {
  "kernelspec": {
   "display_name": "Python 3",
   "language": "python",
   "name": "python3"
  },
  "language_info": {
   "codemirror_mode": {
    "name": "ipython",
    "version": 3
   },
   "file_extension": ".py",
   "mimetype": "text/x-python",
   "name": "python",
   "nbconvert_exporter": "python",
   "pygments_lexer": "ipython3",
   "version": "3.10.12"
  }
 },
 "nbformat": 4,
 "nbformat_minor": 2
}
