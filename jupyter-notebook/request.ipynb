{
 "cells": [
  {
   "cell_type": "markdown",
   "metadata": {},
   "source": [
    "# Realizando requests"
   ]
  },
  {
   "cell_type": "code",
   "execution_count": 1,
   "metadata": {},
   "outputs": [
    {
     "name": "stdout",
     "output_type": "stream",
     "text": [
      "Requirement already satisfied: requests in /usr/local/lib/python3.8/dist-packages (2.32.3)\n",
      "Requirement already satisfied: tqdm in /home/rfahham/.local/lib/python3.8/site-packages (4.66.5)\n",
      "Requirement already satisfied: urllib3 in /home/rfahham/.local/lib/python3.8/site-packages (2.2.2)\n",
      "Requirement already satisfied: charset-normalizer<4,>=2 in /usr/local/lib/python3.8/dist-packages (from requests) (3.3.2)\n",
      "Requirement already satisfied: idna<4,>=2.5 in /home/rfahham/.local/lib/python3.8/site-packages (from requests) (3.8)\n",
      "Requirement already satisfied: certifi>=2017.4.17 in /home/rfahham/.local/lib/python3.8/site-packages (from requests) (2024.8.30)\n"
     ]
    }
   ],
   "source": [
    "! pip install requests tqdm urllib3"
   ]
  },
  {
   "cell_type": "code",
   "execution_count": 2,
   "metadata": {},
   "outputs": [
    {
     "name": "stderr",
     "output_type": "stream",
     "text": [
      "100%|██████████| 600/600 [01:52<00:00,  5.35it/s]"
     ]
    },
    {
     "name": "stdout",
     "output_type": "stream",
     "text": [
      "total de requests: 600\n"
     ]
    },
    {
     "name": "stderr",
     "output_type": "stream",
     "text": [
      "\n"
     ]
    }
   ],
   "source": [
    "import time\n",
    "from tqdm import tqdm\n",
    "import requests\n",
    "import urllib3\n",
    "\n",
    "count = 0\n",
    "for i in tqdm(range(600)):\n",
    "    urllib3.disable_warnings()\n",
    "    r = requests.get('https://www.globo.com', verify=False)\n",
    "    if r.status_code != 200:\n",
    "        break\n",
    "    time.sleep(0.001)\n",
    "    count += 1\n",
    "print(\"total de requests:\", count)"
   ]
  }
 ],
 "metadata": {
  "kernelspec": {
   "display_name": "Python 3",
   "language": "python",
   "name": "python3"
  },
  "language_info": {
   "codemirror_mode": {
    "name": "ipython",
    "version": 3
   },
   "file_extension": ".py",
   "mimetype": "text/x-python",
   "name": "python",
   "nbconvert_exporter": "python",
   "pygments_lexer": "ipython3",
   "version": "3.8.10"
  }
 },
 "nbformat": 4,
 "nbformat_minor": 2
}
