{
 "cells": [
  {
   "cell_type": "markdown",
   "metadata": {},
   "source": [
    "# Filas em Python\n",
    "\n",
    "Nativa no Python, basta importá-la com a declaração import queue. O módulo queue do Python oferece três tipos de classes: Queue, LifoQueue e PriorityQueue:\n",
    "\n",
    "> Queue: É o primeiro tipo de fila. Ele segue a propriedade FIFO onde o primeiro elemento inserido é o primeiro a ser extraído.\n",
    "\n",
    "> LifoQueue: Esta é a fila que segue a propriedade LIFO (Last-In-First-Out) onde o último elemento inserido é o primeiro a ser extraído.\n",
    "\n",
    "> PriorityQueue: Não segue nenhuma das propriedades acima, FIFO ou LIFO. Esta fila segue o conceito de “ordem de prioridade”. Se os elementos da fila têm prioridades diferentes, então o elemento com alta prioridade é extraído primeiro.\n",
    "\n",
    "Por exemplo, essa seria a sintaxe básica para cada tipo de fila:"
   ]
  },
  {
   "cell_type": "code",
   "execution_count": null,
   "metadata": {},
   "outputs": [],
   "source": [
    "import queue\n",
    "\n",
    "fila_fifo = queue.Queue()\n",
    "fila_lifo = queue.LifoQueue()\n",
    "fila_prioridade = queue.PriorityQueue()"
   ]
  },
  {
   "cell_type": "markdown",
   "metadata": {},
   "source": [
    "## Gerenciamento de Filas\n",
    "\n",
    "Com a biblioteca queue, pode-se adicionar elementos na fila utilizando o método put e remover utilizando o método get."
   ]
  },
  {
   "cell_type": "code",
   "execution_count": null,
   "metadata": {},
   "outputs": [],
   "source": [
    "import queue\n",
    "\n",
    "fila = queue.Queue()\n",
    "fila.put(\"Primeiro da fila\")\n",
    "fila.put(\"Segundo da fila\")\n",
    "\n",
    "print(fila.get())"
   ]
  },
  {
   "cell_type": "markdown",
   "metadata": {},
   "source": [
    "## FIFO, LIFO, Priority Queue\n",
    "\n",
    "Quando utilizamos filas, temos três abordagens principais: \n",
    "FIFO, LIFO e Priority Queue. \n",
    "\n",
    "Veja a diferença entre elas:\n"
   ]
  },
  {
   "cell_type": "markdown",
   "metadata": {},
   "source": [
    "## Exemplo de FIFO\n",
    "\n",
    "FIFO (First-In-First-Out), ou em português, “Primeiro a entrar, primeiro a sair”.\n",
    "Queue: É o primeiro tipo de fila. \n",
    "Ele segue a propriedade FIFO onde o primeiro elemento inserido é o primeiro a ser extraído."
   ]
  },
  {
   "cell_type": "code",
   "execution_count": null,
   "metadata": {},
   "outputs": [],
   "source": [
    "import queue\n",
    "\n",
    "fila_FIFO = queue.Queue()\n",
    "fila_FIFO.put(\"Primeiro da fila\")\n",
    "fila_FIFO.put(\"Segundo da fila\")\n",
    "print(fila_FIFO.get())  "
   ]
  },
  {
   "cell_type": "markdown",
   "metadata": {},
   "source": [
    "## Exemplo de LIFO\n",
    "\n",
    "Esta é a fila que segue a propriedade LIFO (Last-In-First-Out) onde o último elemento inserido é o primeiro a ser extraído."
   ]
  },
  {
   "cell_type": "code",
   "execution_count": null,
   "metadata": {},
   "outputs": [],
   "source": [
    "import queue\n",
    "\n",
    "fila_LIFO = queue.LifoQueue()\n",
    "fila_LIFO.put(\"Primeiro da fila\")\n",
    "fila_LIFO.put(\"Segundo da fila\")\n",
    "print(fila_LIFO.get()) "
   ]
  },
  {
   "cell_type": "markdown",
   "metadata": {},
   "source": [
    "## Exemplo de PriorityQueue\n",
    "\n",
    "\n",
    "Não segue nenhuma das propriedades acima, FIFO ou LIFO. \n",
    "Esta fila segue o conceito de “ordem de prioridade”. \n",
    "Se os elementos da fila têm prioridades diferentes, então o elemento com alta prioridade é extraído primeiro."
   ]
  },
  {
   "cell_type": "code",
   "execution_count": null,
   "metadata": {},
   "outputs": [],
   "source": [
    "import queue\n",
    "\n",
    "fila_prioridade = queue.PriorityQueue()\n",
    "fila_prioridade.put((2, \"Primeiro da fila\"))\n",
    "fila_prioridade.put((1, \"Segundo da fila\"))\n",
    "print(fila_prioridade.get())  "
   ]
  }
 ],
 "metadata": {
  "language_info": {
   "name": "python"
  }
 },
 "nbformat": 4,
 "nbformat_minor": 2
}
