{
 "cells": [
  {
   "cell_type": "markdown",
   "metadata": {},
   "source": [
    "# Trabalhando com funçõesm em Python"
   ]
  },
  {
   "cell_type": "code",
   "execution_count": null,
   "metadata": {},
   "outputs": [],
   "source": [
    "# Criando métodos em python \n",
    "\n",
    "def <nome do método> {\n",
    "\tfunção do método\n",
    "} \n",
    "\n",
    "# Chamando o método <nome do método>\n",
    "\n",
    "# Exemplo:\n",
    "\n",
    "\n",
    "def imprime {\n",
    "\tprint(\"Olá mundo\")\n",
    "}\n",
    "\n",
    "imprime()\n",
    "\n",
    "\n",
    "def soma_valores(valor1, valor2)\n",
    "\tsoma = valor1 + valor2\n",
    "\treturn soma\n",
    "\n",
    "soma_valores(3,5)"
   ]
  },
  {
   "cell_type": "code",
   "execution_count": null,
   "metadata": {},
   "outputs": [],
   "source": [
    "def mostralinha():\n",
    "    print('-'*30)\n",
    "\n",
    "mostralinha()\n",
    "print('Sistema de Alunos')\n",
    "mostralinha()\n",
    "mostralinha()\n",
    "print('Cadastro de Funcionários')\n",
    "mostralinha()\n",
    "mostralinha()\n",
    "print('Erro de Sistema')\n",
    "mostralinha()\n",
    "mostralinha()\n",
    "\n",
    "def soma(a, b):\n",
    "    s = a + b \n",
    "    print(\"A soma dos valores são: {}\".format(s))\n",
    "\n",
    "soma(40, 5)\n",
    "\n",
    "mostralinha()\n",
    "mostralinha()"
   ]
  },
  {
   "cell_type": "code",
   "execution_count": null,
   "metadata": {},
   "outputs": [],
   "source": [
    "# def print_service_details(output_list):\n",
    "#     space = max([len(element) for element in output_list])-10\n",
    "#     print(f\"{'╣ Access ╠':{'═'}^{space}}\")\n",
    "#     for element in output_list:\n",
    "#         print(element)\n",
    "#     print('═'*space)\n",
    "\n",
    "# print_service_details()\n",
    "\n",
    "print()\n",
    "print('{:-^40}'.format(''))\n",
    "print('{:-^40}'.format(' Contador '))\n",
    "print('{:-^40}'.format(''))\n",
    "print()"
   ]
  }
 ],
 "metadata": {
  "language_info": {
   "name": "python"
  }
 },
 "nbformat": 4,
 "nbformat_minor": 2
}
