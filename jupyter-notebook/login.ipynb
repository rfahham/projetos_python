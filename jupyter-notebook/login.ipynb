{
 "cells": [
  {
   "cell_type": "markdown",
   "metadata": {},
   "source": [
    "## Tela de Login"
   ]
  },
  {
   "cell_type": "code",
   "execution_count": null,
   "metadata": {},
   "outputs": [],
   "source": [
    "! pip install customtkinter"
   ]
  },
  {
   "cell_type": "code",
   "execution_count": null,
   "metadata": {},
   "outputs": [],
   "source": [
    "import customtkinter\n",
    "\n",
    "customtkinter.set_appearance_mode(\"dark\")\n",
    "customtkinter.set_default_color_theme(\"dark-blue\")\n",
    "\n",
    "window = customtkinter.CTk()\n",
    "window.geometry(\"500x300\")\n",
    "\n",
    "def clique():\n",
    "    print(\"Fazer Login\")\n",
    "    # print(email._entry.__dict__)\n",
    "\n",
    "texto = customtkinter.CTkLabel(window, text=\"Fazer Login\")\n",
    "email = customtkinter.CTkEntry(window, placeholder_text=\"Email\")\n",
    "senha = customtkinter.CTkEntry(window, placeholder_text=\"Senha\", show=\"*\")\n",
    "botao = customtkinter.CTkButton(window, text=\"Login\", command=clique)\n",
    "\n",
    "texto.pack(padx=10, pady=10)\n",
    "email.pack(padx=10, pady=10)\n",
    "senha.pack(padx=10, pady=10)\n",
    "botao.pack(padx=10, pady=10)\n",
    "\n",
    "window.mainloop()"
   ]
  }
 ],
 "metadata": {
  "language_info": {
   "name": "python"
  }
 },
 "nbformat": 4,
 "nbformat_minor": 2
}
