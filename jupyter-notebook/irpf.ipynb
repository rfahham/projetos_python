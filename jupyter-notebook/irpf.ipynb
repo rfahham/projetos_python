{
 "cells": [
  {
   "cell_type": "code",
   "execution_count": null,
   "metadata": {},
   "outputs": [],
   "source": [
    "print('Quem deve declarar IRPF')\n",
    "print('Recebeu, em 2017, rendimentos tributáveis que somaram mais de R$ 28.559,70')\n",
    "print('Ou seja R$ 2.379,97 por mês')\n",
    "\n",
    "salario = float(input('Digite seu salário mensal: R$ '))\n",
    "print('')\n",
    "declarar = salario * 12\n",
    "\n",
    "if salario <= 2380:\t\n",
    "\tprint('Não precisa declarar IR porque seus rendimentos tributáveis somaram R$ {:.2f}'.format(declarar))\n",
    "\tprint('')\n",
    "else:\n",
    "\tprint('Seus rendimentos tributáveis somaram R$ {:.2f}'.format(declarar))\n",
    "\tprint('Você precisa declarar imposto de renda.')\n",
    "\tprint('')"
   ]
  }
 ],
 "metadata": {
  "language_info": {
   "name": "python"
  }
 },
 "nbformat": 4,
 "nbformat_minor": 2
}
