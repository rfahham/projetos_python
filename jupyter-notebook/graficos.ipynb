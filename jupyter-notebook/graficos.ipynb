{
 "cells": [
  {
   "cell_type": "markdown",
   "metadata": {},
   "source": [
    "# Gráficos"
   ]
  },
  {
   "cell_type": "markdown",
   "metadata": {},
   "source": [
    "## COLORAMA"
   ]
  },
  {
   "cell_type": "code",
   "execution_count": null,
   "metadata": {},
   "outputs": [],
   "source": [
    "! pip install colorama"
   ]
  },
  {
   "cell_type": "code",
   "execution_count": null,
   "metadata": {},
   "outputs": [],
   "source": [
    "from colorama import Fore\n",
    "\n",
    "print(Fore.LIGHTBLACK_EX + \"\")\n",
    "print(Fore.BLUE + \"======================================================\")\n",
    "print(Fore.BLUE + \"#######  #######  ##   ##  ##   ##  #######  ##     ##\")\n",
    "print(Fore.BLUE + \"##       ##   ##  ##   ##  ##   ##  ##   ##  ###   ###\")\n",
    "print(Fore.BLUE + \"####     #######  #######  #######  #######  ## # # ##\")\n",
    "print(Fore.BLUE + \"##       ##   ##  ##   ##  ##   ##  ##   ##  ##  #  ##\")\n",
    "print(Fore.BLUE + \"##       ##   ##  ##   ##  ##   ##  ##   ##  ##     ##\")\n",
    "print(Fore.BLUE + \"##       ##   ##  ##   ##  ##   ##  ##   ##  ##     ##\")\n",
    "print(Fore.BLUE + \"======================================================\")\n",
    "print(Fore.LIGHTBLACK_EX + \"\")"
   ]
  },
  {
   "cell_type": "markdown",
   "metadata": {},
   "source": [
    "## MATPLOTLIB"
   ]
  },
  {
   "cell_type": "code",
   "execution_count": null,
   "metadata": {},
   "outputs": [],
   "source": [
    "! pip install matplotlib"
   ]
  },
  {
   "cell_type": "code",
   "execution_count": null,
   "metadata": {},
   "outputs": [],
   "source": [
    "import matplotlib.pyplot as plt\n",
    "plt.plot([100, 150, 180, 195, 205, 220, 250, 300])\n",
    "plt.ylabel('Troughput')\n",
    "plt.show()"
   ]
  },
  {
   "cell_type": "code",
   "execution_count": null,
   "metadata": {},
   "outputs": [],
   "source": [
    "import matplotlib.pyplot as p\n",
    "\n",
    "s = [40, 30, 10, 10, 10]\n",
    "\n",
    "l = [\"Python\", \"Java\", \"C++\", \"C\", \"JavaScript\"]\n",
    "\n",
    "p.pie(s, labels = l)\n",
    "p.show()"
   ]
  }
 ],
 "metadata": {
  "language_info": {
   "name": "python"
  }
 },
 "nbformat": 4,
 "nbformat_minor": 2
}
