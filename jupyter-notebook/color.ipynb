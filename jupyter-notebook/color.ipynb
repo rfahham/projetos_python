{
 "cells": [
  {
   "cell_type": "code",
   "execution_count": null,
   "metadata": {},
   "outputs": [],
   "source": [
    "cores = {\n",
    "\t\t\t'limpa':'\\033[m',\n",
    "\t\t\t'vermelho':'\\033[31m',\n",
    "\t\t\t'verde':'\\033[32m',\n",
    "\t\t\t'amarelo':'\\033[33m',\n",
    "\t\t\t'azulescuro':'\\033[34m',\t\n",
    "\t\t\t'roxo':'\\033[35m',\n",
    "\t\t\t'azulclaro':'\\033[36m',\t\n",
    "\t\t\t'pretoebranco':'\\033[7;30m',\t\n",
    "        }\n",
    "\n",
    "nome = str(raw_input('Qual é o seu nome? '))\n",
    "\n",
    "print('Meu nome é {}{}{}'.format(cores['vermelho'],nome, cores['limpa']))"
   ]
  },
  {
   "cell_type": "code",
   "execution_count": null,
   "metadata": {},
   "outputs": [],
   "source": [
    "! pip install colorama\n",
    "\n",
    "# python3 -m venv ./venv && source venv/bin/activate\n",
    "\n",
    "# deactivate\n",
    "\n",
    "from colorama import Fore\n",
    "\n",
    "print(Fore.RED + \"Hello World!\")\n",
    "print(Fore.BLUE + \"Hello World!\")\n",
    "print(Fore.GREEN + \"Hello World!\")\n",
    "print(Fore.YELLOW + \"Hello World!\")\n",
    "print(Fore.CYAN + \"Hello World!\")\n",
    "print(Fore.LIGHTBLACK_EX + \"Hello World!\")\n",
    "print()"
   ]
  }
 ],
 "metadata": {
  "language_info": {
   "name": "python"
  }
 },
 "nbformat": 4,
 "nbformat_minor": 2
}
