{
 "cells": [
  {
   "cell_type": "code",
   "execution_count": null,
   "metadata": {},
   "outputs": [],
   "source": [
    "num = int(input('Digite um número para ver as sua tabuada: '))\n",
    "\n",
    "print('{} X {:2} = {}'. format(num, 1, num*1))\n",
    "print('{} X {:2} = {}'. format(num, 2, num*2))\n",
    "print('{} X {:2} = {}'. format(num, 3, num*3))\n",
    "print('{} X {:2} = {}'. format(num, 4, num*4))\n",
    "print('{} X {:2} = {}'. format(num, 5, num*5))\n",
    "print('{} X {:2} = {}'. format(num, 6, num*6))\n",
    "print('{} X {:2} = {}'. format(num, 7, num*7))\n",
    "print('{} X {:2} = {}'. format(num, 8, num*8))\n",
    "print('{} X {:2} = {}'. format(num, 9, num*9))\n",
    "print('{} X {:2} = {}'. format(num, 10, num*10))\n",
    "\n",
    "print('-' * 12)\n",
    "\n",
    "num = int(input('Digite um número para ver as sua tabuada: '))\n",
    "for c in range(1, 11):\n",
    "\tprint('{} X {:2} = {}'.format(num, c, num*c))"
   ]
  },
  {
   "cell_type": "code",
   "execution_count": null,
   "metadata": {},
   "outputs": [],
   "source": [
    "a = int(input(\"Digite um número para ver a sua tabuada: \"))\n",
    "\n",
    "for i in range(1,11):\n",
    "    print(f'{a} x {i} = {a*i}')\n",
    "\n",
    "\n",
    "# num = int(input('Digite um número para ver as sua tabuada: '))\n",
    "# for c in range(1, 11):\n",
    "# \tprint('{} X {:2} = {}'.format(num, c, num*c))"
   ]
  },
  {
   "cell_type": "code",
   "execution_count": null,
   "metadata": {},
   "outputs": [],
   "source": [
    "print('-'*13)\n",
    "print('Multiplicação')\n",
    "print('-'*13)\n",
    "\n",
    "a = int(input('Informe um número : '))\n",
    "\n",
    "for i in range(1, 11):\n",
    "\tprint(f'{a} x {i} = {a*i}')\n",
    "\n",
    "\n",
    "# python3 multiplica.py\n",
    "\n",
    "# Informe um número : 4\n",
    "\n",
    "# output:\n",
    "\n",
    "# -------------\n",
    "# Multiplicação\n",
    "# -------------\n",
    "# Give a number:4\n",
    "# 4 x 1 = 4\n",
    "# 4 x 2 = 8\n",
    "# 4 x 3 = 12\n",
    "# 4 x 4 = 16\n",
    "# 4 x 5 = 20\n",
    "# 4 x 6 = 24\n",
    "# 4 x 7 = 28\n",
    "# 4 x 8 = 32\n",
    "# 4 x 9 = 36\n",
    "# 4 x 10 = 40"
   ]
  }
 ],
 "metadata": {
  "language_info": {
   "name": "python"
  }
 },
 "nbformat": 4,
 "nbformat_minor": 2
}
