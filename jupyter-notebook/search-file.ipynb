{
 "cells": [
  {
   "cell_type": "code",
   "execution_count": null,
   "metadata": {},
   "outputs": [],
   "source": [
    "from pathlib import Path\n",
    "\n",
    "f = Path(input('Nome do arquivo a ser pesquisado: '))\n",
    "d = Path(input('Diretório a ser pesquisado: '))\n",
    "\n",
    "for i in d.rglob('*'):\n",
    "    if i.name.lower() == f.name.lower():\n",
    "        if i.is_file():\n",
    "            print(i)"
   ]
  }
 ],
 "metadata": {
  "language_info": {
   "name": "python"
  }
 },
 "nbformat": 4,
 "nbformat_minor": 2
}
