{
 "cells": [
  {
   "cell_type": "code",
   "execution_count": null,
   "metadata": {},
   "outputs": [],
   "source": [
    "import time\n",
    "\n",
    "arq = open('lista.txt', 'a')\n",
    "\n",
    "nome = raw_input(\"Informe seu nome: \")\n",
    "idade = raw_input(\"Informe sua idade: \")\n",
    "sexo = raw_input(\"Informe seu sexo: \")\n",
    "\n",
    "buffer = 'Nome: '+ str(nome)  + ' Idade:' + str(idade) + ' Sexo: ' + str(sexo)\n",
    "print(buffer)\n",
    "\n",
    "\n",
    "arq.write(time.asctime() + ' ' +str(nome) + ' ' + str(idade) + ' ' + str(sexo)+ '\\n')\n",
    "arq.close()"
   ]
  }
 ],
 "metadata": {
  "language_info": {
   "name": "python"
  }
 },
 "nbformat": 4,
 "nbformat_minor": 2
}
