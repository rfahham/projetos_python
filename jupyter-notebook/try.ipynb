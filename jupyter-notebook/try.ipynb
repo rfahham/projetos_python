{
 "cells": [
  {
   "cell_type": "markdown",
   "metadata": {},
   "source": [
    "# Utilizando o \"try\""
   ]
  },
  {
   "cell_type": "markdown",
   "metadata": {},
   "source": [
    "\n",
    "Em Python, a estrutura try é usada para capturar e tratar exceções, ou seja, erros que ocorrem durante a execução de um programa. \n",
    "\n",
    "A ideia é permitir que o código continue a ser executado mesmo que ocorra um erro em uma parte específica. \n",
    "\n",
    "A estrutura básica é a seguinte:"
   ]
  },
  {
   "cell_type": "code",
   "execution_count": null,
   "metadata": {},
   "outputs": [],
   "source": [
    "try:\n",
    "    # Código que pode causar uma exceção\n",
    "    resultado = 10 / 0  # Exemplo de operação que causa uma exceção (divisão por zero)\n",
    "except ZeroDivisionError:\n",
    "    # Código a ser executado se uma exceção do tipo ZeroDivisionError ocorrer\n",
    "    print(\"Não é possível dividir por zero!\")\n",
    "except Exception as e:\n",
    "    # Código a ser executado para qualquer outra exceção\n",
    "    print(f\"Ocorreu um erro: {e}\")\n",
    "else:\n",
    "    # Código a ser executado se não houver exceção\n",
    "    print(\"Operação realizada com sucesso!\")\n",
    "finally:\n",
    "    # Código a ser executado independentemente de ocorrer ou não uma exceção\n",
    "    print(\"Fim do bloco try-except.\")"
   ]
  },
  {
   "cell_type": "markdown",
   "metadata": {},
   "source": [
    "Vamos detalhar cada parte:\n",
    "\n",
    "Bloco try: Aqui você coloca o código que pode potencialmente causar uma exceção.\n",
    "\n",
    "Bloco except: Aqui você define o que fazer se uma exceção específica ocorrer. Você pode ter múltiplos blocos except para diferentes tipos de exceções. É uma boa prática capturar exceções específicas antes de capturar a exceção genérica com Exception.\n",
    "\n",
    "Bloco else: Este bloco é opcional. Se o código no bloco try não gerar uma exceção, o código dentro do else será executado. Isso é útil para código que deve ser executado somente se o try for bem-sucedido.\n",
    "\n",
    "Bloco finally: Este bloco é opcional. O código dentro do finally será sempre executado, independentemente de ocorrer uma exceção ou não. Isso é útil para realizar ações de limpeza, como fechar arquivos ou liberar recursos."
   ]
  },
  {
   "cell_type": "markdown",
   "metadata": {},
   "source": [
    "## Lendo um arquivo..."
   ]
  },
  {
   "cell_type": "code",
   "execution_count": null,
   "metadata": {},
   "outputs": [],
   "source": [
    "try:\n",
    "    # Tentativa de abrir e ler um arquivo\n",
    "    with open('exemplo.txt', 'r') as arquivo:\n",
    "        conteudo = arquivo.read()\n",
    "        print(conteudo)\n",
    "except FileNotFoundError:\n",
    "    # Executado se o arquivo não for encontrado\n",
    "    print(\"O arquivo não foi encontrado.\")\n",
    "except IOError:\n",
    "    # Executado se houver um erro de entrada/saída\n",
    "    print(\"Erro ao ler o arquivo.\")\n",
    "else:\n",
    "    # Executado se não houver exceção\n",
    "    print(\"Arquivo lido com sucesso!\")\n",
    "finally:\n",
    "    # Esse bloco será executado independentemente do resultado\n",
    "    print(\"Bloco finally executado.\")\n"
   ]
  },
  {
   "cell_type": "markdown",
   "metadata": {},
   "source": [
    "Dicas:\n",
    "\n",
    "Use exceções específicas: Capturar exceções específicas é geralmente melhor do que capturar exceções genéricas porque permite uma melhor gestão dos erros e evita a captura de exceções inesperadas.\n",
    "\n",
    "Evite capturar exceções genéricas sem necessidade: Capturar Exception pode ocultar erros que você não está esperando e tornar a depuração mais difícil.\n",
    "\n",
    "Sempre feche recursos: Use o bloco finally ou gerenciadores de contexto (with) para garantir que recursos como arquivos sejam fechados corretamente, mesmo quando ocorrem exceções."
   ]
  }
 ],
 "metadata": {
  "language_info": {
   "name": "python"
  }
 },
 "nbformat": 4,
 "nbformat_minor": 2
}
