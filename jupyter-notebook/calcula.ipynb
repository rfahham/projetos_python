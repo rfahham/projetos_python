{
 "cells": [
  {
   "cell_type": "code",
   "execution_count": null,
   "metadata": {},
   "outputs": [],
   "source": [
    "s = 0\n",
    "for c in range(0,4):\n",
    "    n = int(input(\"Digite um valor: \"))\n",
    "    s += n\n",
    "print(\"O somatório de todos os números foi: {}\".format(s))"
   ]
  },
  {
   "cell_type": "code",
   "execution_count": null,
   "metadata": {},
   "outputs": [],
   "source": [
    "\n"
   ]
  },
  {
   "cell_type": "code",
   "execution_count": null,
   "metadata": {},
   "outputs": [],
   "source": [
    "preco = float(input('Qual é o preço do produto? R$ '))\n",
    "desconto = float(input('Qual o valor do desconto? '))\n",
    "novo = preco - (preco * desconto / 100)\n",
    "\n",
    "print('O produto que custava R${:.2f}, na promoção com desconto de {}% vai custar R${:.2f}.'.format(preco, desconto, novo))\n",
    "\n",
    "\n",
    "# 1500*10/100\n",
    "\n",
    "# 1500 valor\n",
    "# 10 desconto\n",
    "# 100 por cento"
   ]
  },
  {
   "cell_type": "code",
   "execution_count": null,
   "metadata": {},
   "outputs": [],
   "source": [
    "print('')\n",
    "print('Calcula a diferença percentual entre dois valores!!!')\n",
    "print('')\n",
    "\n",
    "valor1 = float(input('Digite o primeiro valor: '))\n",
    "valor2 = float(input('Digite o segundo valor: '))\n",
    "\n",
    "base = valor1 / 100\n",
    "\n",
    "diferenca = valor2 - valor1\n",
    "\n",
    "percentagem = diferenca / base\n",
    "\n",
    "print('')\n",
    "print('A diferença percentual entre {} e {} é {:.2f}%'.format(valor1, valor2, percentagem))\n",
    "print('')\n"
   ]
  },
  {
   "cell_type": "code",
   "execution_count": null,
   "metadata": {},
   "outputs": [],
   "source": [
    "print(\"-\"*40)\n",
    "print(\"  Calcula a média das notas informadas\")\n",
    "print(\"-\"*40)\n",
    "print(\"\")\n",
    "\n",
    "cores = {\n",
    "    'verde' : '\\033[1;32m',\n",
    "    'vermelho' : '\\033[1;31m',\n",
    "    'limpa' : '\\033[m'\n",
    "    }\n",
    "\n",
    "nome = input(\"Insira o nome do aluno: \")\n",
    "nota1 = int(input(\"Insira a primeira nota: \"))\n",
    "nota2 = int(input(\"Insira a segunda nota: \"))\n",
    "nota3 = int(input(\"Insira a terceira nota: \"))\n",
    "nome = \"Ricardo\"\n",
    "\n",
    "notas=[nota1, nota2, nota3]\n",
    "media = sum(notas) / len(notas)\n",
    "print(\"A média das notas do aluno {} é {}: \".format(nome, media))\n",
    "print(\"\")\n",
    "\n",
    "if (media >= 6):\n",
    "    resultado = \"Aprovado\"\n",
    "    print(\"O aluno {} foi : {}{}{}\".format(nome, cores['verde'], resultado, cores['limpa']))\n",
    "    print(\"\")\n",
    "else:\n",
    "    resultado = \"Reprovado\"\n",
    "    print(\"O aluno {} foi : {}{}{}\".format(nome, cores['vermelho'], resultado, cores['limpa']))\n",
    "    print(\"\")"
   ]
  },
  {
   "cell_type": "code",
   "execution_count": null,
   "metadata": {},
   "outputs": [],
   "source": [
    "print(\"-\"*70)\n",
    "print(\"Verifica o somatório de vendas e compara com a meta estipulada\")\n",
    "print(\"-\"*70)\n",
    "print(\"\")\n",
    "\n",
    "vendedores = {\n",
    "    \"João\": 1500,\n",
    "    \"Marlon\": 5000,\n",
    "    \"Ana\": 3500,\n",
    "    \"Andre\": 5500,\n",
    "    \"Maria\": 4000,\n",
    "    \"Luiz\": 2500,\n",
    "    }\n",
    "\n",
    "print(\"Nome dos vendedores:\")\n",
    "print(vendedores.keys())\n",
    "print(\"\")\n",
    "\n",
    "print(\"Valor total das vendas:\")\n",
    "print(vendedores.values())\n",
    "print(\"\")\n",
    "\n",
    "print(\"Imprimindo o dicionário:\")\n",
    "print(vendedores.items())\n",
    "print(\"\")\n",
    "\n",
    "# Valor da meta\n",
    "meta = 3000\n",
    "\n",
    "# Função que verifica quais vendedores batetam a meta\n",
    "bateu_meta = [vendedor for vendedor in vendedores if vendedores[vendedor]>=meta]\n",
    "print(\"Vendedores batetam a meta:\")\n",
    "print(bateu_meta)\n",
    "print(\"\")\n",
    "\n",
    "# Função que verifica quais vendedores batetam a meta\n",
    "nao_bateu_meta = [vendedor for vendedor in vendedores if vendedores[vendedor]<=meta]\n",
    "print(\"Vendedores que não batetam a meta:\")\n",
    "print(nao_bateu_meta)\n",
    "print(\"\")"
   ]
  },
  {
   "cell_type": "code",
   "execution_count": null,
   "metadata": {},
   "outputs": [],
   "source": [
    "seguidores = 50\n",
    "comentarios = 50\n",
    "visualizacoes = 750\n",
    "\n",
    "condicoes = [\n",
    "\tseguidores > 100,\n",
    "\tcomentarios > 20,\n",
    "\tvisualizacoes > 500\n",
    "]\n",
    "\n",
    "if all(condicoes):\n",
    "\tprint(\"O perfil é bom !!!\")"
   ]
  },
  {
   "cell_type": "code",
   "execution_count": null,
   "metadata": {},
   "outputs": [],
   "source": [
    "print('{:=^40}'.format(' LOJAS GUANABARA '))\n",
    "preco = float(input('Valor da Compra: R$ '))\n",
    "opcao = 0\n",
    "while opcao != 5:\n",
    "\tprint('''\t\n",
    "    \t\t[ 1 ] À VISTA Dinheiro/Cheque 10 porcento de desconto.\n",
    "    \t\t[ 2 ] À Vista Cartão 5 porcento de desconto.\n",
    "    \t\t[ 3 ] 2 X no Cartão\n",
    "    \t\t[ 4 ] 3 X ou mais no Cartão\n",
    "    \t\t[ 5 ] Sair do Programa\n",
    "    \t\t''')\n",
    "\topcao = int(input('Qual é a opção? '))\n",
    "\tif opcao == 1:\n",
    "\t\ttotal = preco - (preco * 10/100)\n",
    "\t\tprint('Sua compra terá um desconto de 10% e ficará em R$ {:.2f}.'.format(total))\n",
    "\telif opcao ==2:\n",
    "\t\ttotal = preco - (preco * 5/100)\n",
    "\t\tprint('Sua compra terá um desconto de 5% e ficará em R$ {:.2f}.'.format(total))\n",
    "\telif opcao ==3:\n",
    "\t\ttotal = preco\n",
    "\t\tparcela = total /2\n",
    "\t\tprint('Sua compra será parcelada em 2X de R${:.2f} SEM JUROS.'.format(parcela))\n",
    "\telif opcao ==4:\n",
    "\t\ttotal = preco + (preco * 20/100)\n",
    "\t\ttotalparcelas = int(input('Quantas parcelas? '))\n",
    "\t\tparcela = total / totalparcelas\n",
    "\t\ttotalfinal = parcela * totalparcelas\n",
    "\t\tprint('Sua compra será parcelada em {}X de R$ {:.2f} e o TOTAL da compra ficará em R$ {:.2f}'.format(totalparcelas, parcela, totalfinal))\n",
    "\telif opcao ==5:\n",
    "\t\tprint('Fim do programa! ')\n",
    "\telse: \n",
    "\t\tprint('Opção inválida. Digite uma opçõa válida!')\n",
    "print('Volte Sempre!')"
   ]
  },
  {
   "cell_type": "code",
   "execution_count": null,
   "metadata": {},
   "outputs": [],
   "source": [
    "primeiro = int(input('Digite o primeiro termo: '))\n",
    "razao = int(input('Razão: '))\n",
    "decimo = primeiro + (10 - 1) * razao\n",
    "for c in range(primeiro, decimo + razao, razao):\n",
    "\tprint('{} - '.format(c))"
   ]
  },
  {
   "cell_type": "code",
   "execution_count": 1,
   "metadata": {},
   "outputs": [
    {
     "name": "stdout",
     "output_type": "stream",
     "text": [
      "-_-_-_-_-_-_-_-_-_-_-_-_-_-_-_-_-_-_-_-_\n",
      "Analizador de Triângulo\n",
      "-_-_-_-_-_-_-_-_-_-_-_-_-_-_-_-_-_-_-_-_\n",
      "\n",
      "Triângulo Escaleno - Triângulos escalenos são aqueles que possuem os três lados diferentes e, consequentemente, três ângulos internos diferentes.\n",
      "Triângulo Isóceles - Triângulos isósceles são aqueles que possuem dois lados iguais (mesmo comprimento) e um diferente.Geralmente o lado diferente é a base do triângulo, caso em que os ângulos da base serão iguais.\n",
      "Triângulo Retângulo - Triângulos retângulos são aqueles que possuem um ângulo reto, ou seja, um ângulo de exatamente 90°. Nos triângulos retângulos, o lado oposto ao ângulo reto se chama hipotenusa e os outros lados se chamam catetos. Os demais ângulos são agudos e complementares, pois sua soma é igual a 90°.\n",
      "Triângulo Acutângulo - Triângulos acutângulos são aqueles que possuem os três ângulos agudos, ou seja, menores que 90°.\n",
      "Triângulo Obtusângulo - Triângulos obtusângulos são aqueles que possuem um ângulo obtuso, ou seja, um ângulo maior que 90°.\n",
      "Triângulo Equilátero - Triângulos equiláteros são aqueles que possuem os três lados iguais (mesmo comprimento) e, consequentemente, três ângulos internos iguais de 60°. Pode ser chamado de equiângulo.\n",
      "\n"
     ]
    },
    {
     "ename": "KeyboardInterrupt",
     "evalue": "Interrupted by user",
     "output_type": "error",
     "traceback": [
      "\u001b[0;31m---------------------------------------------------------------------------\u001b[0m",
      "\u001b[0;31mKeyboardInterrupt\u001b[0m                         Traceback (most recent call last)",
      "Cell \u001b[0;32mIn[1], line 14\u001b[0m\n\u001b[1;32m     11\u001b[0m \u001b[38;5;28mprint\u001b[39m(\u001b[38;5;124m'\u001b[39m\u001b[38;5;124mTriângulo Equilátero - Triângulos equiláteros são aqueles que possuem os três lados iguais (mesmo comprimento) e, consequentemente, três ângulos internos iguais de 60°. Pode ser chamado de equiângulo.\u001b[39m\u001b[38;5;124m'\u001b[39m)\n\u001b[1;32m     12\u001b[0m \u001b[38;5;28mprint\u001b[39m(\u001b[38;5;124m'\u001b[39m\u001b[38;5;124m'\u001b[39m)\n\u001b[0;32m---> 14\u001b[0m r1 \u001b[38;5;241m=\u001b[39m \u001b[38;5;28mfloat\u001b[39m(\u001b[38;5;28;43minput\u001b[39;49m\u001b[43m(\u001b[49m\u001b[38;5;124;43m'\u001b[39;49m\u001b[38;5;124;43mPrimeiro Segmento: \u001b[39;49m\u001b[38;5;124;43m'\u001b[39;49m\u001b[43m)\u001b[49m)\n\u001b[1;32m     15\u001b[0m r2 \u001b[38;5;241m=\u001b[39m \u001b[38;5;28mfloat\u001b[39m(\u001b[38;5;28minput\u001b[39m(\u001b[38;5;124m'\u001b[39m\u001b[38;5;124mSegundo Segmento: \u001b[39m\u001b[38;5;124m'\u001b[39m))\n\u001b[1;32m     16\u001b[0m r3 \u001b[38;5;241m=\u001b[39m \u001b[38;5;28mfloat\u001b[39m(\u001b[38;5;28minput\u001b[39m(\u001b[38;5;124m'\u001b[39m\u001b[38;5;124mTerceiro Segmento: \u001b[39m\u001b[38;5;124m'\u001b[39m))\n",
      "File \u001b[0;32m~/.local/lib/python3.8/site-packages/ipykernel/kernelbase.py:1282\u001b[0m, in \u001b[0;36mKernel.raw_input\u001b[0;34m(self, prompt)\u001b[0m\n\u001b[1;32m   1280\u001b[0m     msg \u001b[38;5;241m=\u001b[39m \u001b[38;5;124m\"\u001b[39m\u001b[38;5;124mraw_input was called, but this frontend does not support input requests.\u001b[39m\u001b[38;5;124m\"\u001b[39m\n\u001b[1;32m   1281\u001b[0m     \u001b[38;5;28;01mraise\u001b[39;00m StdinNotImplementedError(msg)\n\u001b[0;32m-> 1282\u001b[0m \u001b[38;5;28;01mreturn\u001b[39;00m \u001b[38;5;28;43mself\u001b[39;49m\u001b[38;5;241;43m.\u001b[39;49m\u001b[43m_input_request\u001b[49m\u001b[43m(\u001b[49m\n\u001b[1;32m   1283\u001b[0m \u001b[43m    \u001b[49m\u001b[38;5;28;43mstr\u001b[39;49m\u001b[43m(\u001b[49m\u001b[43mprompt\u001b[49m\u001b[43m)\u001b[49m\u001b[43m,\u001b[49m\n\u001b[1;32m   1284\u001b[0m \u001b[43m    \u001b[49m\u001b[38;5;28;43mself\u001b[39;49m\u001b[38;5;241;43m.\u001b[39;49m\u001b[43m_parent_ident\u001b[49m\u001b[43m[\u001b[49m\u001b[38;5;124;43m\"\u001b[39;49m\u001b[38;5;124;43mshell\u001b[39;49m\u001b[38;5;124;43m\"\u001b[39;49m\u001b[43m]\u001b[49m\u001b[43m,\u001b[49m\n\u001b[1;32m   1285\u001b[0m \u001b[43m    \u001b[49m\u001b[38;5;28;43mself\u001b[39;49m\u001b[38;5;241;43m.\u001b[39;49m\u001b[43mget_parent\u001b[49m\u001b[43m(\u001b[49m\u001b[38;5;124;43m\"\u001b[39;49m\u001b[38;5;124;43mshell\u001b[39;49m\u001b[38;5;124;43m\"\u001b[39;49m\u001b[43m)\u001b[49m\u001b[43m,\u001b[49m\n\u001b[1;32m   1286\u001b[0m \u001b[43m    \u001b[49m\u001b[43mpassword\u001b[49m\u001b[38;5;241;43m=\u001b[39;49m\u001b[38;5;28;43;01mFalse\u001b[39;49;00m\u001b[43m,\u001b[49m\n\u001b[1;32m   1287\u001b[0m \u001b[43m\u001b[49m\u001b[43m)\u001b[49m\n",
      "File \u001b[0;32m~/.local/lib/python3.8/site-packages/ipykernel/kernelbase.py:1325\u001b[0m, in \u001b[0;36mKernel._input_request\u001b[0;34m(self, prompt, ident, parent, password)\u001b[0m\n\u001b[1;32m   1322\u001b[0m \u001b[38;5;28;01mexcept\u001b[39;00m \u001b[38;5;167;01mKeyboardInterrupt\u001b[39;00m:\n\u001b[1;32m   1323\u001b[0m     \u001b[38;5;66;03m# re-raise KeyboardInterrupt, to truncate traceback\u001b[39;00m\n\u001b[1;32m   1324\u001b[0m     msg \u001b[38;5;241m=\u001b[39m \u001b[38;5;124m\"\u001b[39m\u001b[38;5;124mInterrupted by user\u001b[39m\u001b[38;5;124m\"\u001b[39m\n\u001b[0;32m-> 1325\u001b[0m     \u001b[38;5;28;01mraise\u001b[39;00m \u001b[38;5;167;01mKeyboardInterrupt\u001b[39;00m(msg) \u001b[38;5;28;01mfrom\u001b[39;00m \u001b[38;5;28;01mNone\u001b[39;00m\n\u001b[1;32m   1326\u001b[0m \u001b[38;5;28;01mexcept\u001b[39;00m \u001b[38;5;167;01mException\u001b[39;00m:\n\u001b[1;32m   1327\u001b[0m     \u001b[38;5;28mself\u001b[39m\u001b[38;5;241m.\u001b[39mlog\u001b[38;5;241m.\u001b[39mwarning(\u001b[38;5;124m\"\u001b[39m\u001b[38;5;124mInvalid Message:\u001b[39m\u001b[38;5;124m\"\u001b[39m, exc_info\u001b[38;5;241m=\u001b[39m\u001b[38;5;28;01mTrue\u001b[39;00m)\n",
      "\u001b[0;31mKeyboardInterrupt\u001b[0m: Interrupted by user"
     ]
    }
   ],
   "source": [
    "print('-_'*20)\n",
    "print('Analizador de Triângulo')\n",
    "print('-_'*20)\n",
    "print('')\n",
    "\n",
    "print('Triângulo Escaleno - Triângulos escalenos são aqueles que possuem os três lados diferentes e, consequentemente, três ângulos internos diferentes.')\n",
    "print('Triângulo Isóceles - Triângulos isósceles são aqueles que possuem dois lados iguais (mesmo comprimento) e um diferente.Geralmente o lado diferente é a base do triângulo, caso em que os ângulos da base serão iguais.')\n",
    "print('Triângulo Retângulo - Triângulos retângulos são aqueles que possuem um ângulo reto, ou seja, um ângulo de exatamente 90°. Nos triângulos retângulos, o lado oposto ao ângulo reto se chama hipotenusa e os outros lados se chamam catetos. Os demais ângulos são agudos e complementares, pois sua soma é igual a 90°.')\n",
    "print('Triângulo Acutângulo - Triângulos acutângulos são aqueles que possuem os três ângulos agudos, ou seja, menores que 90°.')\n",
    "print('Triângulo Obtusângulo - Triângulos obtusângulos são aqueles que possuem um ângulo obtuso, ou seja, um ângulo maior que 90°.')\n",
    "print('Triângulo Equilátero - Triângulos equiláteros são aqueles que possuem os três lados iguais (mesmo comprimento) e, consequentemente, três ângulos internos iguais de 60°. Pode ser chamado de equiângulo.')\n",
    "print('')\n",
    "\n",
    "r1 = float(input('Primeiro Segmento: '))\n",
    "r2 = float(input('Segundo Segmento: '))\n",
    "r3 = float(input('Terceiro Segmento: '))\n",
    "\n",
    "if r1 < r2 + r3 and r2 < r1 + r3 and r3 < r1 + r2:\n",
    "\tprint('Os segmentos acima PODEM FORMAR um triângulo!')\n",
    "else:\n",
    "\tprint('Os segmentos acima NÃO PODEM FORMAR um triângulo!')"
   ]
  },
  {
   "cell_type": "code",
   "execution_count": null,
   "metadata": {},
   "outputs": [],
   "source": [
    "# from datetime import datetime\n",
    "# now = datetime.now()\n",
    "# print 'Now are {}:{}:{}'.format(now.hour, now.minute, now.second, )\n",
    "\n",
    "from time import gmtime, strftime\n",
    "time.strftime('%X %x %Z')\n",
    "print('%X %x %Z')\n"
   ]
  },
  {
   "cell_type": "code",
   "execution_count": null,
   "metadata": {},
   "outputs": [],
   "source": [
    "print(\"-\"*23)\n",
    "print(\"Definir Margem de Lucro\")\n",
    "print(\"-\"*23)\n",
    "\n",
    "custo_total = float(input(\"Digite o custo total: \"))\n",
    "\n",
    "margem_lucro = float(input(\"Digite a margem de lucro desejada %: \"))\n",
    "\n",
    "preco_venda = custo_total / (1 - margem_lucro)\n",
    "\n",
    "print('O preço de venda: ', preco_venda)\n",
    "\n",
    "lucro = preco_venda - custo_total\n",
    "\n",
    "print('O lucro será de: ', lucro)"
   ]
  },
  {
   "cell_type": "code",
   "execution_count": null,
   "metadata": {},
   "outputs": [],
   "source": [
    "print(\"-\"*25)\n",
    "print(\"Encontrar Margem de Lucro\")\n",
    "print(\"-\"*25)\n",
    "\n",
    "custo_total = float(input(\"Digite o valor do custo total: \"))\n",
    "\n",
    "preco_venda = float(input(\"Digite o valor de venda: \"))\n",
    "\n",
    "lucro = preco_venda - custo_total\n",
    "\n",
    "# print(lucro)\n",
    "\n",
    "margem = (lucro / preco_venda) * 100\n",
    "\n",
    "# print(margem)\n",
    "\n",
    "print('A margem foi de: ', margem, \"%\")"
   ]
  }
 ],
 "metadata": {
  "kernelspec": {
   "display_name": "Python 3",
   "language": "python",
   "name": "python3"
  },
  "language_info": {
   "codemirror_mode": {
    "name": "ipython",
    "version": 3
   },
   "file_extension": ".py",
   "mimetype": "text/x-python",
   "name": "python",
   "nbconvert_exporter": "python",
   "pygments_lexer": "ipython3",
   "version": "3.8.10"
  }
 },
 "nbformat": 4,
 "nbformat_minor": 2
}
