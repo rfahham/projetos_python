{
 "cells": [
  {
   "cell_type": "code",
   "execution_count": null,
   "metadata": {},
   "outputs": [],
   "source": [
    "from Tkinter import *\n",
    "\n",
    "class Application(Frame):\n",
    "    def say_hi(self):\n",
    "        print \"Hello everyone!\"\n",
    "\n",
    "    def createWidgets(self):\n",
    "        self.QUIT = Button(self)\n",
    "        self.QUIT[\"text\"] = \"QUIT\"\n",
    "        self.QUIT[\"fg\"]   = \"red\"\n",
    "        self.QUIT[\"command\"] =  self.quit\n",
    "\n",
    "        self.QUIT.pack({\"side\": \"left\"})\n",
    "\n",
    "        self.hi_there = Button(self)\n",
    "        self.hi_there[\"text\"] = \"Hello\",\n",
    "        self.hi_there[\"command\"] = self.say_hi\n",
    "\n",
    "        self.hi_there.pack({\"side\": \"left\"})\n",
    "\n",
    "    def __init__(self, master=None):\n",
    "        Frame.__init__(self, master)\n",
    "        self.pack()\n",
    "        self.createWidgets()\n",
    "\n",
    "root = Tk()\n",
    "app = Application(master=root)\n",
    "app.mainloop()\n",
    "root.destroy()\n",
    "\n",
    "\n",
    "# Abre uma janela com as opções"
   ]
  }
 ],
 "metadata": {
  "language_info": {
   "name": "python"
  }
 },
 "nbformat": 4,
 "nbformat_minor": 2
}
