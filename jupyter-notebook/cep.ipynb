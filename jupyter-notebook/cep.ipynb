{
 "cells": [
  {
   "cell_type": "code",
   "execution_count": null,
   "metadata": {},
   "outputs": [],
   "source": [
    "from tqdm import tqdm\n",
    "import time\n",
    "import requests\n",
    "\n",
    "# passo 1: pegar a lista de ceps\n",
    "with open(\"ceps.txt\", \"r\") as arquivo:\n",
    "    ceps = arquivo.read()\n",
    "ceps = ceps.split(\"\\n\")\n",
    "\n",
    "# passo 2: pegar as informações de cada cep\n",
    "enderecos_entrega = []\n",
    "for cep in tqdm(ceps):\n",
    "    link = f'https://cep.awesomeapi.com.br/json/{cep}'\n",
    "\n",
    "    # passo 3: verificar se a cidade é Rio de Janeiro\n",
    "    requisicao = requests.get(link)\n",
    "    resposta = requisicao.json()\n",
    "    cidade = resposta['city']\n",
    "    bairro = resposta['district']\n",
    "\n",
    "    # passo 4: printar o cep e o bairro\n",
    "    if cidade == \"Rio de Janeiro\":\n",
    "        enderecos_entrega.append((cep, bairro))\n",
    "        \n",
    "print(enderecos_entrega)"
   ]
  }
 ],
 "metadata": {
  "language_info": {
   "name": "python"
  }
 },
 "nbformat": 4,
 "nbformat_minor": 2
}
