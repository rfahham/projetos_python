{
 "cells": [
  {
   "cell_type": "markdown",
   "metadata": {},
   "source": [
    "# Criando um BOT com Telegram no Python"
   ]
  },
  {
   "cell_type": "markdown",
   "metadata": {},
   "source": [
    "> No Telegram porcurar por @botfather\n",
    "\n",
    "Botfather é o chefe dos bots do Telegram!\n",
    "\n",
    "> Comece uma conversa com o BotFather clicando no botão Iniciar (ou Start, na versão em inglês).\n",
    "\n",
    "    What can this bot do?\n",
    "    \n",
    "    BotFather is the one bot to rule them all. Use it to create new bot accounts and manage your existing bots.\n",
    "\n",
    "    About Telegram bots:\n",
    "    https://core.telegram.org/bots\n",
    "    Bot API manual:\n",
    "    https://core.telegram.org/bots/api\n",
    "\n",
    "    Contact @BotSupport if you have questions about the Bot API.\n",
    "\n",
    "> Digite /newbot e siga as instruções para configurar um novo bot. O BotFather dará a você um token que você usará para autenticar seu bot e conceder a ele acesso à API do Telegram.\n",
    "\n",
    "    Alright, a new bot. How are we going to call it? Please choose a name for your bot.\n",
    "\n",
    "> Digite o nome do canal\n",
    "\n",
    "    Good. Now let's choose a username for your bot. It must end in `bot`. Like this, for example: TetrisBot or tetris_bot.\n",
    "\n",
    "> Digite o username para o bot\n",
    "\n",
    "    exemplo_bot\n",
    "\n",
    "    Done! Congratulations on your new bot. You will find it at t.me/exemplo_bot. You can now add a description, about section and profile picture for your bot, see /help for a list of commands. By the way, when you've finished creating your cool bot, ping our Bot Support if you want a better username for it. Just make sure the bot is fully operational before you do this.\n",
    "\n",
    "    Use this token to access the HTTP API:\n",
    "    2346985476958:hgsfdliughsldghsdghusiudfhglisuhg\n",
    "    Keep your token secure and store it safely, it can be used by anyone to control your bot.\n",
    "\n",
    "    For a description of the Bot API, see this page: https://core.telegram.org/bots/api\n",
    "\n",
    "> Salvar o TOKEN em uma variável de ambiente\n",
    "\n",
    "    export BOT_TOKEN=2346985476958:hgsfdliughsldghsdghusiudfhglisuhg\n",
    "\n",
    "> Para conferir as variáveis de ambiente\n",
    "\n",
    "    env"
   ]
  },
  {
   "cell_type": "code",
   "execution_count": 1,
   "metadata": {},
   "outputs": [
    {
     "name": "stdout",
     "output_type": "stream",
     "text": [
      "{'ok': False, 'error_code': 404, 'description': 'Not Found'}\n"
     ]
    }
   ],
   "source": [
    "# Consultar as credenciais\n",
    "\n",
    "#consulta_id.py\n",
    "\n",
    "import os\n",
    "import requests\n",
    "\n",
    "TOKEN = os.environ.get('BOT_TOKEN')\n",
    "url = f\"https://api.telegram.org/bot{TOKEN}/getUpdates\"\n",
    "print(requests.get(url).json())"
   ]
  },
  {
   "cell_type": "markdown",
   "metadata": {},
   "source": [
    "No retorno terá o ID que será usado para o envio da mensagem.\n",
    "\n",
    "Salvar o ID em outra variável de ambiente\n",
    "\n",
    "export BOT_ID=1543546235"
   ]
  },
  {
   "cell_type": "code",
   "execution_count": null,
   "metadata": {},
   "outputs": [],
   "source": [
    "import requests\n",
    "import random\n",
    "\n",
    "TOKEN = \"\"\n",
    "CHAT_ID = \"\"\n",
    "MESSAGE = \"hello from your telegram bot\"\n",
    "x = random.random()\n",
    "\n",
    "# url = f\"https://api.telegram.org/bot{TOKEN}/getUpdates\"\n",
    "\n",
    "url = f\"https://api.telegram.org/bot{TOKEN}/sendMessage?chat_id={CHAT_ID}&text={MESSAGE}\"\n",
    "\n",
    "print(requests.get(url).json())"
   ]
  },
  {
   "cell_type": "markdown",
   "metadata": {},
   "source": [
    "> Enviando mensagem\n",
    "\n",
    "Crie um arquivo enviando_mensagem.py"
   ]
  },
  {
   "cell_type": "code",
   "execution_count": null,
   "metadata": {},
   "outputs": [],
   "source": [
    "import os\n",
    "import requests\n",
    "\n",
    "TOKEN = os.environ.get('BOT_TOKEN')\n",
    "chat_id = os.environ.get('BOT_ID')\n",
    "message = \"hello from your telegram bot\"\n",
    "\n",
    "url = f\"https://api.telegram.org/bot{TOKEN}/sendMessage?chat_id={chat_id}&text={message}\"\n",
    "print(requests.get(url).json())"
   ]
  },
  {
   "cell_type": "markdown",
   "metadata": {},
   "source": [
    "As mensgens serão enviadas para o link com o nome do bot criado.\n",
    "\n",
    "t.me/exemplo_bot"
   ]
  }
 ],
 "metadata": {
  "kernelspec": {
   "display_name": "Python 3",
   "language": "python",
   "name": "python3"
  },
  "language_info": {
   "codemirror_mode": {
    "name": "ipython",
    "version": 3
   },
   "file_extension": ".py",
   "mimetype": "text/x-python",
   "name": "python",
   "nbconvert_exporter": "python",
   "pygments_lexer": "ipython3",
   "version": "3.8.10"
  }
 },
 "nbformat": 4,
 "nbformat_minor": 2
}
