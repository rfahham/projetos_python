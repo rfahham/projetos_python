{
 "cells": [
  {
   "cell_type": "code",
   "execution_count": null,
   "metadata": {},
   "outputs": [],
   "source": [
    "print('=============================')\n",
    "print('Trabalhando com Comprehension')\n",
    "print('=============================')\n",
    "print()\n",
    "\n",
    "#List\n",
    "S = \"Ricardo Fahham\"\n",
    "[i for i in S]\n",
    "\n",
    "# Set\n",
    "S = \"Ricardo Fahham\"\n",
    "{i for i in S}\n",
    "\n",
    "\n",
    "# Dictionary\n",
    "S = \"Ricardo Fahham\"\n",
    "{i: ord(i) for i in S}"
   ]
  }
 ],
 "metadata": {
  "language_info": {
   "name": "python"
  }
 },
 "nbformat": 4,
 "nbformat_minor": 2
}
