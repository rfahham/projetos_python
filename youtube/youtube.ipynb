{
 "cells": [
  {
   "cell_type": "markdown",
   "metadata": {},
   "source": []
  },
  {
   "cell_type": "code",
   "execution_count": 1,
   "metadata": {},
   "outputs": [
    {
     "name": "stdout",
     "output_type": "stream",
     "text": [
      "Defaulting to user installation because normal site-packages is not writeable\n",
      "Collecting pytube\n",
      "  Downloading pytube-15.0.0-py3-none-any.whl (57 kB)\n",
      "\u001b[2K     \u001b[90m━━━━━━━━━━━━━━━━━━━━━━━━━━━━━━━━━━━━━━━━\u001b[0m \u001b[32m57.6/57.6 KB\u001b[0m \u001b[31m1.5 MB/s\u001b[0m eta \u001b[36m0:00:00\u001b[0m\n",
      "\u001b[?25hInstalling collected packages: pytube\n",
      "Successfully installed pytube-15.0.0\n"
     ]
    }
   ],
   "source": [
    "! pip install pytube"
   ]
  },
  {
   "cell_type": "code",
   "execution_count": null,
   "metadata": {},
   "outputs": [],
   "source": [
    "from pytube import YouTube\n",
    "\n",
    "\n",
    "def baixar_video(url):\n",
    "    try:\n",
    "        # Cria um objeto YouTube com a URL fornecida\n",
    "        video = \"https://www.youtube.com/watch?v=7gmKpY78J20\"\n",
    "\n",
    "        # Exibe as informações do vídeo\n",
    "        print(f\"Baixando: {video.title}\")\n",
    "\n",
    "        # Seleciona o fluxo de maior qualidade (vídeo + áudio)\n",
    "        stream = video.streams.get_highest_resolution()\n",
    "\n",
    "        # Baixa o vídeo para o diretório atual\n",
    "        stream.download()\n",
    "\n",
    "        print(f\"Vídeo '{video.title}' baixado com sucesso!\")\n",
    "    except Exception as e:\n",
    "        print(f\"Erro ao baixar o vídeo: {e}\")\n",
    "\n",
    "if __name__ == \"__main__\":\n",
    "    # Solicita a URL do vídeo do usuário\n",
    "    url = input(\"Digite a URL do vídeo do YouTube: \")\n",
    "    baixar_video(url)\n"
   ]
  }
 ],
 "metadata": {
  "kernelspec": {
   "display_name": "Python 3",
   "language": "python",
   "name": "python3"
  },
  "language_info": {
   "codemirror_mode": {
    "name": "ipython",
    "version": 3
   },
   "file_extension": ".py",
   "mimetype": "text/x-python",
   "name": "python",
   "nbconvert_exporter": "python",
   "pygments_lexer": "ipython3",
   "version": "3.10.12"
  }
 },
 "nbformat": 4,
 "nbformat_minor": 2
}
