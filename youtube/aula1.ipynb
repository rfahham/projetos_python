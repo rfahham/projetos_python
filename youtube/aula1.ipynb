{
 "cells": [
  {
   "cell_type": "code",
   "execution_count": null,
   "metadata": {},
   "outputs": [],
   "source": [
    "# Aula Python"
   ]
  },
  {
   "cell_type": "markdown",
   "metadata": {},
   "source": [
    "- Inteiros (int)\n",
    "    \n",
    "    Os inteiros em Python são números inteiros sem parte decimal. \n",
    "    Eles podem ser positivos ou negativos. \n",
    "    Por exemplo, 10, -5, 0 são exemplos de inteiros em Python.\n",
    "\n",
    "- Números de ponto flutuante (float)\n",
    "    \n",
    "    Os números de ponto flutuante em Python são números com parte decimal. \n",
    "    Eles podem representar números reais, como 3.14, -2.5, 0.0.\n",
    "\n",
    "- Strings (str)\n",
    "    \n",
    "    As strings em Python são utilizadas para representar sequências de caracteres. \n",
    "    Elas são definidas entre aspas simples ou duplas. \n",
    "    Por exemplo, “Olá, mundo!” é uma string em Python.\n",
    "\n",
    "- Listas (list)\n",
    "    \n",
    "    As listas em Python são utilizadas para armazenar uma coleção ordenada de elementos. \n",
    "    Elas podem conter diferentes tipos de dados e podem ser modificadas. \n",
    "    Por exemplo, [1, 2, 3] é uma lista em Python.\n",
    "\n",
    "- Tuplas (tuple)\n",
    "\n",
    "    As tuplas em Python são semelhantes às listas, mas são imutáveis, ou seja, não podem ser modificadas após a sua criação. \n",
    "    Elas também podem conter diferentes tipos de dados. \n",
    "    Por exemplo, (1, 2, 3) é uma tupla em Python.\n",
    "\n",
    "- Dicionários (dict)\n",
    "    \n",
    "    Os dicionários em Python são utilizados para armazenar dados em pares chave-valor. \n",
    "    Cada elemento em um dicionário é acessado por sua chave única. \n",
    "    Por exemplo, {“nome”: “João”, “idade”: 30} é um dicionário em Python."
   ]
  },
  {
   "cell_type": "code",
   "execution_count": null,
   "metadata": {},
   "outputs": [],
   "source": [
    "print(\"Olá mundo !!!\")"
   ]
  },
  {
   "cell_type": "code",
   "execution_count": null,
   "metadata": {},
   "outputs": [],
   "source": [
    "print(5)\n",
    "print(5+5)\n",
    "print(55-5)\n",
    "print(5*5)\n",
    "print(5/5)"
   ]
  },
  {
   "cell_type": "code",
   "execution_count": null,
   "metadata": {},
   "outputs": [],
   "source": [
    "print(\"khamsa\")"
   ]
  },
  {
   "cell_type": "code",
   "execution_count": null,
   "metadata": {},
   "outputs": [],
   "source": [
    "nome = \"Ricardo\"\n",
    "sobrenome = \"Fahham\"\n",
    "print(nome, sobrenome)"
   ]
  },
  {
   "cell_type": "code",
   "execution_count": null,
   "metadata": {},
   "outputs": [],
   "source": [
    "nota1 = 5\n",
    "nota2 = 7\n",
    "nota3 = 9\n",
    "nota4 = 8\n",
    "media = (nota1+nota2+nota3+nota4)/4\n",
    "print(media)"
   ]
  },
  {
   "cell_type": "code",
   "execution_count": null,
   "metadata": {},
   "outputs": [],
   "source": [
    "print(nome, sobrenome, \"sua nota final foi:\", media, \"parabéns você passou de ano!!!\",)"
   ]
  },
  {
   "cell_type": "code",
   "execution_count": null,
   "metadata": {},
   "outputs": [],
   "source": [
    "frutas = [\"laranja\", \"banana\", \"caju\"]\n",
    "print(frutas)"
   ]
  },
  {
   "cell_type": "code",
   "execution_count": null,
   "metadata": {},
   "outputs": [],
   "source": [
    "print(frutas[1])"
   ]
  },
  {
   "cell_type": "code",
   "execution_count": null,
   "metadata": {},
   "outputs": [],
   "source": [
    "frutas.append(\"mamão\")\n",
    "print(frutas)"
   ]
  },
  {
   "cell_type": "code",
   "execution_count": null,
   "metadata": {},
   "outputs": [],
   "source": [
    "frutas.remove(\"banana\")\n",
    "print(frutas)"
   ]
  },
  {
   "cell_type": "code",
   "execution_count": null,
   "metadata": {},
   "outputs": [],
   "source": [
    "nota1 = 5\n",
    "nota2 = 7\n",
    "nota3 = 9\n",
    "nota4 = 8\n",
    "\n",
    "print(nota3 > nota1)\n",
    "print(nota3 < nota1)"
   ]
  },
  {
   "cell_type": "code",
   "execution_count": null,
   "metadata": {},
   "outputs": [],
   "source": [
    "ano = int(input(\"digite o ano que vc nasceu: \"))\n",
    "print(ano)\n",
    "print(type(ano) is int)\n",
    "print(type(ano) is str)\n",
    "\n",
    "idade = (2024 - ano)\n",
    "print(idade)"
   ]
  }
 ],
 "metadata": {
  "language_info": {
   "name": "python"
  }
 },
 "nbformat": 4,
 "nbformat_minor": 2
}
