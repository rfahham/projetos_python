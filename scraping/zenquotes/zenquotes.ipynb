{
 "cells": [
  {
   "cell_type": "markdown",
   "metadata": {},
   "source": [
    "# Palavras instantâneas de inspiração\n",
    "\n",
    "Scraping para listar frases do site Zenquotes.io\n",
    "\n",
    "Zenquotes.io é uma API simples que pode ser usada para buscar citações de figuras influentes ao longo da história no formato JSON. "
   ]
  },
  {
   "cell_type": "code",
   "execution_count": null,
   "metadata": {},
   "outputs": [],
   "source": [
    "! pip install requests beautifulsoup4"
   ]
  },
  {
   "cell_type": "code",
   "execution_count": 2,
   "metadata": {},
   "outputs": [
    {
     "name": "stdout",
     "output_type": "stream",
     "text": [
      "1 frases salvas em 'frases.txt'.\n"
     ]
    }
   ],
   "source": [
    "import requests\n",
    "from bs4 import BeautifulSoup\n",
    "\n",
    "# URL do site que você deseja fazer scraping\n",
    "url = \"https://zenquotes.io\"\n",
    "\n",
    "# Fazer a requisição para a página\n",
    "response = requests.get(url)\n",
    "\n",
    "# Verificar se a requisição foi bem-sucedida\n",
    "if response.status_code == 200:\n",
    "    # Criar um objeto BeautifulSoup para fazer a análise da página\n",
    "    soup = BeautifulSoup(response.text, 'html.parser')\n",
    "    \n",
    "    # Encontrar todos os elementos <h1> na página\n",
    "    h1_elements = soup.find_all('h1')\n",
    "    \n",
    "    # Extrair o texto dos elementos <h1>, remover aspas e espaços adicionais\n",
    "    frases = [h1.get_text().replace('“', '').replace('”', '').strip() for h1 in h1_elements]\n",
    "\n",
    "    # Salvar as frases em um arquivo (modo append)\n",
    "    with open('frases.txt', 'a') as file:\n",
    "        for frase in frases:\n",
    "            file.write(frase + '\\n')\n",
    "\n",
    "    print(f\"{len(frases)} frases salvas em 'frases.txt'.\")\n",
    "else:\n",
    "    print(f\"Falha na requisição: {response.status_code}\")\n",
    "\n"
   ]
  }
 ],
 "metadata": {
  "kernelspec": {
   "display_name": "Python 3",
   "language": "python",
   "name": "python3"
  },
  "language_info": {
   "codemirror_mode": {
    "name": "ipython",
    "version": 3
   },
   "file_extension": ".py",
   "mimetype": "text/x-python",
   "name": "python",
   "nbconvert_exporter": "python",
   "pygments_lexer": "ipython3",
   "version": "3.10.12"
  }
 },
 "nbformat": 4,
 "nbformat_minor": 2
}
