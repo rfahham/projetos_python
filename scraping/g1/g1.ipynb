{
 "cells": [
  {
   "cell_type": "markdown",
   "metadata": {},
   "source": [
    "# Eleições\n",
    "\n",
    "Scraping para listar as URLs dos municípios do site como o G1"
   ]
  },
  {
   "cell_type": "code",
   "execution_count": 5,
   "metadata": {},
   "outputs": [
    {
     "name": "stdout",
     "output_type": "stream",
     "text": [
      "Defaulting to user installation because normal site-packages is not writeable\n",
      "Requirement already satisfied: requests in /home/rfahham/.local/lib/python3.10/site-packages (2.32.3)\n",
      "Requirement already satisfied: beautifulsoup4 in /home/rfahham/.local/lib/python3.10/site-packages (4.12.3)\n",
      "Requirement already satisfied: charset-normalizer<4,>=2 in /home/rfahham/.local/lib/python3.10/site-packages (from requests) (3.3.2)\n",
      "Requirement already satisfied: certifi>=2017.4.17 in /usr/local/lib/python3.10/dist-packages (from requests) (2024.7.4)\n",
      "Requirement already satisfied: idna<4,>=2.5 in /usr/lib/python3/dist-packages (from requests) (3.3)\n",
      "Requirement already satisfied: urllib3<3,>=1.21.1 in /usr/lib/python3/dist-packages (from requests) (1.26.5)\n",
      "Requirement already satisfied: soupsieve>1.2 in /home/rfahham/.local/lib/python3.10/site-packages (from beautifulsoup4) (2.6)\n"
     ]
    }
   ],
   "source": [
    "! pip install requests beautifulsoup4"
   ]
  },
  {
   "cell_type": "code",
   "execution_count": 9,
   "metadata": {},
   "outputs": [
    {
     "name": "stdout",
     "output_type": "stream",
     "text": [
      "0 URLs salvas em 'municipio.txt'.\n"
     ]
    }
   ],
   "source": [
    "import requests\n",
    "from bs4 import BeautifulSoup\n",
    "\n",
    "# URL do site que você deseja fazer scraping\n",
    "url = \"https://g1.globo.com\"\n",
    "\n",
    "# Fazer a requisição para a página\n",
    "response = requests.get(url)\n",
    "\n",
    "# Verificar se a requisição foi bem-sucedida\n",
    "if response.status_code == 200:\n",
    "    # Criar um objeto BeautifulSoup para fazer a análise da página\n",
    "    soup = BeautifulSoup(response.text, 'html.parser')\n",
    "    \n",
    "    # Encontrar todos os links na página\n",
    "    links = soup.find_all('a')\n",
    "    \n",
    "    # Filtrar os links que contêm os municípios\n",
    "    municipio_urls = []\n",
    "    for link in links:\n",
    "        href = link.get('href')\n",
    "        if href and \"municipio\" in href:\n",
    "            municipio_urls.append(href)\n",
    "\n",
    "    # Salvar as URLs em um arquivo\n",
    "    with open('municipio.txt', 'w') as file:\n",
    "        for url in municipio_urls:\n",
    "            file.write(url + '\\n')\n",
    "\n",
    "    print(f\"{len(municipio_urls)} URLs salvas em 'municipio.txt'.\")\n",
    "else:\n",
    "    print(f\"Falha na requisição: {response.status_code}\")\n"
   ]
  }
 ],
 "metadata": {
  "kernelspec": {
   "display_name": "Python 3",
   "language": "python",
   "name": "python3"
  },
  "language_info": {
   "codemirror_mode": {
    "name": "ipython",
    "version": 3
   },
   "file_extension": ".py",
   "mimetype": "text/x-python",
   "name": "python",
   "nbconvert_exporter": "python",
   "pygments_lexer": "ipython3",
   "version": "3.10.12"
  }
 },
 "nbformat": 4,
 "nbformat_minor": 2
}
