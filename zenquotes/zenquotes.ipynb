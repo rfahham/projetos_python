{
 "cells": [
  {
   "cell_type": "markdown",
   "metadata": {},
   "source": [
    "# Palavras instantâneas de inspiração\n",
    "\n",
    "Zenquotes.io é uma API simples que pode ser usada para buscar citações de figuras influentes ao longo da história no formato JSON. \n",
    "\n",
    "Gere uma matriz JSON de 50 citações aleatórias em cada solicitação"
   ]
  },
  {
   "cell_type": "code",
   "execution_count": null,
   "metadata": {},
   "outputs": [],
   "source": [
    "! pip install requests"
   ]
  },
  {
   "cell_type": "code",
   "execution_count": 5,
   "metadata": {},
   "outputs": [
    {
     "name": "stdout",
     "output_type": "stream",
     "text": [
      "50 frases salvas em 'frases.txt'.\n"
     ]
    }
   ],
   "source": [
    "import requests\n",
    "import json\n",
    "\n",
    "# URL da API\n",
    "url = \"https://zenquotes.io/api/quotes\"\n",
    "\n",
    "# Fazer a requisição para a API\n",
    "response = requests.get(url)\n",
    "\n",
    "# Verificar se a requisição foi bem-sucedida\n",
    "if response.status_code == 200:\n",
    "    # Carregar o conteúdo JSON\n",
    "    quotes = response.json()\n",
    "    \n",
    "    # Extrair as frases (removendo aspas, se necessário)\n",
    "    frases = [quote['q'] for quote in quotes]\n",
    "\n",
    "    # Salvar as frases em um arquivo\n",
    "    with open('frases.txt', 'w') as file:\n",
    "        for frase in frases:\n",
    "            file.write(frase + '\\n')\n",
    "\n",
    "    print(f\"{len(frases)} frases salvas em 'frases.txt'.\")\n",
    "else:\n",
    "    print(f\"Falha na requisição: {response.status_code}\")\n"
   ]
  }
 ],
 "metadata": {
  "kernelspec": {
   "display_name": "Python 3",
   "language": "python",
   "name": "python3"
  },
  "language_info": {
   "codemirror_mode": {
    "name": "ipython",
    "version": 3
   },
   "file_extension": ".py",
   "mimetype": "text/x-python",
   "name": "python",
   "nbconvert_exporter": "python",
   "pygments_lexer": "ipython3",
   "version": "3.10.12"
  }
 },
 "nbformat": 4,
 "nbformat_minor": 2
}
