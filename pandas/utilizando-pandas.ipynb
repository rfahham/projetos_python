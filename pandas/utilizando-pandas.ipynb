{
 "cells": [
  {
   "cell_type": "code",
   "execution_count": null,
   "metadata": {},
   "outputs": [],
   "source": [
    "! pip install pandas"
   ]
  },
  {
   "cell_type": "code",
   "execution_count": 5,
   "metadata": {},
   "outputs": [
    {
     "name": "stdout",
     "output_type": "stream",
     "text": [
      "      Nome  Idade\n",
      "0    Alice     25\n",
      "1      Bob     30\n",
      "2  Charlie     35\n",
      "O nome daqueles que tem mais de 28 anos:\n",
      "----------------------------------------\n",
      "      Nome  Idade\n",
      "1      Bob     30\n",
      "2  Charlie     35\n",
      "----------------------------------------\n",
      "O nome daqueles que tem mais de 28 anos:\n",
      "----------------------------------------\n",
      "    Nome  Idade\n",
      "0  Alice     25\n"
     ]
    }
   ],
   "source": [
    "import pandas as pd\n",
    "\n",
    "# Criar um DataFrame a partir de um dicionário\n",
    "data = {\n",
    "    'Nome': ['Alice', 'Bob', 'Charlie'],\n",
    "    'Idade': [25, 30, 35]\n",
    "}\n",
    "df = pd.DataFrame(data)\n",
    "\n",
    "# Exibir o DataFrame\n",
    "print(df)\n",
    "\n",
    "# Filtrar dados\n",
    "print(\"O nome daqueles que tem mais de 28 anos:\")\n",
    "print(\"----------------------------------------\")\n",
    "print(df[df['Idade'] > 28])\n",
    "print(\"----------------------------------------\")\n",
    "print(\"O nome daqueles que tem menos de 28 anos:\")\n",
    "print(\"----------------------------------------\")\n",
    "print(df[df['Idade'] < 28])\n"
   ]
  },
  {
   "cell_type": "code",
   "execution_count": 6,
   "metadata": {},
   "outputs": [
    {
     "name": "stdout",
     "output_type": "stream",
     "text": [
      "      Nome  Idade\n",
      "0    Alice     25\n",
      "1      Bob     30\n",
      "2  Charlie     35\n",
      "O nome daqueles que têm mais de 28 anos:\n",
      "----------------------------------------\n",
      "      Nome  Idade\n",
      "1      Bob     30\n",
      "2  Charlie     35\n",
      "Total: 2\n",
      "----------------------------------------\n",
      "O nome daqueles que têm menos de 28 anos:\n",
      "----------------------------------------\n",
      "    Nome  Idade\n",
      "0  Alice     25\n",
      "Total: 1\n"
     ]
    }
   ],
   "source": [
    "import pandas as pd\n",
    "\n",
    "# Criar um DataFrame a partir de um dicionário\n",
    "data = {\n",
    "    'Nome': ['Alice', 'Bob', 'Charlie'],\n",
    "    'Idade': [25, 30, 35]\n",
    "}\n",
    "df = pd.DataFrame(data)\n",
    "\n",
    "# Exibir o DataFrame\n",
    "print(df)\n",
    "\n",
    "# Filtrar dados\n",
    "print(\"O nome daqueles que têm mais de 28 anos:\")\n",
    "print(\"----------------------------------------\")\n",
    "maiores_28 = df[df['Idade'] > 28]\n",
    "print(maiores_28)\n",
    "print(f\"Total: {len(maiores_28)}\")\n",
    "\n",
    "print(\"----------------------------------------\")\n",
    "print(\"O nome daqueles que têm menos de 28 anos:\")\n",
    "print(\"----------------------------------------\")\n",
    "menores_28 = df[df['Idade'] < 28]\n",
    "print(menores_28)\n",
    "print(f\"Total: {len(menores_28)}\")\n"
   ]
  }
 ],
 "metadata": {
  "kernelspec": {
   "display_name": "Python 3",
   "language": "python",
   "name": "python3"
  },
  "language_info": {
   "codemirror_mode": {
    "name": "ipython",
    "version": 3
   },
   "file_extension": ".py",
   "mimetype": "text/x-python",
   "name": "python",
   "nbconvert_exporter": "python",
   "pygments_lexer": "ipython3",
   "version": "3.10.12"
  }
 },
 "nbformat": 4,
 "nbformat_minor": 2
}
