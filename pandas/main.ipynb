{
 "cells": [
  {
   "cell_type": "code",
   "execution_count": null,
   "metadata": {},
   "outputs": [],
   "source": [
    "import pandas as pd\n",
    "\n",
    "# Caminho para o arquivo CSV\n",
    "arquivo_csv = 'dados.csv'\n",
    "\n",
    "# Ler o arquivo CSV\n",
    "df = pd.read_csv('dados.csv')\n",
    "\n",
    "# Exibir o conteúdo do DataFrame\n",
    "print(df)"
   ]
  }
 ],
 "metadata": {
  "language_info": {
   "name": "python"
  }
 },
 "nbformat": 4,
 "nbformat_minor": 2
}
