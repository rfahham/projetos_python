{
 "cells": [
  {
   "cell_type": "code",
   "execution_count": 1,
   "metadata": {},
   "outputs": [
    {
     "name": "stdout",
     "output_type": "stream",
     "text": [
      "Lista 1: [17, 28, 30, 38, 43, 44]\n",
      "Lista 2: [3, 18, 21, 35, 55, 59]\n",
      "Lista 3: [3, 6, 10, 20, 35, 42]\n",
      "Lista 4: [2, 4, 5, 8, 41, 58]\n",
      "Lista 5: [27, 33, 43, 45, 51, 57]\n",
      "Lista 6: [23, 25, 27, 46, 49, 50]\n",
      "Lista 7: [9, 20, 24, 32, 42, 49]\n",
      "Lista 8: [22, 25, 31, 48, 55, 60]\n",
      "Lista 9: [9, 24, 31, 36, 51, 57]\n",
      "Lista 10: [10, 14, 27, 34, 37, 39]\n"
     ]
    }
   ],
   "source": [
    "import random\n",
    "\n",
    "# Gerar 10 listas com 6 números aleatórios cada\n",
    "for i in range(10):\n",
    "    lista = random.sample(range(1, 61), 6)  # 6 números entre 1 e 60\n",
    "    print(f\"Lista {i+1}: {sorted(lista)}\")\n"
   ]
  }
 ],
 "metadata": {
  "kernelspec": {
   "display_name": "Python 3",
   "language": "python",
   "name": "python3"
  },
  "language_info": {
   "codemirror_mode": {
    "name": "ipython",
    "version": 3
   },
   "file_extension": ".py",
   "mimetype": "text/x-python",
   "name": "python",
   "nbconvert_exporter": "python",
   "pygments_lexer": "ipython3",
   "version": "3.10.12"
  }
 },
 "nbformat": 4,
 "nbformat_minor": 2
}
